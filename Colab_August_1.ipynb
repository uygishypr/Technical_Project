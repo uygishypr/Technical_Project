{
  "cells": [
    {
      "cell_type": "markdown",
      "metadata": {
        "id": "view-in-github",
        "colab_type": "text"
      },
      "source": [
        "<a href=\"https://colab.research.google.com/github/uygishypr/Technical_Project/blob/master/Colab_August_1.ipynb\" target=\"_parent\"><img src=\"https://colab.research.google.com/assets/colab-badge.svg\" alt=\"Open In Colab\"/></a>"
      ]
    },
    {
      "cell_type": "code",
      "execution_count": 2,
      "metadata": {
        "id": "pswOy2T0-8Yk"
      },
      "outputs": [],
      "source": [
        "import pandas as pd\n",
        "import numpy as np\n",
        "from sklearn.tree import DecisionTreeClassifier\n",
        "from sklearn.model_selection import train_test_split\n",
        "from sklearn.metrics import accuracy_score\n",
        "from sklearn.metrics import precision_score\n",
        "from sklearn.metrics import f1_score\n",
        "from sklearn.metrics import precision_score, recall_score\n",
        "from sklearn.model_selection import cross_val_predict\n",
        "from sklearn.metrics import confusion_matrix\n",
        "from sklearn.ensemble import RandomForestClassifier\n",
        "from sklearn.linear_model import LogisticRegression\n",
        "from sklearn.svm import SVC \n",
        "from sklearn.ensemble import VotingClassifier\n",
        "from sklearn.model_selection import cross_val_score\n",
        "from sklearn.model_selection import RepeatedStratifiedKFold\n",
        "from sklearn.pipeline import Pipeline\n",
        "from sklearn.impute import KNNImputer\n",
        "from sklearn.metrics import plot_confusion_matrix\n",
        "from sklearn.metrics import plot_roc_curve\n",
        "from sklearn.metrics import classification_report\n",
        "from sklearn.metrics import f1_score\n",
        "from sklearn.preprocessing import OneHotEncoder\n",
        "from sklearn.model_selection import StratifiedKFold\n",
        "from keras.models import Sequential\n",
        "from keras.layers import Dense\n",
        "from keras.wrappers.scikit_learn import KerasClassifier\n",
        "from numpy import mean, nanargmin\n",
        "from numpy import std\n",
        "from matplotlib import pyplot as plt\n",
        "import xgboost as xgb\n",
        "from xgboost import XGBClassifier\n",
        "from xgboost import cv\n"
      ]
    },
    {
      "cell_type": "code",
      "execution_count": 4,
      "metadata": {
        "colab": {
          "base_uri": "https://localhost:8080/"
        },
        "id": "IP0Ppuk8-8Ym",
        "outputId": "e6aff149-acc4-421d-d1c5-3b0dced4bc99"
      },
      "outputs": [
        {
          "output_type": "stream",
          "name": "stdout",
          "text": [
            "['1-800-Flowers.Com Inc', '11 88 0 Solutions AG', '111 Inc', '17 Education & Technology Group Inc', '22nd Century Group Inc', '2G Energy AG', '2U Inc', '3M Co', '3P Learning Ltd', '5N Plus Inc', '888 Holdings PLC', 'A G Barr PLC', 'A O Smith Corp', 'A and W Revenue Royalties Income Fund', 'A2 Milk Company Ltd', 'A2B Australia Ltd', 'AAC Clyde Space AB', 'AAK AB (publ)', 'AAPICO Hitech PCL', 'AAR Corp', 'ABC Technologies Holdings Inc', 'ABC-Mart Inc', 'ABM Industries Inc', 'ACC Ltd', 'ACCO Brands Corp', 'ACS Actividades de Construccion y Servicios SA', 'ADAMA Ltd', 'ADT Inc', 'AECC Aviation Power Co Ltd', 'AECI Ltd', 'AECOM', 'AG Anadolu Grubu Holding AS', 'AGC Inc', 'AGCO Corp', 'AIA Engineering Ltd', 'AIC Mines Ltd', 'AK Alrosa PAO', 'AKR Corporindo Tbk PT', 'ALAFCO Avaiation Lease and Finance Co KSCP', 'ALD SA', 'ALS Ltd', 'AMA Group Ltd', 'AMETEK Inc', 'AMG Advanced Metallurgical Group NV', 'ANA Holdings Inc', 'ANTA Sports Products Ltd', 'AO World PLC', 'AP Moeller - Maersk A/S', 'APA Corp (US)', 'APi Group Corp', 'AQ Group AB', 'ARB Corp Ltd', 'ARC Document Solutions Inc', 'ARC Resources Ltd', 'AS Creation Tapeten AG', 'ASGN Inc', 'ASOS PLC', 'ATS Automation Tooling Systems Inc', 'AUTO1 Group SE', 'AVIC Electromechanical Systems Co Ltd', 'AVIC Heavy Machinery Co Ltd', 'AZZ Inc', 'Aalberts NV', 'Aamal Company QPSC', 'Aaon Inc', \"Aaron's Company Inc\", 'Ab Dynamics PLC', 'Abb Ltd', 'Abdullah Al Othaim Markets CompanySJSC', 'Abengoa SA', 'Abercrombie & Fitch Co', 'Aboitiz Equity Ventures Inc', 'Abraxas Petroleum Corp', 'Absolent Air Care Group AB', 'Abu Dhabi National Oil Company for Distribution PJSC', 'AcadeMedia AB', 'Academy Sports and Outdoors Inc', 'Acadian Timber Corp', 'Accel Entertainment Inc', 'Accell Group NV', 'Accent Group Ltd', 'Accor SA', 'Accrol Group Holdings PLC', 'Ace Hardware Indonesia Tbk PT', 'Acerinox SA', 'Ackermans & Van Haaren NV', 'Acme United Corp', 'Acroud AB', 'Acrow Formwork and Construction Services Ltd', 'Acuity Brands Inc', 'Acushnet Holdings Corp', 'Adairs Ltd', 'Adams Resources & Energy Inc', 'Adani Enterprises Ltd', 'Adani Ports and Special Economic Zone Ltd', 'Adaro Energy Indonesia TBK PT', 'Adbri Ltd', 'Adcorp Holdings Ltd', 'Addtech AB', 'Adecco Group AG', 'Adecoagro SA', 'Adi Sarana Armada Tbk PT', 'Adidas AG', 'Adient PLC', 'Aditya Birla Fashion and Retail Ltd', 'Adtalem Global Education Inc', 'Adval Tech Holding AG', 'AdvanSix Inc', 'Advance Auto Parts Inc', 'Advanced Drainage Systems Inc', 'Advanced Emissions Solutions Inc', 'Advanced Petrochemical Co SJSC', 'Advantage Energy Ltd', 'Advent Technologies Holdings Inc', 'Advtech Ltd', 'Aecc Aero Engine Control Co Ltd', 'Aecon Group Inc', 'Aeffe SpA', 'Aegean Airlines SA', 'Aemetis Inc', 'Aena SME SA', 'Aenza SAA', 'Aeon Co Ltd', 'AerCap Holdings NV', 'AerSale Corp', 'Aeris Resources Ltd', 'AeroVironment Inc', 'Aeroflot-Rossiyskiye Avialinii PAO', 'Aerojet Rocketdyne Holdings Inc', 'Aeroporto Guglielmo Marconi di Bologna SpA', 'Aeroports de Paris SA', 'Af Gruppen ASA', 'Africa Oil Corp', 'African Rainbow Minerals Ltd', 'Afry AB', 'Afya Ltd', 'Ag Growth International Inc', 'Ageagle Aerial Systems Inc', 'Agility Public Warehousing Company KSCP', 'Agnico Eagle Mines Ltd', 'Agrana Beteiligungs AG', 'AgroFresh Solutions Inc', 'Agrometal Soc Anon Ind', 'Ahlers AG', 'Aichi Steel Corp', 'Ainsworth Game Technology Ltd', 'Air Canada', 'Air China Ltd', 'Air France KLM SA', 'Air Lease Corp', 'Air New Zealand Ltd', 'Air Products and Chemicals Inc', 'Air Transport Services Group Inc', 'Air Water Inc', 'AirBoss of America Corp', 'Airbnb Inc', 'Airbus SE', 'Airports of Thailand PCL', 'Airtac International Group', 'Aisin Corp', 'Aitken Spence PLC', 'Ajinomoto Co Inc', 'Akastor ASA', 'Akcansa Cimento Sanayi ve Ticaret AS', 'Aker ASA', 'Aker BP ASA', 'Aker Biomarine ASA', 'Aker Carbon Capture ASA', 'Aker Solutions ASA', 'Akkhie Prakarn Public Company Limited', 'Akron PAO', 'Aksa Akrilik Kimya Sanayii AS', 'Akva Group ASA', 'Akwel SA', 'Akzo Nobel NV', 'Al Meera Consumer Goods Company QPSC', 'Alamo Group Inc', 'Alamos Gold Inc', 'Alaska Air Group Inc', 'Albany International Corp', 'Albemarle Corp', 'Albertsons Companies Inc', 'Alcoa Corp', 'Aleatica SAB de CV', 'Alelion Energy Systems AB', 'Alexium International Group Ltd', 'Alfa Laval AB', 'Alfa SAB de CV', 'Alfen NV', 'Alibaba Group Holding Ltd', 'Alibaba Health Information Technology Ltd', 'Alico Inc', 'Alicorp SAA', 'Alimak Group AB (publ)', 'Alimentation Couche-Tard Inc', 'Alkane Resources Ltd', 'Allane SE', 'Allegheny Technologies Inc', 'Allegiant Travel Co', 'Allegion PLC', 'Allegro.eu SA', 'Alliance Global Group Inc', 'Alliance Resource Partners LP', 'Allied Motion Technologies Inc', 'Alligo AB', 'Allison Transmission Holdings Inc', 'Allkem Ltd', 'Almacenes Exito SA', 'Almarai Company SJSC', 'Alpargatas SA', 'Alpek SAB de CV', 'Alpha Financial Markets Consulting PLC', 'Alpha Metallurgical Resources Inc', 'Alpha Pro Tech Ltd', 'Alsea SAB de CV', 'Alstom SA', 'Alta Equipment Group Inc', 'Altius Minerals Corp', 'Alto Ingredients Inc', 'Altra Industrial Motion Corp', 'Altri SGPS SA', 'Altria Group Inc', 'Aluar Aluminio Argentino SAIC', 'Aluflexpack AG', 'Alumasc Group PLC', 'Alumina Ltd', 'Aluminum Corporation of China Ltd', 'Alzchem Group AG', 'Amada Co Ltd', 'Amadeus Fire AG', 'Amazon.com Inc', 'Ambev SA', 'Ambuja Cements Ltd', 'Amcor PLC', 'Amerco', 'Ameresco Inc', \"America's CAR-MART Inc\", 'American Airlines Group Inc', 'American Axle & Manufacturing Holdings Inc', 'American Eagle Outfitters Inc', 'American Outdoor Brands Inc', 'American Public Education Inc', 'American Superconductor Corp', 'American Vanguard Corp', 'American Woodmark Corp', 'Americanas SA', 'Ammo Inc', 'AmorePacific Corp', 'Amorepacific Group', 'Ampco-Pittsburgh Corp', 'Amplify Energy Corp', 'Ampol Ltd', 'Amyris Inc', 'Anadolu Efes Biracilik ve Malt Sanayii AS', 'Andersons Inc', 'Andino Investment Holding SAA', 'Andrew Peller Ltd', 'Andrews Sykes Group PLC', 'Andritz AG', 'Aneka Tambang Tbk PT', 'Anel Elektrik Proje Taahhut ve Ticaret AS', 'Anexo Group PLC', 'Angang Steel Co Ltd', 'Angel Yeast Co Ltd', 'Angling Direct PLC', 'Anglo American PLC', 'Anglo American Platinum Ltd', 'Anglo Asian Mining PLC', 'Anglo Pacific Group PLC', 'Anglo-Eastern Plantations PLC', 'AngloGold Ashanti Ltd', 'Anheuser-Busch Inbev Afgekort Ab Inbev NV', 'Anhui Conch Cement Co Ltd', 'Anhui Expressway Co Ltd', 'Anhui Gujing Distillery Co Ltd', 'Anhui Honglu Steel Construction Group Co Ltd', 'Anhui Jianghuai Automobile Group Corp Ltd', 'Anhui Kouzi Distillery Co Ltd', 'Anhui Yingjia Distillery Co Ltd', 'Anhui Zhongding Sealing Parts Co Ltd', 'Anjoy Foods Group Co Ltd', 'Anora Group Oyj', 'Antarchile SA', 'Antares Vision SpA', 'Antero Midstream Corp', 'Antero Resources Corp', 'Antofagasta PLC', 'Aoyama Trading Co Ltd', 'Aperam SA', 'Apogee Enterprises Inc', 'Apollo Tyres Limited', 'Applied DB PCL', 'Applied Industrial Technologies Inc', 'Applus Services SA', 'Aptargroup Inc', 'Aptiv PLC', 'Aqua Metals Inc', 'Aquafil SpA', 'Arab Potash Co PLC', 'Arabtec Holding PJSC', 'Arafura Resources Ltd', 'Aramark', 'Aramex PJSC', 'Arbonia AG', 'ArcBest Corp', 'Arca Continental SAB de CV', 'Arcadis NV', 'Arcelik AS', 'ArcelorMittal SA', 'Arcelormittal South Africa Ltd', 'Arch Resources Inc', 'Archer-Daniels-Midland Co', 'Archrock Inc', 'Arcimoto Inc', 'Arco Platform Ltd', 'Arconic Corp (PITTSBURGH)', 'Arcos Dorados Holdings Inc', 'Arcosa Inc', 'Ardent Leisure Group Ltd', 'Ardmore Shipping Corp', 'Arendals Fossekompani ASA', 'Arezzo Industria e Comercio SA', 'Argan Inc', 'Argonaut Gold Inc', 'Aristocrat Leisure Ltd', 'Aritzia Inc', 'Arkema SA', 'Arko Corp.', 'Armstrong Flooring Inc', 'Armstrong World Industries Inc', 'Array Technologies Inc', 'Artemis Gold Inc', 'Aryzta AG', 'Asahi Group Holdings Ltd', 'Asahi Kasei Corp', 'Asbury Automotive Group Inc', 'Aselsan Elektronik Sanayi ve Ticaret AS', 'Ashland Global Holdings Inc', 'Ashok Leyland Ltd', 'Ashtead Group PLC', 'Asia Aviation PCL', 'Asia Cement Corp', 'Asian Paints Ltd', 'Asian Sea Corporation PCL', 'Asics Corp', 'Aspen Aerogels Inc', 'Aspen Group Inc', 'Aspire Global PLC', 'Aspo Plc', 'Assa Abloy AB', 'Asset World Corp PCL', 'Associated British Foods PLC', 'Assystem SA', 'Astec Industries Inc', 'Aston Martin Lagonda Global Holdings PLC', 'Astra Agro Lestari Tbk PT', 'Astra International Tbk PT', 'Astral Foods Ltd', 'Astronics Corp', 'Atacadao SA', 'Atalaya Mining PLC', 'Atento SA', 'Aterian Inc', 'Athabasca Oil Corp', 'Atkore Inc', 'Atlantia SpA', 'Atlas Air Worldwide Holdings Inc', 'Atlas Arteria Group', 'Atlas Copco AB', 'Atlas Corp', 'Atria Oyj', 'Auckland International Airport Ltd', 'Auction Technology Group PLC', 'Audi AG', 'Aumann AG', 'Aura Minerals Inc', 'Aurelia Metals Ltd', 'Auriant Mining AB', 'Aurizon Holdings Ltd', 'Aurubis AG', 'Austal Ltd', 'Austevoll Seafood ASA', 'Austin Engineering Ltd', 'Austral Group SAA', 'Australian Agricultural Company Ltd', 'Australian Strategic Materials (Holdings) Ltd', 'AutoCanada Inc', 'AutoNation Inc', 'Autobacs Seven Co Ltd', 'Autogrill SpA', 'Autoliv Inc', 'Autoneum Holding AG', 'Autopistas del Sol SA', 'Autozone Inc', 'Aveng Ltd', 'Avenue Supermarts Ltd', 'Avery Dennison Corp', 'Avi Ltd', 'AviChina Industry & Technology Co Ltd', 'Avianca Holdings SA', 'Avic Aviation High Technology Co Ltd', 'Avic Shenyang Aircraft Co Ltd', 'Avic XiAn Aircraft Industry Group Co Ltd', 'Avicopter PLC', 'Avient Corp', 'Avingtrans PLC', 'Avino Silver & Gold Mines Ltd', 'Avis Budget Group Inc', 'Avon Protection PLC', 'Axalta Coating Systems Ltd', 'Axfood AB', 'Axon Enterprise Inc', 'Aya Gold & Silver Inc', 'Ayala Corp', 'Azek Company Inc', 'Azelio AB', 'Azkoyen SA', 'Azul SA', 'B&G Foods Inc', 'B&M European Value Retail SA', 'B&S Group SA', 'B2Gold Corp', 'BAE Systems PLC', 'BAIC BluePark New Energy Technology Co Ltd', 'BAIC Motor Corp Ltd', 'BBMG Corp', 'BCI Minerals Ltd', 'BE Group AB (publ)', 'BEST Inc', 'BG Container Glass PCL', 'BGF Co Ltd', 'BGF Retail Co Ltd', 'BGSF Inc', 'BHG Group AB', 'BHP Group Ltd', 'BIM Birlesik Magazalar AS', \"BJ's Restaurants Inc\", \"BJ's Wholesale Club Holdings Inc\", 'BOC Aviation Ltd', 'BP PLC', 'BREMER LAGERHAUS-GESELLSCHAFT AG von 1877', 'BRF SA', 'BRP Inc', 'BTG Hotels Group Co Ltd', 'BTS Group AB', 'BTS Group Holdings PCL', 'BW LPG Ltd', 'BW Offshore Ltd', 'BWX Ltd', 'BWX Technologies Inc', 'BYD Co Ltd', 'Babcock & Wilcox Enterprises Inc', 'Babcock International Group PLC', 'Baby Bunting Group Ltd', 'Badger Infrastructure Solutions Ltd', 'Bahrain Duty Free Shop Complex BSC', 'Bajaj Auto Ltd', 'Baker Hughes Co', 'Bakkavor Group Plc', 'Baladna QPSC', 'Balchem Corp', 'Balco Group AB', 'Balfour Beatty PLC', 'Balkrishna Industries Ltd', 'Ball Corp', 'Ballard Power Systems Inc', \"Bally's Corp\", 'Bamboo Capital JSC', 'Bandai Namco Holdings Inc', 'Bang & Olufsen A/S', 'Bangchak Corporation PCL', 'Bangkok Aviation Fuel Services PCL', 'Bangkok Expressway and Metro PCL', 'Banpu PCL', 'Baoding Tianwei Baobian Electric Co Ltd', 'Baoshan Iron & Steel Co Ltd', 'Baozun Inc', 'Bapcor Ltd', 'Barito Pacific Tbk PT', 'Barloworld Ltd', 'Barnes & Noble Education Inc', 'Barnes Group Inc', 'Barratt Developments P L C', 'Barrett Business Services Inc', 'Barrick Gold Corp', 'Barry Callebaut AG', 'Base Resources Ltd', 'Basf Se', 'Basic Energy Services Inc', 'Basic Fit NV', 'Basic Net SpA', 'Basil Read Holdings Ltd', 'Bassett Furniture Industries Inc', 'Bata India Ltd', 'Bath & Body Works Inc', 'Bathurst Resources Ltd', 'Battalion Oil Corp', 'Bauer AG', 'BayWa AG', 'Bayerische Motoren Werke AG', 'Baytex Energy Corp', 'Beach Energy Ltd', 'Beacon Roofing Supply Inc', 'Beazer Homes USA Inc', 'Becle SAB de CV', 'Bed Bath & Beyond Inc', 'Befesa SA', 'Bega Cheese Ltd', 'Begbies Traynor Group PLC', 'Beiersdorf AG', 'Beijer Alma AB', 'Beijer Ref AB (publ)', 'Beijing Bei Mo Gao Ke Friction Material Co Ltd', 'Beijing Capital International Airport Co Ltd', 'Beijing Dabeinong Technology Group Co Ltd', 'Beijing New Building Materials Public Ltd Co', 'Beijing Oriental Yuhong Waterproof Technology Co Ltd', 'Beijing Originwater Technology Co Ltd', 'Beijing Roborock Technology Co Ltd', 'Beijing Sanju Environmental Protection & New Materials Co Ltd', 'Beijing Shunxin Agriculture Co Ltd', 'Beijing United Information Technology Co Ltd', 'Beijing Yanjing Brewery Co Ltd', 'Beijing-Shanghai High Speed Railway Co Ltd', 'Beiqi Foton Motor Co Ltd', 'Belimo Holding AG', 'Bell Equipment Ltd', 'Bell Food Group AG', 'Bellevue Gold Ltd', 'Bellring Brands Inc', 'Bellway PLC', 'Belo Sun Mining Corp', 'Benchmark Holdings PLC', 'Benesse Holdings Inc', 'Beneteau SA', 'Berentzen Gruppe AG', 'Berger Paints India Ltd', 'Bergman & Beving AB', 'Bergs Timber AB (publ)', 'Berjaya Corporation Bhd', 'Berkeley Energia Ltd', 'Berkeley Group Holdings PLC', 'Berli Jucker PCL', 'Bermaz Auto Bhd', 'Berry Corporation (Bry)', 'Berry Global Group Inc', 'Bertrandt AG', 'Besalco SA', 'Best Buy Co Inc', 'Bestore Co Ltd', 'Betmakers Technology Group Ltd', 'Betsson AB', 'Bewi ASA', 'Beyond Meat Inc', 'Bharat Electronics Ltd', 'Bharat Forge Ltd', 'Bharat Heavy Electricals Ltd', 'Bharat Petroleum Corporation Ltd', 'Bid Corporation Ltd', 'Bidvest Group Ltd', 'Biesse SpA', 'Biffa PLC', 'Big 5 Sporting Goods Corp', 'Big Lots Inc', 'Bigben Interactive SA', 'Biglari Holdings Inc', 'Bijou Brigitte modische Accessoires AG', 'Bilfinger SE', 'Bilia AB', 'BillerudKorsnas AB (publ)', 'Birchcliff Energy Ltd', 'Bird Construction Inc', 'BizLink Holding Inc', 'Bizim Toptan Satis Magazalari AS', 'Bjorn Borg AB', 'Black Diamond Group Ltd', 'Blackmores Ltd', 'Blackstone Resources AG', 'Blink Charging Co', 'Bloom Energy Corp', 'Bloomberry Resorts Corp', \"Bloomin' Brands Inc\", 'Blue Apron Holdings Inc', 'Blue Bird Corp', 'Blue Star Helium Ltd', 'Blue Star Ltd', 'BlueScope Steel Ltd', 'Bluegreen Vacations Holding Corp', 'Bluelinx Holdings Inc', 'Bluestar Adisseo Co', 'Boart Longyear Group Ltd', 'Bobst Group SA', 'Bodycote PLC', 'Boeing Co', 'Bohai Leasing Co Ltd', 'Boise Cascade Co', 'Boliden AB', 'Bombardier Inc', 'Bonava AB (publ)', 'Bonduelle SA', 'Bong AB', 'Bonheur ASA', 'Bonterra Energy Corp', 'Booking Holdings Inc', 'Boot Barn Holdings Inc', 'Booz Allen Hamilton Holding Corp', 'Boozt AB', 'Boral Ltd', 'Borgwarner Inc', 'Borr Drilling Ltd', 'Borregaard ASA', 'Boryszew SA', 'Bosch Ltd', 'Bosideng International Holdings Ltd', 'Bossard Holding AG', 'Boston Beer Company Inc', 'Boston Pizza Royalties Income Fund', 'Bouygues SA', 'Boyd Gaming Corp', 'Boyd Group Services Inc', 'Bpost SA', 'Bradespar SA', 'Brady Corp', 'Braemar Shipping Services PLC', 'Brambles Ltd', 'Braskem SA', 'Bravida Holding AB', 'Breedon Group PLC', 'Brembo SpA', 'Brenntag SE', 'Breville Group Ltd', 'Brickability Group PLC', 'Brickworks Ltd', 'Bridgestone Corp', 'Bridgford Foods Corp', 'Brigham Minerals Inc', 'Bright Dairy and Food Co Ltd', 'Bright Horizons Family Solutions Inc', 'Bright Scholar Education Holdings Ltd', 'Brightview Holdings Inc', 'Brilliance China Automotive Holdings Ltd', 'Brim hf', 'Brimstone Investment Corporation Ltd', 'Brinker International Inc', 'Brinks Co', 'Brisa Bridgestone Sabanci Lastik Sanayi ve Ticaret AS', 'Bristow Group Inc', 'Britannia Industries Ltd', 'British American Tobacco (Malaysia) Bhd', 'British American Tobacco PLC', 'Britvic PLC', 'Broadwind Inc', 'Broedrene A & O Johansen A/S', 'Broedrene Hartmann A/S', 'Brookfield Business Partners LP', 'Brookfield Property Partners LP', 'Brookside Energy Ltd', 'Brown-Forman Corp', 'Brunel International NV', 'Brunello Cucinelli SpA', 'Brunswick Corp', 'Bubs Australia Ltd', 'Bucher Industries AG', 'Buckle Inc', 'Budimex SA', 'Budweiser Brewing Company APAC Ltd', 'Bufab AB (publ)', 'Build-A-Bear Workshop Inc', 'Builders FirstSource Inc', 'Bukit Asam Tbk PT', 'Bulten AB', 'Bumi Armada Bhd', 'Bumi Resources Tbk PT', 'Bumitama Agri Ltd', 'Bunge Ltd', 'Bunzl plc', 'Burberry Group PLC', 'Burckhardt Compression Holding AG', 'Bureau Veritas SA', 'Burkhalter Holding AG', 'Burlington Stores Inc', 'Buru Energy Ltd', 'Bushveld Minerals Ltd', 'Buzzi Unicem SpA', 'By-health Co Ltd', 'Byggma ASA', 'Byggmax Group AB', 'Byrna Technologies Inc', 'Bystronic AG', 'C&C Group PLC', 'C&S Paper Co Ltd', 'CACI International Inc', 'CAE Inc', 'CAP SA', 'CBIZ Inc', 'CCC SA', 'CCL Industries Inc', 'CCR SA', 'CECO Environmental Corp', 'CEMEX Latam Holdings SA', 'CES Energy Solutions Corp', 'CF Industries Holdings Inc', 'CGG SA', 'CH Karnchang PCL', 'CH Robinson Worldwide Inc', 'CIE Automotive SA', 'CIR SpA - Compagnie Industriali Riunite', 'CITIC Heavy Industries Co Ltd', 'CITIC Ltd', 'CITIC Pacific Special Steel Group Co Ltd', 'CJ CheilJedang Corp', 'CJ Corp', 'CJ Logistics Corp', 'CK Hutchison Holdings Ltd', 'CMST Development Co Ltd', 'CNH Industrial NV', 'CNOOC Energy Technology & Services Ltd', 'CNOOC Ltd', 'CNX Resources Corp', 'COFCO Biotechnology Co Ltd', 'COFCO Capital Holdings Co Ltd', 'COFCO Sugar Holding Co Ltd', 'CONSOL Energy Inc', 'COSCO SHIPPING Development Co Ltd', 'COSCO SHIPPING Ports Ltd', 'COSCO Shipping Energy Transportation Co Ltd', 'COSCO Shipping Holdings Co Ltd', 'CP All PCL', 'CPH Chemie und Papier Holding AG', 'CPPGroup PLC', 'CRA International Inc', 'CRH PLC', 'CRRC Corp Ltd', 'CSG Holding Co Ltd', 'CSN Mineracao SA', 'CSR Ltd', 'CSSC Science & Technology Co Ltd', 'CSW Industrials Inc', 'CSX Corp', 'CTCI Corp', 'CTT Correios de Portugal SA', 'CTT Systems AB', 'CVR Energy Inc', 'Cabot Corp', 'Cactus Inc', 'Caesars Entertainment Inc', 'Caesarstone Ltd', 'Cafe De Coral Holdings Ltd', 'Cairn Homes PLC', 'Cal-Maine Foods Inc', 'Calavo Growers Inc', 'Calbee Inc', 'Caledonia Mining Corporation PLC', 'Caleres Inc', 'Calfrac Well Services Ltd', 'Calian Group Ltd', 'Calibre Mining Corp', 'Calida Holding AG', 'California Resources Corp', 'Callaway Golf Co', 'Callon Petroleum Co', 'Calumet Specialty Products Partners LP', 'Cameco Corp', 'Camellia PLC', 'Camil Alimentos SA', 'Campbell Soup Co', 'Camping World Holdings Inc', 'Canacol Energy Ltd', 'Canada Goose Holdings Inc', 'Canadian National Railway Co', 'Canadian Natural Resources Ltd', 'Canadian Pacific Railway Ltd', 'Canadian Tire Corporation Ltd', 'Candente Copper Corp', 'Canfor Corp', 'Canfor Pulp Products Inc', 'Cango Inc', 'Canoo Inc', 'Capital A Berhad', 'Capri Holdings Ltd', 'Capricorn Energy PLC', 'Capricorn Metals Ltd', 'Capstone Copper Corp', 'Carabao Group PCL', 'Carboclor SA', 'Card Factory PLC', 'Cardinal Energy Ltd (Alberta)', 'Cardno Ltd', 'Carel Industries SpA', 'Cargojet Inc', 'Cargotec Corp', 'Carillion PLC', 'Carlisle Companies Inc', 'Carlos Casado SA', 'Carlotz Inc', 'Carlsberg A/S', 'Carlsberg Brewery Malaysia Bhd', 'Carmax Inc', 'Carnarvon Energy Ltd', 'Carnival Corp', 'Carnival PLC', 'Carparts.Com Inc', 'Carpenter Technology Corp', \"Carr's Group PLC\", 'Carrefour SA', 'Carriage Services Inc', 'Carrier Global Corp', 'Carrols Restaurant Group Inc', \"Carter's Inc\", 'Carvana Co', 'Casa Grande Sociedad Anonima Abierta', 'Cascades Inc', 'Casella Waste Systems Inc', 'Caseys General Stores Inc', 'Cashbuild Ltd', 'Casino Guichard Perrachon SA', 'Casio Computer Co Ltd', 'Castings PLC', 'Caterpillar Inc', 'Cathay Biotech Inc', 'Cathay Pacific Airways Ltd', 'Cato Corp', 'Cavco Industries Inc', 'Caverion Oyj', 'Cavotec SA', 'Cdon AB', 'Ceconomy AG', 'Cedar Fair LP', 'Celanese Corp', 'Celsius Holdings Inc', 'Celulosa Argentina SA', 'Cembre SpA', 'Cementir Holding NV', 'Cementos Argos SA', 'Cementos Pacasmayo SAA', 'Cemex SAB de CV', 'Cencosud SA', 'Cengage Learning Holdings II Inc', 'Cenovus Energy Inc', 'Centamin PLC', 'Centennial Resource Development Inc', 'Centerra Gold Inc', 'Central Asia Metals PLC', 'Central Garden & Pet Co', 'Central Glass Co Ltd', 'Central Japan Railway Co', 'Central Petroleum Ltd', 'Central Plaza Hotel PCL', 'Central Retail Corporation PCL', 'Centre Testing International Group Co Ltd', 'Centrus Energy Corp', 'Century Aluminum Co', 'Century Casinos Inc', 'Century Communities Inc', 'Ceres Power Holdings PLC', 'Cewe Stiftung & Co KGaA', 'Chaarat Gold Holdings Ltd', 'Chacha Food Co Ltd', 'Chalice Mining Ltd', 'Champion Iron Ltd', 'ChampionX Corp', 'Changzhou Xingyu Automotive Lighting Systems Co Ltd', 'Channel Infrastructure NZ Ltd', 'Chaoda Modern Agriculture Holdings Ltd', 'Character Group PLC', 'Charah Solutions Inc', 'ChargePoint Holdings Inc', 'Chargeurs SA', 'Charoen Pokphand Foods PCL', 'Charoen Pokphand Indonesia Tbk PT', 'Chart Industries Inc', 'Chase Corp', 'Cheesecake Factory Inc', \"Chefs' Warehouse Inc\", 'Chegg Inc', 'Chemours Co', 'Chemring Group PLC', 'Chemtrade Logistics Income Fund', 'Cheng Shin Rubber Ind. Co Ltd', 'Cheniere Energy Inc', 'Cheniere Energy Partners LP', 'Chesapeake Energy Corp', 'Chevron Corp', 'Chewy Inc', \"Chico's FAS Inc\", 'Chifeng Jilong Gold Mining Co Ltd', \"Children's Place Inc\", 'China Aerospace Times Electronics Co Ltd', 'China Airlines Ltd', 'China Automotive Systems Inc', 'China Aviation Oil (Singapore) Corporation Ltd', 'China Avionics Systems Co Ltd', 'China Baoan Group Co Ltd', 'China BlueChemical Ltd', 'China CSSC Holdings Ltd', 'China Coal Energy Co Ltd', 'China Communications Construction Co Ltd', 'China Communications Services Corp Ltd', 'China Conch Venture Holdings Ltd', 'China Dongxiang (Group) Co Ltd', 'China East Education Holdings Ltd', 'China Eastern Airlines Corp Ltd', 'China Education Group Holdings Ltd', 'China Everbright Environment Group Ltd', 'China Feihe Ltd', 'China First Capital Group Ltd', 'China First Heavy Industries', 'China Foods Ltd', 'China Gold International Resources Corp Ltd', 'China Grand Automotive Services Group Co Ltd', 'China Hainan Rubber Industry Group Co Ltd', 'China High Speed Transmission Equipment Group Co Ltd', 'China Hongqiao Group Ltd', 'China Huarong Energy Co Ltd', 'China Index Holdings Ltd', 'China International Marine Containers Group Co Ltd', 'China Jushi Co Ltd', 'China Lesso Group Holdings Ltd', 'China Marine Information Electronics Co Ltd', 'China Meheco Group Co Ltd', 'China MeiDong Auto Holdings Ltd', 'China Mengniu Dairy Co Ltd', 'China Merchants Energy Shipping Co Ltd', 'China Merchants Port Group Co Ltd', 'China Merchants Port Holdings Co Ltd', 'China Modern Dairy Holdings Ltd', 'China Molybdenum Co Ltd', 'China Motor Corp', 'China National Building Material Co Ltd', 'China National Chemical Engineering Co Ltd', 'China Northern Rare Earth Group High-Tech Co Ltd', 'China Nuclear Engineering & Construction Corp Ltd', 'China Oilfield Services Ltd', 'China Online Education Group', 'China Oriental Group Co Ltd', 'China Petrochemical Development Corp', 'China Petroleum & Chemical Corp', 'China Petroleum Engineering Corp', 'China Railway Construction Corp Ltd', 'China Railway Group Ltd', 'China Railway Hi-tech Industry Corp Ltd', 'China Resources Beer Holdings Co Ltd', 'China Resources Cement Holdings Ltd', 'China Ruyi Holdings Ltd', 'China Shanshui Cement Group Ltd', 'China Shenhua Energy Co Ltd', 'China Shipbuilding Industry Co Ltd', 'China Shipbuilding Industry Group Power Co Ltd', 'China Southern Airlines Co Ltd', 'China Southern Power Grid Energy Efficiency&Clean Energy Co Ltd', 'China Spacesat Co Ltd', 'China State Construction Engineering Corp Ltd', 'China State Construction International Holdings Ltd', 'China Steel Corp', 'China Suntien Green Energy Corp Ltd', 'China Tourism Group Duty Free Corp Ltd', 'China Travel International Investment Hong Kong Ltd', 'China West Construction Group Co Ltd', 'China XD Electric Co Ltd', 'China Yuchai International Ltd', 'China Yuhua Education Corp Ltd', 'China Yurun Food Group Ltd', 'China ZhengTong Auto Services Holdings Ltd', 'China Zhongwang Holdings Ltd', 'Chipotle Mexican Grill Inc', 'Chiyoda Corp', 'Chocoladefabriken Lindt & Spruengli AG', 'Choice Hotels International Inc', 'Chongqing Brewery Co Ltd', 'Chongqing Changan Automobile Co Ltd', 'Chongqing Fuling Zhacai Group Co Ltd', 'Chorus Aviation Inc', 'Chow Tai Fook Jewellery Group Ltd', 'Chow Tai Seng Jewellery Co Ltd', 'Chr Hansen Holding A/S', 'Christian Dior SE', 'Chugoku Marine Paints Ltd', 'Church & Dwight Co Inc', 'Churchill China PLC', 'Churchill Downs Inc', \"Chuy's Holdings Inc\", 'Ciech SA', 'Ciia Minera San Ignacio de Morococha SAA', 'Cimpress PLC', 'Cimsa Cimento Sanayi ve Ticaret AS', 'Cintas Corp', 'Circor International Inc', 'Citi Trends Inc', 'City Chic Collective Ltd', 'City Lodge Hotels Ltd', 'City Pub Group PLC', 'Civeo Corp', 'Civitas Resources Inc', 'Clariant AG', 'Clarivate PLC', 'Clarkson PLC', 'Clarus Corp', 'Clas Ohlson AB', 'Clasquin SA', 'Clean Energy Fuels Corp', 'Clean Harbors Inc', 'Cleanaway Waste Management Ltd', 'Clearwater Paper Corp', 'Cleveland-Cliffs Inc', 'Clicks Group Ltd', 'Climeon AB (publ)', 'Cloetta AB', 'Clorox Co', 'Cnim Groupe SA', 'CoStar Group Inc', 'Coal India Ltd', 'Coats Group PLC', 'Coca Cola Embonor SA', 'Coca Cola HBC AG', 'Coca-Cola Bottlers Japan Holdings Inc', 'Coca-Cola Co', 'Coca-Cola Consolidated Inc', 'Coca-Cola Europacific Partners PLC', 'Coca-Cola Femsa SAB de CV', 'Coca-Cola Icecek AS', 'Coeur Mining Inc', 'Cogna Educacao SA', 'Cohort PLC', 'Colas SA', 'Colefax Group PLC', 'Coles Group Ltd', 'Colgate-Palmolive (India) Ltd', 'Colgate-Palmolive Co', 'Collins Foods Ltd', 'Colossus Minerals Inc', 'Columbia Sportswear Co', 'Columbus McKinnon Corp', 'Com7 PCL', 'Comer Industries SpA', 'Comfort Systems USA Inc', 'Comfortdelgro Corporation Ltd', 'Commercial Metals Co', 'Commercial Vehicle Group Inc', 'CompX International Inc', 'Compagnie Financiere Richemont SA', 'Compagnie Generale des Etablissements Michelin SCA', 'Compagnie Plastic Omnium SE', \"Compagnie d'entreprises CFE SA\", 'Compagnie de Saint Gobain SA', 'Compagnie des Alpes SA', 'Companhia Brasileira de Distribuicao SA', 'Companhia Siderurgica Nacional SA', 'Companhia de Locacao das Americas', 'Compania Cervecerias Unidas SA', 'Compania Sud Americana de Vapores SA', 'Compania de Distribucion Integral Logista Holdings SA', 'Compania de Minas Buenaventura SAA', 'Compass Group PLC', 'Compass Minerals International Inc', 'Computer Modelling Group Ltd', 'Comstock Resources Inc', 'Comsys Holdings Corp', 'Comvita Ltd', 'Conagra Brands Inc', 'Concentric AB', 'Concha y Toro Winery Inc', 'Concordia Maritime AB', 'Concrete Pumping Holdings Inc', \"Conn's Inc\", 'Conocophillips', 'Constellation Brands Inc', 'Constellium SE', 'Consti Oyj', 'Construcciones Y Auxiliar De Ferrocarriles SA', 'Construcciones el Condor SA', 'Construction Partners Inc', 'Constructora Conconcreto SA', 'Construtora Tenda SA', 'Container Corporation of India Ltd', 'Container Store Group Inc', 'Contemporary Amperex Technology Co Ltd', 'ContextLogic Inc', 'Continental AG', 'Continental Resources Inc', 'Controladora Vuela Compania de Aviacion SAB de CV', 'Cooper Energy Ltd', 'Cooper-Standard Holdings Inc', 'Coor Service Management Holding AB', 'Copa Holdings SA', 'Copart Inc', 'Copenhagen Airports A/S', 'Copper Mountain Mining Corp', 'Corbion NV', 'Corby Spirit and Wine Ltd', 'Core Laboratories NV', 'Core Molding Technologies Inc', 'CoreCivic Inc', 'Cornerstone Building Brands Inc', 'Coronado Global Resources Inc', 'Corporacion Aceros Arequipa SA', 'Corporacion America Airports SA', 'Corporate Travel Management Ltd', 'Corteva Inc', 'Corticeira Amorim SGPS SA', 'Cosan SA', 'Cosco Shipping International (Singapore) Co Ltd', 'Cosmo Energy Holdings Co Ltd', 'Cosmos Pharmaceutical Corp', 'Costa Group Holdings Ltd', 'Costain Group PLC', 'Costamare Inc', 'Costco Wholesale Corp', 'Coterra Energy Inc', 'Coty Inc', 'Countryside Partnerships PLC', 'Coursera Inc', 'Covenant Logistics Group Inc', 'Covestro AG', 'Coway Co Ltd', 'Cracker Barrel Old Country Store Inc', 'Crane Holdings Co', 'Cranswick PLC', 'Crescent Point Energy Corp', 'Crest Nicholson Holdings PLC', 'Crestwood Equity Partners LP', 'Crew Energy Inc', 'Crocs Inc', 'Croda International PLC', 'Crompton Greaves Consumer Electricals Ltd', 'CropEnergies AG', 'Cross-Harbour Holdings Ltd', 'Crown Energy AB', 'Crown Holdings Inc', 'Crown Resorts Ltd', 'Crown Seal PCL', 'Culp Inc', 'Cummins Inc', 'Cummins India Ltd', 'Currys PLC', 'Curtiss-Wright Corp', 'Custom Truck One Source Inc', 'Cyclone Metals Ltd', 'Cydsa SAB de CV', 'Cyrela Brazil Realty SA Empreendimentos e Participacoes', 'D R Horton Inc', \"D'Ieteren Group NV\", 'DCC PLC', 'DCM Holdings Co Ltd', 'DEPPON LOGISTICS Co Ltd', 'DEUTZ AG', 'DFDS AS', 'DFI Retail Group Holdings Ltd', 'DFS Furniture PLC', 'DHT Holdings Inc', 'DIC Corp', \"DICK'S Sporting Goods Inc\", 'DIRTT Environmental Solutions Ltd', 'DKSH Holding AG', 'DL Holdings Co Ltd', 'DLH Holdings Corp', 'DMC Global Inc', 'DMCI Holdings Inc', 'DMG Mori AG', 'DOWA Holdings Co Ltd', 'DP Eurasia NV', 'DRDGOLD Ltd', 'DS Smith PLC', 'DSV A/S', 'DWF Group PLC', 'DX (Group) PLC', 'DXP Enterprises Inc', 'DaShenLin Pharmaceutical Group Co Ltd', 'Dabur India Ltd', 'Dacian Gold Ltd', 'Dada Nexus Ltd', 'Daetwyler Holding AG', 'Daewoo Engineering & Construction Co Ltd', 'Daewoo Shipbuilding & Marine Engineering Co Ltd', 'Dai Nippon Printing Co Ltd', 'Daicel Corp', 'Daido Steel Co Ltd', 'Daifuku Co Ltd', 'Daikin Industries Ltd', 'Daio Paper Corp', 'Dalata Hotel Group PLC', 'Dali Foods Group Co Ltd', 'Dalmia Bharat Ltd', 'Dalrymple Bay Infrastructure Ltd', 'Dampskibsselskabet Norden A/S', 'Dana Inc', 'Danakali Ltd', 'Danaos Corp', 'Daniel Thwaites PLC', 'Danieli & C Officine Meccaniche SpA', 'Danimer Scientific Inc', 'Danone SA', 'Daphne International Holdings Ltd', 'Daqin Railway Co Ltd', 'Darden Restaurants Inc', 'Darling Ingredients Inc', 'Daseke Inc', 'Dassault Aviation SA', \"Dave & Buster's Entertainment Inc\", 'Davide Campari Milano NV', 'Dawson Geophysical Co', 'De Grey Mining Ltd', 'De La Rue PLC', \"De' Longhi SpA\", 'Deckers Outdoor Corp', 'Decmil Group Ltd', 'Deere & Co', 'Delek Group Ltd', 'Delek US Holdings Inc', 'Delfi Ltd', 'Delivery Hero SE', 'Delta Air Lines Inc', 'Delta Apparel Inc', 'Delta Corp Ltd', 'Deluxe Corp', 'Denbury Inc', 'Denison Mines Corp', 'Denka Co Ltd', \"Denny's Corp\", 'Denso Corp', 'Derichebourg SA', 'Desarrolladora Homex SAB de CV', 'Designer Brands Inc', 'Desktop Metal Inc', 'Despegar.com Corp', 'Destination XL Group Inc', 'Deterra Royalties Ltd', 'Detskiy Mir PAO', 'Deufol SE', 'Deutsche Lufthansa AG', 'Deutsche Post AG', 'Development Investment Construction JSC', 'Devon Energy Corp', 'Devro PLC', 'Dewhurst Group PLC', 'Dexco SA', 'Dexterra Group Inc', 'Diageo PLC', 'Dialight PLC', 'Dialog Group Bhd', 'Diamond Building Products PCL', 'Diamondback Energy Inc', 'Diana Shipping Inc', 'Dignity PLC', \"Dillard's Inc\", 'Dine Brands Global Inc', 'Dino Polska SA', 'Diploma PLC', 'Dis-Chem Pharmacies Ltd', 'Distell Group Holdings Ltd', 'Distribuidora Internacional de Alimentacion SA', 'Distribution Solutions Group Inc', 'Diversified Energy Company PLC', 'Diversified Royalty Corp', 'Dno ASA', 'Do & Co AG', 'Dogan Sirketler Grubu Holding AS', 'Dogus Otomotiv Servis ve Ticaret AS', 'Dohome PCL', 'Dollar General Corp', 'Dollar Tree Inc', 'Dollarama Inc', 'Doman Building Materials Group Ltd', 'Dometic Group AB (publ)', \"Domino's Pizza Enterprises Ltd\", \"Domino's Pizza Group PLC\", \"Domino's Pizza Inc\", 'Donaco International Ltd', 'Donaldson Company Inc', 'Dong Suh Companies Inc', 'Dongfang Electric Corp Ltd', 'Dongfeng Motor Group Co Ltd', 'Dongkuk Steel Mill Co Ltd', 'Dongyue Group Ltd', 'DoorDash Inc', 'Doosan Bobcat Inc', 'Doosan Corp', 'Doosan Enerbility Co Ltd', 'Dorel Industries Inc', 'Dorian LPG Ltd', 'Dormakaba Holding AG', 'Dorman Products Inc', 'Dottikon Es Holding AG', 'Douglas Dynamics Inc', 'Dover Corp', 'Dow Inc', 'Downer EDI Ltd', 'Dr Hoenle AG', 'Dr Martens PLC', 'DraftKings Inc', 'Dril-Quip Inc', 'Drive Shack Inc', 'Driven Brands Holdings Inc', 'Dubai Investments PJSC', 'Duckhorn Portfolio Inc', 'Ducommun Inc', 'Duerr AG', 'Dufry AG', 'Duluth Holdings Inc', 'Dun & Bradstreet Holdings Inc', 'Dundee Precious Metals Inc', 'Dunelm Group PLC', 'Duni AB', 'Dupont De Nemours Inc', 'Duro Felguera SA', 'Duroc AB', 'Dustin Group AB', 'Dycasa SA', 'Dycom Industries Inc', 'Dyo Boya Fabrikalari Sanayi Ve Ticaret AS', 'E I Du Pont De Nemours and Co', 'E-Commodities Holdings Ltd', 'E-Mart Inc', 'EAC Invest A/S', 'EDAG Engineering Group AG', 'EDION Corp', 'EIS Eczacibasi Ilac Sinai ve Finansal Yatirimlar Sanayi ve Ticaret AS', 'EMCOR Group Inc', 'ENEOS Holdings Inc', 'ENKA Insaat ve Sanayi AS', 'EOG Resources Inc', 'EQT Corp', 'ESCO Technologies Inc', 'ETSY Inc', 'EVE Energy Co Ltd', 'EVI Industries Inc', 'EVRAZ plc', 'EXCO Resources Inc', 'EZTEC Empreendimentos e Participacoes SA', 'Eagers Automotive Ltd', 'Eagle Bulk Shipping Inc', 'Eagle Materials Inc', 'Earthstone Energy Inc', 'East Group Co Ltd', 'East Japan Railway Co', 'Eastern Air Logistics Co Ltd', 'Eastern Co', 'Eastern Company SAE', 'Eastern Platinum Ltd', 'Eastern Polymer Group PCL', 'Eastman Chemical Co', 'Easyjet PLC', 'Eaton Corporation PLC', 'Ebara Corp', 'Ebro Foods SA', 'Eclat Textile Co Ltd', 'EcoSynthetix Inc', 'Ecolab Inc', 'Ecopetrol SA', 'Ecorodovias Infraestrutura e Logistica SA', 'Ecovacs Robotics Co Ltd', 'Ecovyst Inc', 'Edgewell Personal Care Co', 'Edreams Odigeo SA', 'Education Management Corp', 'Eezy Plc', 'Egypt Kuwait Holding Co SAE', 'Eicher Motors Ltd', 'Eiffage SA', 'Eimskipafelag Islands hf', 'Einhell Germany AG', 'El Pollo Loco Holdings Inc', 'El Puerto de Liverpool SAB de CV', 'El Sewedy Electric Co SAE', 'Elanders AB', 'Elbit Systems Ltd', 'Elders Ltd', 'Eldorado Gold Corp', 'Electro Optic Systems Holdings Ltd', 'Electrolux AB', 'Electrolux Professional publ AB', 'Electrovaya Inc', 'Element Solutions Inc', 'Elementis PLC', 'Elior Group SA', 'Elis SA', 'Elkem ASA', 'Ellaktor SA', 'Elringklinger AG', 'Eltel AB', 'Emak SpA', 'Embotelladora Andina SA', 'Embraer SA', 'Emeco Holdings Ltd', 'Emerson Electric Co', 'Emmi AG', 'Empire Company Ltd', 'Empresa Agroindustrial Pomalca SAA', 'Empresa Siderurgica del Peru SAA', 'Empresaria Group PLC', 'Empresas CMPC SA', 'Empresas Copec SA', 'Empresas la Polar SA', 'Ems Chemie Holding AG', 'En+ Group MKPAO', 'EnLink Midstream LLC', 'EnPro Industries Inc', 'EnQuest PLC', 'Enauta Participacoes SA', 'Enav SpA', 'Enbridge Inc', 'Ence Energia y Celulosa SA', 'Encore Wire Corp', 'Endeavour Group Ltd', 'Endeavour Mining PLC', 'Endeavour Silver Corp', 'Endur ASA', 'Enento Group Plc', 'EnerSys', 'Enerflex Ltd', 'Energean PLC', 'Energizer Holdings Inc', 'Energous Corp', 'Energy Fuels Inc', 'Energy Recovery Inc', 'Energy Resources Of Australia Ltd', 'Energy Transfer LP', 'Enerpac Tool Group Corp', 'Enerplus Corp', 'Eneti Inc', 'Eni SpA', 'Ennis Inc', 'Ensign Energy Services Inc', 'Entain PLC', 'Enterprise Products Partners LP', 'Envela Corp', 'Enviva Inc', 'Enwell Energy PLC', 'Eos Energy Enterprises Inc', 'Epiroc AB', 'Epwin Group PLC', 'Equifax Inc', 'Equinor ASA', 'Equinox Gold Corp', 'Equitrans Midstream Corp', 'Eramet SA', 'Erawan Group PCL', 'Ercros SA', 'Eregli Demir ve Celik Fabrikalari TAS', 'Erin Energy Corp', 'Ero Copper Corp', 'Escalade Inc', 'Esken Ltd', 'Esprit Holdings Ltd', 'Essentra PLC', 'EssilorLuxottica SA', 'Essity AB (publ)', 'Esso Societe Anonyme Francaise SA', 'Esso Thailand PCL', 'Estee Lauder Companies Inc', 'Estithmar Holding QPSC', 'Etablissementen Franz Colruyt NV', 'Etablissements Maurel et Prom SA', 'Eternal Asia Supply Chain Management Ltd', 'Eternal Materials Co Ltd', 'Ethan Allen Interiors Inc', 'Etteplan Oyj', 'Eurocash SA', 'Eurocell PLC', 'Euronav NV', 'Europcar Mobility Group SA', 'Europris ASA', 'Eva Airways Corp', 'Even Construtora e Incorporadora SA', 'Evergreen International Storage & Transport Corp', 'Evergreen Marine Corp Taiwan Ltd', 'Everi Holdings Inc', 'Evolution AB (publ)', 'Evolution Mining Ltd', 'Evolution Petroleum Corp', 'Evonik Industries AG', 'Evoqua Water Technologies Corp', 'Ework Group AB', 'Exacompta Clairefontaine SA', 'Exchange Income Corp', 'Exco Technologies Ltd', 'Exel Composites Oyj', 'Exel Industries SA', 'Exide Industries Ltd', 'Exmar NV', 'Expedia Group Inc', 'Expeditors International of Washington Inc', 'Experian PLC', 'Exponent Inc', 'Express Inc', 'Expro Group Holdings NV', 'Exterran Corp', 'Exxaro Resources Ltd', 'Exxon Mobil Corp', 'Ezaki Glico Co Ltd', 'Ezz Steel Co SAE', 'FACC AG', 'FAR Ltd', 'FAW Jiefang Group Co Ltd', 'FGV Holdings Bhd', 'FILA Fabbrica Italiana Lapis ed Affini SpA', 'FLEX LNG Ltd', 'FLSmidth & Co A/S', 'FMC Corp', 'FNM SpA', 'FPT Digital Retail JSC', 'FRoSTA AG', 'FTI Consulting Inc', 'FW Thorpe PLC', 'Facedrive Inc', 'Fagerhult AB', 'Falabella SA', 'Famous Brands Ltd', 'Famur SA', 'FangDa Carbon New Material Co Ltd', 'Fangda Special Steel Technology Co Ltd', 'Fanuc Corp', 'Far Eastern Department Stores Ltd', 'Far Eastern New Century Corp', 'Farfetch Ltd', 'Farmer Bros Co', 'Fasadgruppen Group AB (publ)', 'Fast Retailing Co Ltd', 'Fastenal Co', 'Faurecia SE', 'FedEx Corp', 'Federal Signal Corp', 'Feintool International Holding AG', 'Feng Hsin Steel Co Ltd', 'Feng Tay Enterprises Co Ltd', 'Fenix Outdoor International AG', 'Ferguson PLC', 'Ferrari NV', 'Ferrexpo PLC', 'Ferreycorp SAA', 'Ferroglobe PLC', 'Ferronordic AB', 'Ferrovial SA', 'Ferrum SA de Ceramica y Metalurgia', 'Festi hf', 'Fevertree Drinks PLC', 'Fielmann AG', 'Fiera Milano SpA', 'Fiesta Restaurant Group Inc', 'Figeac Aero SARL', 'Fila Holdings Corp', 'Fincantieri SpA', 'Finnair Oyj', 'Finning International Inc', 'Fintel PLC', 'Fire & Flower Holdings Corp', 'First Majestic Silver Corp', 'First Pacific Co Ltd', 'First Quantum Minerals Ltd', 'First Resources Ltd', 'FirstGroup PLC', 'Fiskars Oyj Abp', 'Fisker Inc', 'Five Below Inc', 'Fiverr International Ltd', 'Fleetwood Ltd', 'Fletcher Building Ltd', 'Flexsteel Industries Inc', 'Flight Centre Travel Group Ltd', 'Flinders Mines Ltd', 'Floor & Decor Holdings Inc', 'Flotek Industries Inc', 'Flowers Foods Inc', 'Flowserve Corp', 'Flowtech Fluidpower PLC', 'Flugger group A/S', 'Flughafen Wien AG', 'Flughafen Zuerich AG', 'Fluidra SA', 'Fluor Corp', 'Flutter Entertainment PLC', 'Fnac Darty SA', 'Focus Minerals Ltd', 'Focusrite PLC', 'Folli Follie SA', 'Fomento Economico Mexicano SAB de CV', 'Fomento de Construcciones y Contratas SA', \"Fonterra Shareholders' Fund\", 'Foot Locker Inc', 'ForFarmers NV', 'Forbo Holding AG', 'Ford Motor Co', 'Ford Otomotiv Sanayi AS', 'Formosa Chemicals & Fibre Corp', 'Formosa International Hotels Corp', 'Formosa Petrochemical Corp', 'Formosa Plastics Corp', 'Formosa Taffeta Co Ltd', 'Forrester Research Inc', 'Forterra PLC', 'Fortescue Metals Group Ltd', 'Fortive Corp', 'Fortuna Silver Mines Inc', 'Fortune Brands Home & Security Inc', 'Forum Energy Technologies Inc', 'Forus SA', 'Forward Air Corp', 'Foschini Group Ltd', 'Foshan Haitian Flavouring and Food Co Ltd', 'Fossal SAA', 'Fossil Group Inc', 'Fosun International Ltd', 'Fox Factory Holding Corp', 'Franchise Brands PLC', 'Franchise Group Inc', 'Franco-Nevada Corp', 'Francotyp Postalia Holding AG', 'Franklin Covey Co', 'Franklin Electric Co Inc', 'Fraport AG Frankfurt Airport Services Worldwide', 'Fraser & Neave Holdings Bhd', 'Fraser and Neave Ltd', 'Frasers Group PLC', 'Freehold Royalties Ltd', 'Freelance.com SA', 'Freeport-McMoRan Inc', 'FreightCar America Inc', 'Freightways Ltd', 'Frequentis AG', 'Fresh Del Monte Produce Inc', 'Freshpet Inc', 'Fresnillo PLC', 'Frontdoor Inc', 'Frontera Energy Corp', 'Frontier Group Holdings Inc', 'Frontline Ltd', 'Fuchs Petrolub SE', 'Fuelcell Energy Inc', 'Fugro NV', 'Fuji Electric Co Ltd', 'Fujian Sunner Development Co Ltd', 'Fujikura Ltd', 'Fulham Shore PLC', 'Full House Resorts Inc', 'Fuller Smith & Turner PLC', 'Fullshare Holdings Ltd', 'Funko Inc', 'Furukawa Co Ltd', 'Furukawa Electric Co Ltd', 'Fury Gold Mines Ltd', 'Fushun Special Steel Co Ltd', 'FutureFuel Corp', 'Fuyao Glass Industry Group Co Ltd', 'G-III Apparel Group Ltd', 'G8 Education Ltd', 'GATX Corp', 'GCM Mining Corp', 'GCP Applied Technologies Inc', 'GDI Integrated Facility Services Inc', 'GEA Group AG', 'GEK TERNA Holdings Real Estate Construction SA', 'GEM Co Ltd', 'GFL Environmental Inc', 'GFPT PCL', 'GL Events SA', \"GMK Noril'skiy Nikel' PAO\", 'GMR Infrastructure Ltd', 'GMS Inc', 'GMexico Transportes SAB de CV', 'GOME Retail Holdings Ltd', 'GS Engineering & Construction Corp', 'GS Holdings Corp', 'GS Retail Co Ltd', 'GS Yuasa Corp', 'GT Capital Holdings Inc', 'GUD Holdings Ltd', 'GVS SpA', 'GWA Group Ltd', 'GYM Group PLC', 'Gabriel Holding A/S', 'Gabriel Resources Ltd', 'Gafisa SA', 'Galaxy Entertainment Group Ltd', 'Galiano Gold Inc', 'Galliford Try Holdings PLC', 'Galp Energia SGPS SA', 'GameStop Corp', 'Games Workshop Group PLC', 'Gaming Innovation Group Inc', 'Gamuda Bhd', 'Gan Ltd', 'Ganfeng Lithium Co Ltd', 'Gansu Jiu Steel Group Hongxing Iron & Steel Co Ltd', 'Gaotu Techedu Inc', 'Gap Inc', 'Garmin Ltd', 'Garo AB', 'Garovaglio y Zorraquin SA', 'Garrett Motion Inc', 'GasLog Ltd', 'Gateley Holdings PLC', 'Gates Industrial Corporation PLC', 'Gatos Silver Inc', \"Gazprom Neft' PAO\", 'Gazprom PAO', 'Gaztransport et Technigaz SA', 'Gear4music Holdings PLC', 'Geberit AG', 'Geely Automobile Holdings Ltd', 'Gelex Group JSC', 'Gem Diamonds Ltd', 'Gemfields Group Ltd', 'Genco Shipping & Trading Ltd', 'Gencor Industries Inc', 'Genel Energy PLC', 'Generac Holdings Inc', 'General Dynamics Corp', 'General Electric Co', 'General Mills Inc', 'General Motors Co', 'Genesco Inc', 'Genesis Energy LP', 'Genius Brands International Inc', 'Gentex Corp', 'Gentherm Inc', 'Genting Bhd', 'Genting Malaysia Bhd', 'Genting Plantations Bhd', 'Genting Singapore Ltd', 'Genuine Parts Co', 'Genuit Group PLC', 'Geo Group Inc', 'GeoPark Ltd', 'Georg Fischer AG', 'George Weston Ltd', 'Geospace Technologies Corp', 'Geox SpA', 'Gerdau SA', 'Gerry Weber International AG', 'Gesco AG', 'Gestamp Automocion SA', 'Getlink SE', 'Gevelot SA', 'Gevo Inc', 'Giant Manufacturing Co Ltd', 'Gibraltar Industries Inc', 'Gibson Energy Inc', 'Gildan Activewear Inc', 'Giordano International Ltd', 'Givaudan SA', 'Glanbia PLC', 'Glaston Oyj Abp', 'Glatfelter Corp', 'Glencore PLC', 'Glenveagh Properties PLC', 'Global Atomic Corp', 'Global Fashion Group SA', 'Global Industrial Co', 'Global Partners LP', 'Global Ports Holding PLC', 'Global Ports Investments PLC', 'Global Ship Lease Inc', 'GlobalData PLC', 'Globaltrans Investment PLC', 'Glory Ltd', 'Go-Ahead Group PLC', 'GoGold Resources Inc', 'GoPro Inc', 'Godrej Consumer Products Ltd', 'Gol Linhas Aereas Inteligentes SA', 'Golar LNG Ltd', 'Gold Fields Ltd', 'Gold Resource Corp', 'Gold Road Resources Ltd', 'GoldMining Inc', 'Golden Agri-Resources Ltd', 'Golden Eagle Retail Group Ltd', 'Golden Energy and Resources Ltd', 'Golden Entertainment Inc', 'Golden Ocean Group Ltd', 'GomSpace Group AB', 'Gongniu Group Co Ltd', 'Goodfood Market Corp', 'Goodwin PLC', 'Goodyear Tire & Rubber Co', 'Gorman-Rupp Co', 'Gotion High tech Co Ltd', 'Gourmet Master Co Ltd', 'Gr Sarantis SA', 'Graco Inc', 'GrafTech International Ltd', 'Grafton Group PLC', 'Graham Corp', 'Graham Holdings Co', 'Graincorp Ltd', 'Grammer AG', 'Gran Tierra Energy Inc', 'Grand Canyon Education Inc', 'Grand Parade Investments Ltd', 'Grange Resources Ltd', 'Granges AB', 'Granite Construction Inc', 'Graphic Packaging Holding Co', 'Grasim Industries Ltd', 'Great Lakes Dredge & Dock Corp', 'Great Wall Motor Co Ltd', 'Gree Electric Appliances Inc of Zhuhai', 'Greek Organisation of Football Prognostics SA', 'Green Brick Partners Inc', 'Green Landscaping Group AB', 'Green Plains Inc', 'GreenMobility A/S', 'GreenTree Hospitality Group Ltd', 'Greenbrier Companies Inc', 'Greencore Group PLC', 'Greenland Minerals Ltd', 'Greenlane Holdings Inc', 'Greenyard NV', 'Greggs PLC', 'Greif Inc', 'Grendene SA', 'Grieg Seafood ASA', 'Griffon Corp', 'Grindrod Ltd', 'Grocery Outlet Holding Corp', 'Group 1 Automotive Inc', 'Groupe Crit SA', 'Groupe Gorge SA', 'Groupe Guillin SA', 'Groupon Inc', 'GrowGeneration Corp', 'Gruma SAB de CV', 'Grupa Azoty SA', 'Grupa Lotos SA', 'Grupo Aeroportuario del Centro Norte SAB de CV', 'Grupo Aeroportuario del Pacifico SAB de CV', 'Grupo Aeroportuario del Sureste SAB de CV', 'Grupo Argos SA', 'Grupo Bimbo SAB de CV', 'Grupo Carso SAB de CV', 'Grupo Cementos de Chihuahua SAB de CV', 'Grupo Comercial Chedraui SAB de CV', 'Grupo Concesionario del Oeste SA', 'Grupo Empresarial San Jose SA', 'Grupo Lala SAB de CV', 'Grupo Mexico SAB de CV', 'Grupo Nutresa SA', 'Guangdong Haid Group Co Ltd', 'Guangdong Hec Technology Holding Co Ltd', 'Guangdong Hongda Holdings Group Co Ltd', 'Guangdong Kinlong Hardware Products Co Ltd', 'Guangdong Songyang Recycle Resources Co Ltd', 'Guangdong Tapai Group Co Ltd', 'Guangdong Xinbao Electrical Appliances Holdings Co Ltd', 'Guanghui Energy Co Ltd', 'Guangshen Railway Co Ltd', 'Guangzhou Automobile Group Co Ltd', 'Guangzhou Baiyun International Airport Co Ltd', 'Guangzhou Port Co Ltd', 'Guangzhou Tinci Materials Technology Co Ltd', 'Guararapes Confeccoes SA', 'Gudang Garam Tbk PT', 'Guess? Inc', 'Guizhou Gas Group Corporation Ltd', 'Gulf Hotel Group BSC', 'Gulf International Services QPSC', 'Gulf Island Fabrication Inc', 'Gulf Keystone Petroleum Ltd', 'Gulf Marine Services PLC', 'Gulf Warehousing Company QPSC', 'Gulfport Energy Corp', 'Gunze Ltd', 'Guocheng Mining Co Ltd', 'Guoco Group Ltd', 'Gurit Holding AG', 'H & M Hennes & Mauritz AB', 'H & R Block Inc', 'H&E Equipment Services Inc', 'H&R GmbH & Co KgaA', 'H+H International A/S', 'H.B. Fuller Company', 'H.I.S. Co Ltd', 'H2O Retailing Corp', 'HBIS Co Ltd', 'HD Hyundai Co Ltd', 'HDC Holdings Co Ltd', 'HDC Hyundai Development Co', 'HEICO Corp', 'HELLA GmbH & Co KGaA', 'HF Sinclair Corp', 'HJ ShipBuilding & Construction Co Ltd', 'HKScan Oyj', 'HLA GROUP CORP LTD', 'HLB Inc', 'HMM Co Ltd', 'HMS Hydraulic Machines & Systems Group PLC', 'HNI Corp', 'HSS Hire Group PLC', 'HUAYU Automotive Systems Co Ltd', 'Haad Thip PCL', 'Hafnia Ltd', 'Haidilao International Holding Ltd', 'Haier Smart Home Co Ltd', 'Hailiang Education Group Inc', 'Hain Celestial Group Inc', 'Hainan Airlines Holding Co Ltd', 'Haitian International Holdings Ltd', 'Haldex AB', 'Halfords Group PLC', 'Halla Holdings Corp', 'Hallador Energy Co', 'Halliburton Co', 'Hamburger Hafen und Logistik AG', 'Hamilton Beach Brands Holding Co', \"Han's Laser Technology Industry Group Co Ltd\", 'Handsome Corp', 'HanesBrands Inc', 'Hangzhou Greatstar Industrial Co Ltd', 'Hangzhou Oxygen Plant Group Co Ltd', 'Hangzhou Robam Appliances Co Ltd', 'Hanjaya Mandala Sampoerna Tbk PT', 'Hankook & Company Co Ltd', 'Hankook Tire & Technology Co Ltd', 'Hankyu Hanshin Holdings Inc', 'Hanon Systems', 'Hanssem Co Ltd', 'Hanwha AeroSpace Co Ltd', 'Hanwha Corp', 'Hanwha Solutions Corp', 'Hanwha Systems Co Ltd', 'Hap Seng Consolidated Bhd', 'Hapag Lloyd AG', 'Harbour Energy PLC', 'Hardwoods Distribution Inc', 'Hargreaves Services PLC', 'Harley-Davidson Inc', 'Harmonic Drive Systems Inc', 'Harmony Gold Mining Company Ltd', 'Harsco Corp', 'Harvey Norman Holdings Ltd', 'Harvia Oyj', 'Hasbro Inc', 'Haseko Corp', 'Haulotte Group SA', 'Havells India Ltd', 'Haverty Furniture Companies Inc', 'Hawaiian Holdings Inc', 'Hawesko Holding AG', 'Hawkins Inc', 'Haynes International Inc', 'Hays PLC', 'HeadHunter Group PLC', 'Headlam Group PLC', 'Health and Happiness (H&H) International Holdings Ltd', 'Healthcare Services Group Inc', 'Healthier Choices Management Corp', 'Heartland Express Inc', 'Hebei Construction Group Corp Ltd', 'Hebei Yangyuan ZhiHui Beverage Co Ltd', 'Hecla Mining Co', 'Hefei Meyer Optoelectronic Technology Inc', 'HeidelbergCement AG', 'Heidelberger Druckmaschinen AG', 'Heidrick & Struggles International Inc', 'Heilongjiang Agriculture Co Ltd', 'Heineken Holding NV', 'Heineken NV', 'Helen of Troy Ltd', 'Helios Technologies Inc', 'Heliospectra AB (publ)', 'Helix Energy Solutions Group Inc', 'Hellenic Petroleum Holdings SA', 'Hellofresh SE', 'Helmerich and Payne Inc', 'Henan Shuanghui Investment & Development Co Ltd', 'Hengan International Group Company Ltd', 'Hengdeli Holdings Ltd', 'Hengli Petrochemical Co Ltd', 'Hengyi Petrochemical Co Ltd', 'Henkel AG & Co KGaA', 'Henry Boot PLC', 'Hensoldt AG', 'Herbalife Nutrition Ltd', 'Herc Holdings Inc', 'Heritage-Crystal Clean Inc', 'Hermes International SCA', 'Hero MotoCorp Ltd', 'Heroux Devtek Inc', 'Hershey Co', 'Hertz Global Holdings Inc', 'Hess Corp', 'Hexagon Composites ASA', 'Hexatronic Group AB', 'Hexcel Corp', 'Hexpol AB', 'Hf Foods Group Inc', 'Hibbett Inc', 'Hidili Industry International Development Ltd', 'Hidrovias do Brasil SA', 'High Liner Foods Inc', 'Highfield Resources Ltd', 'Highpeak Energy Inc', 'Hikari Tsushin Inc', 'Hill & Smith Holdings PLC', 'Hill International Inc', 'Hillenbrand Inc', 'Hillgrove Resources Ltd', 'Hilton Food Group PLC', 'Hilton Grand Vacations Inc', 'Hilton Worldwide Holdings Inc', 'Himile Mechanical Science and Technology Shandong Co Ltd', 'Hindalco Industries Ltd', 'Hindustan Petroleum Corp Ltd', 'Hindustan Unilever Ltd', 'Hino Motors Ltd', 'Hisense Visual Technology Co Ltd', 'Hitachi Construction Machinery Co Ltd', 'Hitachi Ltd', 'Hitachi Metals Ltd', 'HiteJinro Co Ltd', 'Hiwin Technologies Corp', 'Hoa Binh Construction Group JSC', 'Hoang Anh Gia Lai JSC', 'Hochdorf Holding AG', 'Hochschild Mining PLC', 'Hochtief AG', 'Hoftex Group AG', 'Holcim AG', 'Holcim Argentina SA', 'Hollywood Bowl Group PLC', 'Holmen AB', 'Home Depot Inc', 'Home Product Center PCL', 'Home24 SE', 'HomeServe PLC', 'Honda Motor Co Ltd', 'Honeywell International Inc', 'Hongfa Technology Co Ltd', 'Hooker Furnishings Corp', 'Horizon Global Corp', 'Horizon Oil Ltd', 'Hormel Foods Corp', 'Hornbach Baumarkt AG', 'Hornbach Holding AG & Co KGaA', 'Hoshizaki Corp', 'Hosken Consolidated Investments Ltd', 'Hostelworld Group PLC', 'Hostess Brands Inc', 'Hotai Motor Co Ltd', 'Hotel Chocolat Group PLC', 'Hotel Properties Ltd', 'Hotel Shilla Co Ltd', 'House Foods Group Inc', 'Hovnanian Enterprises Inc', 'Howden Joinery Group PLC', 'Howmet Aerospace Inc', 'HuBei XingFa Chemical Group Co Ltd', 'Huabao International Holdings Ltd', 'Huafon Chemical Co Ltd', 'Huapont Life Sciences Co Ltd', 'Huaxin Cement Co Ltd', 'Huazhu Group Ltd', 'Hub Group Inc', 'Hubbell Inc', 'Huber+Suhner AG', 'Hudaco Industries Ltd', 'Hudbay Minerals Inc', 'Hudson Technologies Inc', 'Hugo Boss AG', 'Huhtamaki Oyj', 'Huizhou Desay SV Automotive Co Ltd', 'Hulamin Ltd', 'Hummingbird Resources PLC', 'Hunan Valin Steel Co Ltd', 'Hunting PLC', 'Huntington Ingalls Industries Inc', 'Huntsman Corp', 'Hurco Companies Inc', 'Huron Consulting Group Inc', 'Hurricane Energy PLC', 'HusCompagniet A/S', 'Husqvarna AB', 'Hutchison Port Holdings Trust', 'Hyatt Hotels Corp', 'Hydrofarm Holdings Group Inc', 'Hyliion Holdings Corp', 'Hyosung Corp', 'HyreCar Inc', 'Hyster-Yale Materials Handling Inc', 'Hyundai Construction Equipment Co Ltd', 'Hyundai Department Store Co Ltd', 'Hyundai Doosan Infracore Co Ltd', 'Hyundai Engineering & Construction Co Ltd', 'Hyundai Glovis Co Ltd', 'Hyundai Home Shopping Network Corp', 'Hyundai Mipo Dockyard Co Ltd', 'Hyundai Mobis Co Ltd', 'Hyundai Motor Co', 'Hyundai Steel Co', 'Hyundai Wia Corp', 'I-Tech AB', 'IAA Inc', 'IAMGOLD Corp', 'IBI Group Inc', 'ICF International Inc', 'ICL Group Ltd', 'ID Logistics SAS', 'IDEX Corp', 'IDP Education Ltd', 'IES Holdings Inc', 'IG Design Group PLC', 'IGO Ltd', 'IHI Corp', 'IJM Corporation Bhd', 'IMCD NV', 'IMI PLC', 'INEOS Styrolution India Ltd', 'IOI Corporation Bhd', 'ION Geophysical Corp', 'IPH Ltd', 'IRPC PCL', 'ITAB Shop Concept AB', 'ITC Ltd', 'ITM Power PLC', 'ITT Educational Services Inc', 'ITT Inc', 'IVS Group SA', 'Ibstock PLC', 'Icahn Enterprises LP', 'Iceland Seafood Internation hf', 'Ideanomics Inc', 'Idemitsu Kosan Co Ltd', 'Iida Group Holdings Co Ltd', 'Illinois Tool Works Inc', 'Iluka Resources Ltd', 'Imdex Ltd', 'Imerys SA', 'Impala Platinum Holdings Ltd', 'Impellam Group PLC', 'Imperial Brands PLC', 'Imperial Oil Ltd', 'Imperial Pacific International Holdings Ltd', 'Implenia AG', 'Importadora y Exportadora de la Patagonia SA', 'InPost SA', 'InRetail Peru Corp', 'Inchcape PLC', 'Incitec Pivot Ltd', 'Indah Kiat Pulp & Paper Tbk PT', 'Independence Contract Drilling Inc', 'Indian Hotels Company Ltd', 'Indian Oil Corporation Ltd', 'Indo Tambangraya Megah Tbk PT', 'Indocement Tunggal Prakarsa Tbk PT', 'Indofood CBP Sukses Makmur Tbk PT', 'Indofood Sukses Makmur Tbk PT', 'Indorama Ventures PCL', 'Indus Holding AG', 'Industria de Diseno Textil SA', 'Industrias Bachoco SAB de CV', 'Industrias CH SAB de CV', 'Industrias Penoles SAB de CV', 'Industries Qatar QPSC', 'Indutrade AB', 'Infrastructure and Energy Alternatives Inc', 'Ingersoll Rand Inc', 'Ingevity Corp', 'Inghams Group Ltd', 'Ingles Markets Inc', 'Ingredion Inc', 'Inission AB', 'Inner Mongolia BaoTou Steel Union Co Ltd', 'Inner Mongolia Dazhong Mining Co Ltd', 'Inner Mongolia Dian Tou Energy Corp Ltd', 'Inner Mongolia First Machinery Group Co Ltd', 'Inner Mongolia Junzheng Energy & Chemical Group Co Ltd', 'Inner Mongolia Yili Industrial Group Co Ltd', 'Inner Mongolia Yitai Coal Co Ltd', 'Innospec Inc', 'Innovate Corp', 'Inpex Corp', 'Insperity Inc', 'Inspired Entertainment Inc', 'Inspired PLC', 'Instalco AB', 'Installed Building Products Inc', 'Insteel Industries Inc', 'Inter Parfums Inc', 'InterContinental Hotels Group PLC', 'Interface Inc', 'Interfor Corp', 'Interglobe Aviation Ltd', 'International Consolidated Airlines Group SA', 'International Container Terminal Services Inc', 'International Flavors & Fragrances Inc', 'International Game Technology PLC', 'International Paper Co', 'International Petroleum Corp', 'International Seaways Inc', 'Interparfums SA', 'Interpump Group SpA', 'Interroll Holding AG', 'Intertape Polymer Group Inc', 'Intertek Group PLC', 'Intertrust NV', 'Intracom Holdings SA', 'Intrepid Potash Inc', 'Intrum AB', 'Inversora Juramento SA', 'Investment AB Latour', 'Invicta Holdings Ltd', 'Invisio AB', 'InvoCare Ltd', 'Inwido AB (publ)', 'Iochpe Maxion SA', 'Irisity AB (publ)', 'Isetan Mitsukoshi Holdings Ltd', 'Iskenderun Demir ve Celik AS', 'Israel Corporation Ltd', 'Iss A/S', 'Isuzu Motors Ltd', 'Italmobiliare SpA', 'Ito En Ltd', 'Itochu Corp', 'Itochu Enex Co Ltd', 'Ivanhoe Mines Ltd', 'Iwatani Corp', 'J & J Snack Foods Corp', 'J B Hunt Transport Services Inc', 'J D Wetherspoon PLC', 'J K Cement Ltd', 'J M Smucker Co', 'J Sainsbury PLC', 'J.Front Retailing Co Ltd', 'JB Hi-Fi Ltd', 'JBS SA', 'JD Health International Inc', 'JD Sports Fashion PLC', 'JD.Com Inc', 'JDE Peets NV', 'JELD-WEN Holding Inc', 'JFE Holdings Inc', 'JG Summit Holdings Inc', 'JGC Holdings Corp', 'JJill Inc', 'JM AB', 'JOST Werke AG', 'JSR Corp', 'JSW Steel Ltd', 'JUNEYAO AIRLINES Co Ltd', 'JVM Co Ltd', 'JWD InfoLogistics PCL', 'Jack in the Box Inc', 'Jacobs Engineering Group Inc', 'Jacquet Metals SA', 'Jaguar Mining Inc', 'Jaiprakash Associates Ltd', 'James Cropper PLC', 'James Fisher and Sons PLC', 'James Halstead PLC', 'James Hardie Industries PLC', 'James Latham PLC', 'Jamieson Wellness Inc', 'Japan Airlines Co Ltd', 'Japan Airport Terminal Co Ltd', 'Japan Petroleum Exploration Co Ltd', 'Japan Steel Works Ltd', 'Japan Tobacco Inc', 'Japfa Ltd', 'Jardine Cycle & Carriage Ltd', 'Jardine Matheson Holdings Ltd', 'Jarir Marketing Company SJSC', 'Jasa Marga (Persero) Tbk PT', 'Jason Furniture Hangzhou Co Ltd', 'Jastrzebska Spolka Weglowa SA', 'Jeronimo Martins SGPS SA', 'Jet2 PLC', 'JetBlue Airways Corp', 'Jiangsu Eastern Shenghong Co Ltd', 'Jiangsu Expressway Co Ltd', 'Jiangsu Hengli Hydraulic Co Ltd', \"Jiangsu King's Luck Brewery Joint-Stock Co Ltd\", 'Jiangsu Shagang Co Ltd', 'Jiangsu Yanghe Brewery Joint-Stock Co Ltd', 'Jiangsu Yangnong Chemical Co Ltd', 'Jiangsu Yoke Technology Co Ltd', 'Jiangsu Zhongtian Technology Co Ltd', 'Jiangxi Copper Co Ltd', 'Jiangxi Hongdu Aviation Industry Co Ltd', 'Jiangxi Zhengbang Technology Co Ltd', 'Jihua Group Corp Ltd', 'Jindal Steel And Power Ltd', 'Jinduicheng Molybdenum Co Ltd', 'Jiugui Liquor Co Ltd', 'Jiumaojiu International Holdings Ltd', 'Jizhong Energy Resources Co Ltd', 'John B Sanfilippo & Son Inc', 'John Bean Technologies Corp', 'John Menzies PLC', 'John Wood Group PLC', 'Johns Lyng Group Ltd', 'Johnson Controls International PLC', 'Johnson Electric Holdings Ltd', 'Johnson Matthey PLC', 'Johnson Outdoors Inc', 'Johnson Service Group PLC', 'Jollibee Foods Corp', 'Jonjee Hi-tech Industrial and Commercial Holding Co Ltd', 'Joules Group PLC', 'Joyoung Co Ltd', 'Jtekt Corp', 'Jubilant Foodworks Ltd', 'Jubilee Metals Group PLC', 'Judges Scientific PLC', 'Juewei Food Co Ltd', 'Jumbo Interactive Ltd', 'Jumbo SA', 'Jumia Technologies AG', 'Jungfraubahn Holding AG', 'Jungheinrich AG', 'Jupiter Mines Ltd', 'Just Eat Takeaway.com NV', 'K&S AG', 'K-Bro Linen Inc', 'K3 Capital Group PLC', 'K92 Mining Inc', 'KAR Auction Services Inc', 'KB Home', 'KBR Inc', 'KCC Corp', 'KEPCO Plant Service & Engineering Co Ltd', 'KGHM Polska Miedz SA', 'KHD Humboldt Wedag International AG', 'KLX Energy Services Holdings Inc', 'KMD Brands Ltd', 'KP Tissue Inc', 'KSB SE & Co KGaA', 'KT&G Corp', 'KWS SAAT SE & Co KgaA', 'Kadant Inc', 'Kaiser Aluminum Corp', 'Kaishan Group Co Ltd', 'Kajima Corp', 'Kaman Corp', 'Kambi Group PLC', 'Kamigumi Co Ltd', 'Kamux Oyj', 'Kandenko Co Ltd', 'Kandi Technologies Group Inc', 'Kaneka Corp', 'Kangwon Land Inc', 'Kansai Paint Co Ltd', 'Kao Corp', 'Kap AG', 'Kap Industrial Holdings Ltd', 'Kardemir Karabuk Demir Celik Sanayi ve Ticaret AS', 'Kardex Holding AG', 'Karoon Energy Ltd', 'Karora Resources Inc', 'Karsan Otomotiv Sanayii ve Ticaret AS', 'Kaufman & Broad SA', 'Kawasaki Heavy Industries Ltd', 'Kawasaki Kisen Kaisha Ltd', 'Keihan Holdings Co Ltd', 'Keikyu Corp', 'Keio Corp', 'Keisei Electric Railway Co Ltd', 'Keller Group PLC', 'Kellogg Co', 'Kelly Services Inc', 'Kelsian Group Ltd', 'Kelt Exploration Ltd', 'Kemira Oyj', 'Kendrion NV', 'Kenmare Resources PLC', 'Kennametal Inc', 'Keppel Corporation Ltd', 'Kerevitas Gida Sanayi ve Ticaret AS', 'Kering SA', 'Kernel Holding SA', 'Kerry Express (Thailand) PCL', 'Kerry Group PLC', 'Kerry Logistics Network Ltd', 'Kesko Oyj', 'Keurig Dr Pepper Inc', 'Kewpie Corp', 'Keyera Corp', 'Kforce Inc', 'Kia Corp', 'Kid ASA', 'Kier Group PLC', 'Kikkoman Corp', 'Kimball International Inc', 'Kimberly-Clark Corp', 'Kimberly-Clark de Mexico SAB de CV', 'Kinden Corp', 'Kinder Morgan Inc', 'Kindred Group PLC', 'Kinetik Holdings Inc', 'Kingfa Sci&Tech Co Ltd', 'Kingfisher PLC', 'Kingsgate Consolidated Ltd', 'Kingspan Group PLC', 'Kingsrose Mining Ltd', 'Kinross Gold Corp', 'Kintetsu Group Holdings Co Ltd', 'Kion Group AG', 'Kirby Corp', 'Kirin Holdings Co Ltd', \"Kirkland's Inc\", 'Klabin SA', 'Klingelnberg AG', 'Kloeckner & Co SE', 'Knaus Tabbert AG', 'Knight-Swift Transportation Holdings Inc', 'Knights Group Holdings PLC', 'Knorr Bremse AG', 'Kobayashi Pharmaceutical Co Ltd', 'Kobe Bussan Co Ltd', 'Kobe Steel Ltd', 'Koc Holding AS', 'Koenig & Bauer AG', 'Kogan.com Ltd', 'Kohls Corp', 'Koito Manufacturing Co Ltd', 'Kokuyo Co Ltd', 'Komatsu Ltd', 'Komax Holding AG', 'Komori Corp', 'Kone Oyj', 'Konecranes Abp', 'Kongsberg Automotive ASA', 'Kongsberg Gruppen ASA', 'Koninklijke Ahold Delhaize NV', 'Koninklijke BAM Groep NV', 'Koninklijke Boskalis Westminster NV', 'Koninklijke DSM NV', 'Koninklijke Vopak NV', 'Kontoor Brands Inc', 'Kontrolmatik Teknoloji Enerji ve Muhendislik AS', 'Koolearn Technology Holding Ltd', 'Koppers Holdings Inc', 'Kordsa Teknik Tekstil AS', 'Kore Potash PLC', 'Korea Aerospace Industries Ltd', 'Korea Shipbuilding & Offshore Engineering Co Ltd', 'Korea Zinc Inc', 'Korean Air Lines Co Ltd', 'Korn Ferry', 'Kornit Digital Ltd', 'Kose Corp', 'Kosmos Energy Ltd', 'Koza Altin Isletmeleri AS', 'Koza Anadolu Metal Madencilik Isletmeleri AS', 'Kraft Heinz Co', 'Kratos Defense and Security Solutions Inc', 'Kroger Co', 'Krones AG', 'Kronos Worldwide Inc', 'Kuala Lumpur Kepong Bhd', 'Kuang-Chi Technologies Co Ltd', 'Kubota Corp', 'Kuehne und Nagel International AG', 'Kuka AG', 'Kumba Iron Ore Ltd', 'Kumho Petro Chemical Co Ltd', 'Kura Sushi USA Inc', 'Kuraray Co Ltd', 'Kurita Water Industries Ltd', 'Kweichow Moutai Co Ltd', 'Kyoritsu Maintenance Co Ltd', 'Kyushu Railway Co', 'L B Foster Co', \"L'Air Liquide Societe Anonyme pour l'Etude et l'Exploitation des Procedes Georges Claude SA\", \"L'Occitane International SA\", \"L'Oreal SA\", 'L3harris Technologies Inc', 'LAIX Inc', 'LATAM Airlines Group SA', 'LB Group Co Ltd', 'LBX Pharmacy Chain JSC', 'LCI Industries', 'LF Corp', 'LG Chem Ltd', 'LG Corp', 'LG Electronics Inc', 'LG Household & Healthcare Ltd', 'LGI Homes Inc', 'LKQ Corp', 'LL Flooring Holdings Inc', 'LPP SA', 'LS Corp', 'LS Electric Co Ltd', 'LSB Industries Inc', 'LSI Industries Inc', 'LVMH Moet Hennessy Louis Vuitton SE', 'La Francaise des Jeux SA', 'La-Z-Boy Inc', 'Labrador Iron Ore Royalty Corp', 'Laird Superfood Inc', 'Lakeland Industries Inc', 'Lalique Group SA', 'Lamb Weston Holdings Inc', 'Lamprell Plc', 'Lancaster Colony Corp', 'Landec Corp', 'Lands End Inc', 'Landsea Homes Corp', 'Landstar System Inc', 'Lanxess AG', 'Laredo Petroleum Inc', 'Largo Inc', 'Larsen & Toubro Ltd', 'Las Vegas Sands Corp', 'Lassila & Tikanoja Oyj', 'Lassonde Industries Inc', 'Lastminute.com NV', 'Latecoere SA', 'Laureate Education Inc', 'Lawson Inc', 'Lazydays Holdings Inc', 'Lear Corp', 'Leclanche SA', 'Ledesma SAAI', 'Lee & Man Paper Manufacturing Ltd', 'Legacy Housing Corp', 'Leggett & Platt Inc', 'Legrand SA', 'Lehto Group Oyj', 'Leidos Holdings Inc', 'Leifheit AG', 'Leju Holdings Ltd', 'Lennar Corp', 'Lennox International Inc', 'Lenzing AG', 'LeoVegas AB (publ)', \"Leon's Furniture Ltd\", 'Leonardo SpA', 'Leoni AG', 'Leroy Seafood Group ASA', 'Levi Strauss & Co', 'Levima Advanced Materials Corp', 'Lewis Group Ltd', 'Li Auto Inc', 'Li Ning Co Ltd', 'Lianhe Chemical Technology Co Ltd', 'Liaoning Cheng Da Co Ltd', 'Liaoning Port Co Ltd', 'Liberty Energy Inc', 'Liberty Gold Corp', 'Lifco AB (publ)', 'LifeVantage Corp', 'LifeWorks Inc', 'Lifestyle International Holdings Ltd', 'Lifetime Brands Inc', 'Lifeway Foods Inc', 'Light & Wonder Inc', 'LightInTheBox Holding Co Ltd', 'Limbach Holdings Inc', 'Limoneira Co', 'Linamar Corp', 'Lincoln Educational Services Corp', 'Lincoln Electric Holdings Inc', 'Lindab International AB', 'Lindblad Expeditions Holdings Inc', 'Linde PLC', 'Lindsay Corp', 'Lion Corp', 'Lion Electric Co', 'Liontown Resources Ltd', 'Liquidity Services Inc', 'Lisi SA', 'Lithia Motors Inc', 'Lithium Americas Corp', 'Livent Corp', 'Lixil Corp', 'Loblaw Companies Ltd', 'Local Bounti Corp', 'Localiza Rent a Car SA', 'Lockheed Martin Corp', 'Logistics Development Group PLC', 'Logwin AG SA', 'Lojas Renner SA', 'Loma Negra Compania Industrial Argentina SA', 'London Security PLC', 'Longvie SA', 'Lonking Holdings Ltd', 'Lookers PLC', 'Loomis AB', 'Lordstown Motors Corp', 'Los Cerros Ltd', 'Lotte Chemical Corp', 'Lotte Chilsung Beverage Co Ltd', 'Lotte Corp', 'Lotte Fine Chemical Co Ltd', 'Lotte Shopping Co Ltd', 'Louisiana-Pacific Corp', 'Loungers PLC', 'Lovesac Co', 'Lovisa Holdings Ltd', \"Lowe's Companies Inc\", 'Lu-Ve SpA', 'Lubelski Wegiel Bogdanka SA', 'Lucara Diamond Corp', 'Luceco PLC', 'Lucid Group Inc', 'Luckin Coffee Inc', 'Lucky Cement Ltd', 'Lululemon Athletica Inc', 'Lundin Energy AB', 'Lundin Gold Inc', 'Lundin Mining Corp', 'Luxfer Holdings PLC', 'Luxi Chemical Group Co Ltd', 'Luzhou Laojiao Co Ltd', 'Lyft Inc', 'Lynas Rare Earths Ltd', 'LyondellBasell Industries NV', 'M Dias Branco SA Industria e Comercio de Alimentos', 'M P Evans Group PLC', 'M.Video PAO', 'M/I Homes Inc', 'MACA Ltd', 'MAG Silver Corp', 'MAX Automation SE', 'MBB SE', 'MC Mining Ltd', 'MDC Holdings Inc', 'MDU Resources Group Inc', 'MEG Energy Corp', 'MGM China Holdings Ltd', 'MGM Resorts International', 'MGP Ingredients Inc', 'MJ Gleeson PLC', 'MK Lenta PAO', 'MMA Offshore Ltd', 'MMG Ltd', 'MMX Mineracao e Metalicos SA Em Recuperacao Judicial', 'MOL Magyar Olajes Gazipari Nyrt', 'MP Materials Corp', 'MPAC Group PLC', 'MPLX LP', 'MRC Global Inc', 'MRF Ltd', 'MRV Engenharia e Participacoes SA', 'MSA Safety Inc', 'MSC Industrial Direct Co Inc', 'MT Hoejgaard Holding A/S', 'MTR Corp Ltd', 'MTU Aero Engines AG', 'MTY Food Group Inc', 'MYR Group Inc', 'Maanshan Iron & Steel Co Ltd', 'Mabuchi Motor Co Ltd', 'Macfarlane Group PLC', 'Macmahon Holdings Ltd', \"Macy's Inc\", 'Maersk Drilling A/S', 'Magazine Luiza SA', 'Magellan Aerospace Corp', 'Magellan Midstream Partners LP', 'Magna International Inc', 'Magnis Energy Technologies Ltd', 'Magnit PAO', 'Magnitogorskiy Metallurgicheskiy Kombinat PAO', 'Magnolia Oil & Gas Corp', 'Magnum Bhd', 'Magseis Fairfield ASA', 'Maha Energy AB', 'Mahindra and Mahindra Ltd', 'Mahle Metal Leve SA', 'Mainfreight Ltd', 'Maintel Holdings PLC', 'Maire Tecnimont SpA', 'Maisons du Monde SA', 'Major Drilling Group International Inc', 'Makalot Industrial Co Ltd', 'MakeMyTrip Ltd', 'Makita Corp', 'Malayan Cement Bhd', 'Malaysia Airports Holdings Bhd', 'Malaysia Marine and Heavy Engineering Holdings Bhd', 'Malibu Boats Inc', 'Mammoth Energy Services Inc', 'ManTech International Corp', 'Mandarin Oriental International Ltd', 'Mando Corp', 'Manitex International Inc', 'Manitou BF SA', 'Manitowoc Company Inc', 'Mannai Corporation QPSC', 'ManpowerGroup Inc', 'Maple Leaf Foods Inc', 'Marathon Gold Corp', 'Marathon Oil Corp', 'Marathon Petroleum Corp', 'Marcopolo SA', 'Marel hf', 'Marfrig Global Foods SA', 'Marico Ltd', 'Marie Brizard Wine and Spirits SA', 'Marimekko Oyj', 'Marine Products Corp', 'MarineMax Inc', 'Marks and Spencer Group PLC', 'Marley Spoon AG', 'Marlowe PLC', 'Marr SpA', 'Marriott International Inc', 'Marriott Vacations Worldwide Corp', 'Marrone Bio Innovations Inc', 'Marshall Motor Holdings PLC', 'Marshalls PLC', \"Marston's PLC\", 'Marten Transport Ltd', 'Martin Marietta Materials Inc', 'Martinrea International Inc', 'Marubeni Corp', 'Maruichi Steel Tube Ltd', 'Maruti Suzuki India Ltd', 'MasTec Inc', 'Masan Group Corp', 'Maschinenfabrik Berthold Hermle AG', 'Masco Corp', 'Masisa SA', 'Masonite International Corp', 'Massmart Holdings Ltd', 'Mastech Digital Inc', 'Mastercraft Boat Holdings Inc', 'Masterflex SE', 'Masterplast Nyrt', 'Matador Resources Co', 'Matahari Department Store Tbk PT', 'Matas A/S', 'Materion Corp', 'Matrix Composites & Engineering Ltd', 'Matrix Service Co', 'Matson Inc', 'MatsukiyoCocokara & Co', 'Mattel Inc', 'Matthews International Corp', 'Maverix Metals Inc', 'Mavi Giyim Sanayi ve Ticaret AS', 'Maxar Technologies Inc', 'Maxiparts Ltd', 'Mayr Melnhof Karton AG', 'Mayville Engineering Company Inc', 'Mazda Motor Corp', 'McBride PLC', \"McColl's Retail Group PLC\", 'McCormick & Company Inc', \"McDonald's Corp\", \"McDonald's Holdings Company Japan Ltd\", 'McEwen Mining Inc', 'McGrath RentCorp', \"McPherson's Ltd\", 'Mcmillan Shakespeare Ltd', 'Mears Group PLC', 'Mechel PAO', 'Medifast Inc', 'Meggitt PLC', 'Meiji Holdings Co Ltd', 'Meitec Corp', 'Meituan', 'Mekonomen AB', 'Melbana Energy Ltd', 'Melco International Development Ltd', 'Melco Resorts & Entertainment Ltd', 'Melia Hotels International SA', 'Melrose Industries PLC', 'Meltwater NV', 'Merafe Resources Ltd', 'Mercadolibre Inc', 'Mercari Inc', 'Mercator Minerals Ltd', 'Mercedes-Benz Group AG', 'Mercer International Inc', 'Mercury Systems Inc', 'Merdeka Copper Gold Tbk PT', 'Merida Industry Co Ltd', 'Meritage Homes Corp', 'Meritage Hospitality Group Inc', 'Meritor Inc', 'Mersen SA', 'Mesa Air Group Inc', 'Mesaieed Petrochemical Holding Company QPSC', 'Meta Data Ltd', 'Metair Investments Ltd', 'Metallurgical Corporation of China Ltd', 'Metals X Ltd', 'Metalurgica Gerdau SA', 'Metcash Ltd', 'Methanex Corp', 'Metro AG', 'Metro Inc', 'Metro Performance Glass Ltd', 'Metsa Board Oyj', 'Metso Outotec Corp', 'Mhp Se', 'Michael Hill International Ltd', 'Michelmersh Brick Holdings PLC', 'Middleby Corp', 'Midea Group Co Ltd', 'Midsona AB', 'Migros Ticaret AS', 'Mikron Holding AG', 'MilDef Group AB', 'Miller Industries Inc', 'MillerKnoll Inc', 'Mincor Resources NL', 'Mind Gym PLC', 'Minebea Mitsumi Inc', 'Minera Frisco SAB de CV', 'Mineral Resources Ltd', 'Minerals Technologies Inc', 'Minerva SA', 'Minesto AB', 'Ming Yang Smart Energy Group Ltd', 'Minor International PCL', 'Minsur SA', 'Minth Group Ltd', 'Mips AB', 'Miquel y Costas & Miquel SA', 'Mirgor SACIFIA', 'Misc Bhd', 'Mission Produce Inc', 'Mistras Group Inc', 'Misumi Group Inc', 'Mitchells & Butlers PLC', 'Mitie Group PLC', 'Mitsubishi Chemical Holdings Corp', 'Mitsubishi Corp', 'Mitsubishi Electric Corp', 'Mitsubishi Gas Chemical Co Inc', 'Mitsubishi Heavy Industries Ltd', 'Mitsubishi Logistics Corp', 'Mitsubishi Materials Corp', 'Mitsubishi Motors Corp', 'Mitsui & Co Ltd', 'Mitsui Chemicals Inc', 'Mitsui E&S Holdings Co Ltd', 'Mitsui Mining and Smelting Co Ltd', 'Mitsui O.S.K. Lines Ltd', 'Miura Co Ltd', 'Mobile World Investment Corp', 'Mobilezone Holding AG', 'Modine Manufacturing Co', 'Mogu Inc', 'Mohawk Industries Inc', 'Molecular Data Inc', 'Molinos Agro SA', 'Molinos Juan Semino SA', 'Molinos Rio de la Plata SA', 'Molson Coors Beverage Co', 'Momo Com Inc', 'Monadelphous Group Ltd', 'Monarch Casino & Resort Inc', 'Moncler SpA', 'Mondelez International Inc', 'Mondi PLC', 'Mongolia Energy Corp Ltd', 'Monnalisa SpA', 'MonotaRO Co Ltd', 'Monro Inc', 'Monster Beverage Corp', 'Montrose Environmental Group Inc', 'Moog Inc', 'Moonpig Group PLC', 'Morella Corporation Ltd', 'Morgan Advanced Materials PLC', 'Morgan Sindall Group PLC', 'Morixe Hermanos SACI', 'Mosaic Co', 'Mota Engil SGPS SA', 'Mothercare PLC', 'Motor Oil Hellas Corinth Refineries SA', 'Motorcar Parts of America Inc', 'Motorpoint Group PLC', 'Motus Holdings Ltd', 'Mount Gibson Iron Ltd', 'Mountain Province Diamonds Inc', 'Movado Group Inc', 'Movida Participacoes SA', 'Mowi ASA', 'Mpact Ltd', 'Mr DIY Group M Bhd', 'Mr Price Group Ltd', 'Muehlhan AG', 'Mueller Industries Inc', 'Mueller Water Products Inc', 'Mulberry Group PLC', 'Mullen Group Ltd', 'Multiconsult ASA', 'Munters Group AB', 'Murphy Oil Corp', 'Murphy Usa Inc', 'Murray & Roberts Holdings Ltd', 'Musti Group Oyj', 'Mutandis SCA', 'Muyuan Foods Co Ltd', 'Myer Holdings Ltd', 'Myers Industries Inc', 'Mytilineos SA', 'N Brown Group PLC', 'NACCO Industries Inc', 'NAK Kazatomprom AO', 'NARI Technology Co Ltd', 'NCC Ltd', 'NCS Multistage Holdings Inc', 'NFI Group Inc', 'NGK Insulators Ltd', 'NGK Spark Plug Co Ltd', 'NGL Energy Partners LP', 'NH Foods Ltd', 'NH Hotel Group SA', 'NHK Spring Co Ltd', 'NIO Inc', 'NIU Technologies', 'NK Lukoil PAO', \"NK Rosneft' PAO\", 'NL Industries Inc', 'NN Inc', 'NOK Corp', 'NOW Inc', 'NR Instant Produce PCL', 'NRC Group ASA', 'NRW Holdings Ltd', 'NSK Ltd', 'NTG Nordic Transport Group AS', 'NTN Corp', 'NU Skin Enterprises Inc', 'NV Bekaert SA', 'NV5 Global Inc', 'NVR Inc', 'NWF Group PLC', 'NWS Holdings Ltd', 'Nabaltec AG', 'Nabors Industries Ltd', 'Nabtesco Corp', 'Nagacorp Ltd', 'Nagoya Railroad Co Ltd', 'Naked Wines PLC', 'Nampak Ltd', 'Namyong Terminal PCL', 'Nan Ya Plastics Corp', 'Nanjing Hanrui Cobalt Co Ltd', 'Nanjing Iron & Steel Co Ltd', 'Nanjing Tanker Corp', 'Nankai Electric Railway Co Ltd', 'Nankang Rubber Tire Corp Ltd', 'Napier Port Holdings Ltd', 'Naspers Ltd', \"Nathan's Famous Inc\", 'National Aluminium Co Ltd', 'National Beverage Corp', 'National Energy Services Reunited Corp', 'National Express Group PLC', 'National Industrialization Company SJSC', 'National Presto Industries Inc', 'National Vision Holdings Inc', 'Natura & Co Holding SA', 'Natural Gas Services Group Inc', 'Natural Grocers By Vitamin Cottage Inc', 'Natural Health Trends Corp', 'Natures Sunshine Products Inc', 'Natuzzi SpA', 'Nautilus Inc', 'Navigator Company SA', 'Ncc AB', 'Nederman Holding AB', 'Neenah Inc', 'Neinor Homes SA', 'Nel ASA', 'Nelly Group AB (publ)', 'Nemak SAB de CV', 'Neo Performance Materials Inc', 'NeoGames SA', 'Neptune Wellness Solutions Inc', 'Neste Oyj', 'Nestle (Malaysia) Bhd', 'Nestle India Ltd', 'Nestle SA', 'Nevada Copper Corp', 'New Century Resources Ltd', 'New Fortress Energy Inc', 'New Gold Inc', 'New Hope Corporation Ltd', 'New Hope Dairy Co Ltd', 'New Hope Liuhe Co Ltd', 'New Oriental Education & Technology Group Inc', 'New Pacific Metals Corp', 'New Wave Group AB', 'NewMarket Corp', 'Newage Inc', 'Neway Group Holdings Ltd', 'Newcrest Mining Ltd', 'Newell Brands Inc', 'Newlat Food SpA', 'Newmont Corporation', 'Newpark Resources Inc', 'Nexa Resources Atacocha SAA', 'Nexa Resources Peru SAA', 'Nexa Resources SA', 'Nexans SA', 'Nexgen Energy Ltd', 'Next PLC', 'NextDecade Corp', 'Nexteer Automotive Group Ltd', 'Nextier Oilfield Solutions Inc', 'Nexus Infrastructure PLC', 'Nhoa SA', 'Nibe Industrier AB', 'Nichirei Corp', 'Nichols PLC', 'Nick Scali Ltd', 'Nickel Industries Ltd', 'Nidec Corp', 'Nielsen Holdings PLC', 'Nien Made Enterprise Co Ltd', 'Nike Inc', 'Nikola Corp', 'Nikon Corp', 'Nilfisk Holding A/S', 'Nilorngruppen AB', 'Nine Dragons Paper (Holdings) Ltd', 'Nine Energy Service Inc', 'Ningbo Huaxiang Electronic Co Ltd', 'Ningbo Joyson Electronic Corp', 'Ningbo Shanshan Co Ltd', 'Ningbo Tuopu Group Co Ltd', 'Ningbo Zhoushan Port Co Ltd', 'Ningxia Baofeng Energy Group Co Ltd', 'Nippn Corp', 'Nippon Express Holdings Inc', 'Nippon Kayaku Co Ltd', 'Nippon Paint Holdings Co Ltd', 'Nippon Paper Industries Co Ltd', 'Nippon Sanso Holdings Corp', 'Nippon Sheet Glass Co Ltd', 'Nippon Shokubai Co Ltd', 'Nippon Steel Corp', 'Nippon Suisan Kaisha Ltd', 'Nippon Yusen KK', 'Nishimatsu Construction Co Ltd', 'Nissan Chemical Corp', 'Nissan Motor Co Ltd', 'Nisshin Seifun Group Inc', 'Nisshinbo Holdings Inc', 'Nissin Foods Holdings Co Ltd', 'Nitori Holdings Co Ltd', 'Nitto Denko Corp', 'Nkt A/S', 'NoHo Partners Oyj', 'Nobia AB', 'Noble Corp (Cayman Island)', 'Noble Group Ltd', 'Nokian Tyres plc', 'Nolato AB', 'Nomad Foods Ltd', 'Nomad Royalty Company Ltd', 'Nongfu Spring Co Ltd', 'Nongshim Co Ltd', 'Noodles & Co', 'Norcros PLC', 'Nordex SE', 'Nordic American Tanker Ltd', 'Nordic Paper Holding AB', 'Nordic Waterproofing Holding AB', 'Nordson Corp', 'Nordstrom Inc', 'Norfolk Southern Corp', 'Norma Group SE', 'Norsk Hydro ASA', 'Norske Skog ASA', 'North Industries Group Red Arrow Co Ltd', 'North Navigation Control Technology Co Ltd', 'North West Company Inc', 'Northam Platinum Holdings Ltd', 'Northern Drilling Ltd', 'Northern Dynasty Minerals Ltd', 'Northern Oil and Gas Inc', 'Northern Star Resources Ltd', 'Northrop Grumman Corp', 'Northwest Pipe Co', 'Norway Royal Salmon ASA', 'Norwegian Air Shuttle ASA', 'Norwegian Cruise Line Holdings Ltd', 'Nostrum Oil & Gas PLC', 'Noumi Ltd', 'Nov Inc', 'NovaGold Resources Inc', 'Novatek PAO', 'Novo Resources Corp', 'Novolipetsk Steel PAO', 'Novozymes A/S', 'NuStar Energy LP', 'Nucor Corp', 'Nufarm Ltd', 'Nutrien Ltd', 'Nuvista Energy Ltd', 'Nyrstar NV', \"O'Key Group SA\", \"O'Reilly Automotive Inc\", 'O-I Glass Inc', 'OC Oerlikon Corporation AG Pfaeffikon', 'OCI Co Ltd', 'OCI NV', 'ODP Corp', 'OEM International AB', 'OHB SE', 'OK Rusal MKPAO', 'OM Holdings Ltd', 'OMV AG', 'OMV Petrom SA', 'ONEOK Inc', 'ORG Technology Co Ltd', 'ORION Holdings Corp', 'OSG Corp', 'OVS SpA', 'OZ Minerals Ltd', 'Oasis Petroleum Inc', 'Obayashi Corp', 'Obrascon Huarte Lain SA', 'Obsidian Energy Ltd', 'Ocado Group PLC', 'Occidental Petroleum Corp', 'Ocean Wilsons Holdings Ltd', 'Oceana Group Ltd', 'OceanaGold Corp', 'Oceaneering International Inc', 'Odakyu Electric Railway Co Ltd', 'Odfjell Drilling Ltd', 'Odfjell SE', 'Oeneo SA', 'Oesterreichische Post AG', 'Offcn Education Technology Co Ltd', 'Offshore Oil Engineering Co Ltd', 'Oil India Ltd', 'Oil States International Inc', 'Oil and Gas Development Co Ltd', 'Oil and Natural Gas Corporation Ltd', 'Oil-Dri Corporation of America', 'Oji Holdings Corp', 'Okuma Corp', 'Okumura Corp', 'Old Dominion Freight Line Inc', 'Olin Corp', \"Ollie's Bargain Outlet Holdings Inc\", 'Olvi Oyj', 'Olympic Steel Inc', 'Omega Flex Inc', 'Omnia Holdings Ltd', 'On The Beach Group PLC', 'OneWater Marine Inc', 'Onespaworld Holdings Ltd', 'Ontex Group NV', 'Onward Holdings Co Ltd', 'Openjobmetis SpA Agenzia per il Lavoro', 'Oppein Home Group Inc', 'Opple Lighting Co Ltd', 'Opus Global Nyrt', 'Orascom Development Holding AG', 'Orbia Advance Corporation SAB de CV', 'Orbital Energy Group Inc', 'Orell Fuessli AG', 'Organizacion Terpel SA', 'Orica Ltd', 'Orient Overseas (International) Ltd', 'Oriental Energy Co Ltd', 'Oriental Land Co Ltd', 'Oriental Union Chemical Corp', 'Origin Enterprises PLC', 'Orion Corp', 'Orion Energy Systems Inc', 'Orion Engineered Carbons SA', 'Orion Group Holdings Inc', 'Orior AG', 'Orkla ASA', 'Orla Mining Ltd', 'Orora Ltd', 'Orsero SpA', 'Osaka Titanium Technologies Co Ltd', 'Oshkosh Corp', 'Osisko Gold Royalties Ltd', 'Osisko Mining Inc', 'Osotspa PCL', 'Osram Licht AG', 'Otis Worldwide Corp', 'Otokar Otomotiv ve Savunma Sanayi AS', 'Ottogi Corp', 'Outokumpu Oyj', 'Ovato Ltd', 'Overseas Shipholding Group Inc', 'Overstock.com Inc', 'Ovintiv Inc', 'Owens Corning', 'Oxe Marine AB', 'Oxford Industries Inc', 'Ozon Holdings PLC', 'P/F Bakkafrost', 'PAM Transportation Services Inc', 'PARKSON Retail Group Ltd', 'PBF Energy Inc', 'PBG SA w restrukturyzacji', 'PCS Machine Group Holding PCL', 'PDC Energy Inc', 'PDG Realty SA Empreendimentos e Participacoes em Recuperacao Judicial', 'PGS ASA', 'PGT Innovations Inc', 'PHX Energy Services Corp', 'PHX Minerals Inc', 'PI Industries Ltd', 'PIERER Mobility AG', 'PKP Cargo SA', 'PNE AG', 'PPB Group Bhd', 'PPC Ltd', 'PPG Industries Inc', 'PPHE Hotel Group Ltd', 'PPK Group Ltd', 'PPX Mining Corp', 'PSG Group Ltd', 'PTG Energy PCL', 'PTT Exploration and Production PCL', 'PTT Global Chemical PCL', 'PTT Oil and Retail Business PCL', 'PTT PCL', 'PVH Corp', 'PZ Cussons PLC', 'Pabrik Kertas Tjiwi Kimia Tbk PT', 'Paccar Inc', 'Pacific Basin Shipping Ltd', 'Packaging Corp of America', 'Pact Group Holdings Ltd', 'Page Industries Ltd', 'Pagegroup PLC', 'Paladin Energy Ltd', 'Palfinger AG', 'Pan African Resources PLC', 'Pan American Silver Corp', 'Pan Ocean Co Ltd', 'Pan Pacific International Holdings Corp', 'Panasonic Holdings Corp', 'Pandora A/S', 'Pangaea Logistics Solutions Ltd', 'Pangang Group Vanadium Titanium & Resources Co Ltd', 'Panoramic Resources Ltd', 'Panoro Minerals Ltd', \"Papa John's International Inc\", 'Par Pacific Holdings Inc', 'Paradise Co Ltd', 'Paragon GmbH & Co KGaA', 'Paramount Resources Ltd', 'Parex Resources Inc', 'Park Aerospace Corp', 'Park Lawn Corp', 'Park Ohio Holdings Corp', 'Park24 Co Ltd', 'Parker-Hannifin Corp', 'Parkland Corp', 'Parkson Holdings Bhd', 'Parsons Corp', 'Party City Holdco Inc', 'Pason Systems Inc', 'Patrick Industries Inc', 'Patterson-UTI Energy Inc', 'Peab AB', 'Peabody Energy Corp', 'Pegasus Hava Tasimaciligi AS', 'Peloton Interactive Inc', 'Pembina Pipeline Corp', 'Pendragon PLC', 'Penn National Gaming Inc', 'Penske Automotive Group Inc', 'Pentair PLC', 'Pepkor Holdings Ltd', 'PepsiCo Inc', 'Perdoceo Education Corp', 'Perennial Energy Holdings Ltd', 'Perenti Global Ltd', 'Performance Food Group Co', 'Performant Financial Corp', 'Pernod Ricard SA', 'Perpetua Resources Corp', 'Perpetual Energy Inc', 'Perseus Mining Ltd', 'Persimmon PLC', 'Persol Holdings Co Ltd', 'Petco Health and Wellness Company Inc', 'Petkim Petrokimya Holding AS', 'Petmed Express Inc', 'Petra Diamonds Ltd', 'Petro Rio SA', 'Petro Welt Technologies AG', 'PetroChina Co Ltd', 'Petrofac Ltd', 'Petroleo Brasileiro SA Petrobras', 'Petronas Chemicals Group Bhd', 'Petronas Dagangan Bhd', 'Petronet LNG Ltd', 'Petropavlovsk PLC', 'Pets at Home Group PLC', 'Peyto Exploration & Development Corp', 'Pfeiffer Vacuum Technology AG', 'Pharmanutra SpA', 'Pharos Energy PLC', 'Philip Morris International Inc', 'Phillips 66', 'Phoenix Global Resources PLC', 'Phoenix Mecano AG', 'PhosAgro PAO', 'Phoslock Environmental Technologies Ltd', 'Photo-Me International PLC', 'Piaggio & C SpA', 'Pick N Pay Stores Ltd', 'Pidilite Industries Ltd', 'Piedmont Lithium Inc', 'Pigeon Corp', 'Pilbara Minerals Ltd', 'Pilgrims Pride Corp', 'Pinar Entegre Et ve Un Sanayii AS', 'Pinar Sut Mamulleri Sanayii AS', 'Pinduoduo Inc', 'Ping An Healthcare and Technology Co Ltd', 'Pingtan Marine Enterprise Ltd', 'Pioneer Natural Resources Co', 'Piraeus Port Authority SA', 'Pirelli & C SpA', 'Pitney Bowes Inc', 'Pizza Pizza Royalty Corp', 'Plains All American Pipeline LP', 'Plains GP Holdings LP', 'Planet Fitness Inc', 'PlayAGS Inc', 'Playa Hotels & Resorts NV', 'Playtech PLC', 'Plby Group Inc', 'Plug Power Inc', 'Pointsbet Holdings Ltd', 'Pola Orbis Holdings Inc', 'Polaris Inc', 'Polimex Mostostal SA', 'Polisan Holding AS', 'Pollard Banknote Ltd', 'Polski Koncern Naftowy Orlen SA', 'Polskie Gornictwo Naftowe i Gazownictwo SA', 'Polymetal International PLC', 'Polyus PJSC', 'Ponsse Oyj', 'Pool Corp', 'Porch Group Inc', 'Porr AG', 'Porsche Automobil Holding SE', 'Port of Tauranga Ltd', 'Portmeirion Group PLC', 'Porvair PLC', 'Posco Chemical Co Ltd', 'Posco Holdings Inc', 'Posco International Corp', 'Poshmark Inc', 'Post Holdings Inc', 'PostNL NV', 'Potbelly Corp', 'Pou Chen Corp', 'Poujoulat SA', 'Powell Industries Inc', 'Power Construction Corporation of China Ltd', 'Power Solutions International Inc', 'Powercell Sweden AB (publ)', 'Prada SpA', 'Prairiesky Royalty Ltd', 'Precia SA', 'Precision Drilling Corp', 'Preformed Line Products Co', 'Premier Foods PLC', 'Premier Investments Ltd', 'Premier Marketing PCL', 'Premium Brands Holdings Corp', 'President Chain Store Corp', 'Press Metal Aluminium Holdings Bhd', 'PriceSmart Inc', 'Prima Industrie SpA', 'Prima Marine PCL', 'Primeenergy Resources Corp', 'Primo Water Corp', 'Primoris Services Corp', 'ProPetro Holding Corp', 'Procter & Gamble Co', 'Prodigy Gold NL', 'Prodways Group SA', 'Profilgruppen AB', 'Profire Energy Inc', 'Progress Werk Oberkirch AG', 'Project Planning Service PCL', 'Projektengagemang Sweden AB', 'Promotora y Operadora de Infraestructura SAB de CV', 'Prosafe SE', 'Prosegur Cash SA', 'Prosegur Compania de Seguridad SA', 'Prosus NV', 'Proto Labs Inc', 'Proya Cosmetics Co Ltd', 'Prysmian SpA', 'Pultegroup Inc', 'Puma SE', 'Pure Foods Tasmania Ltd', 'Pure Gold Mining Inc', 'Purecycle Technologies Inc', 'Puregold Price Club Inc', 'Purple Innovation Inc', 'Puxin Ltd', 'QL Resources Bhd', 'Qantas Airways Ltd', 'Qatar Aluminum Manufacturing Company QPSC', 'Qatar Fuel Company QPSC', 'Qatar Gas Transport Nakilat Co Ltd QPSC', 'Qatar Industrial Manufacturing Company QPSC', 'Qatar National Cement Company QPSC', 'Qatar Navigation QPSC', 'Qatari Investors Group QPSC', 'Qianhe Condiment and Food Co Ltd', 'QinetiQ Group PLC', 'Qingdao Port International Co Ltd', 'Qingdao TGOOD Electric Co Ltd', 'Qinghai Salt Lake Industry Co Ltd', 'Quad/Graphics Inc', 'Quaker Chemical Corp', 'Quanex Building Products Corp', 'Quanta Services Inc', 'Quantumscape Corp', 'Qube Holdings Ltd', 'Questerre Energy Corp (Canada)', 'Quhuo Ltd', 'Quinenco SA', 'Quixant PLC', 'Quotient Technology Inc', 'Qurain Petrochemical Industries Company KSCP', 'Qurate Retail Inc', 'R E A Holdings PLC', 'R Stahl AG', 'R&B Food Supply PCL', 'RAK Petroleum PLC', 'RBC Bearings Inc', 'RCI Hospitality Holdings Inc', 'RCL Foods Ltd', 'REV Group Inc', 'REX American Resources Corp', 'RH', 'RHI Magnesita NV', 'RLX Technology Inc', 'RPC Inc', 'RPM International Inc', 'RPS Group PLC', 'RS Group PLC', 'RWS Holdings PLC', 'Ra International Group Plc', 'Rabigh Refining and Petrochemical Company SJSC', 'Radiant Logistics Inc', 'Raia Drogasil SA', 'Railcare Group AB', 'Rainbow Digital Commercial Co Ltd', 'Rainbow Rare Earths Ltd', 'Raketech Group Holding PLC', 'Rakuten Group Inc', 'Rallye SA', 'Ralph Lauren Corp', 'Ramaco Resources Inc', 'Ramco Cements Limited', 'Ramelius Resources Ltd', 'Randon SA Implementos e Participacoes', 'Randstad NV', 'Range Resources Corp', 'Ranger Energy Services Inc', 'Ranger Oil Corp', 'Rank Group PLC', 'Ranpak Holdings Corp', 'Rapala VMC Oyj', 'Rapid Nutrition PLC', 'Rare Element Resources Ltd', 'Raspadskaya PAO', 'Rational AG', 'Raubex Group Ltd', 'Raute Oyj', 'Rayonier Advanced Materials Inc', 'Raysut Cement Company SAOG', 'Raytheon Technologies Corp', 'ReNewCell AB', 'RealReal Inc', 'Recipe Unlimited Corp', 'Reckitt Benckiser Group PLC', 'Recruit Holdings Co Ltd', 'Recticel NV', 'Red 5 Ltd', 'Red Avenue New Materials Group Co Ltd', 'Red Robin Gourmet Burgers Inc', 'Red Rock Resorts Inc', 'Red Violet Inc', 'Redbubble Ltd', 'Redde Northgate PLC', 'Redrow PLC', 'Reece Ltd', 'Regal Rexnord Corp', 'Regional Container Lines PCL', 'Regis Corp', 'Regis Resources Ltd', 'Reitmans Canada Ltd', 'Reject Shop Ltd', 'Rejlers AB (publ)', 'Reliance Industries Ltd', 'Reliance Steel & Aluminum Co', 'Reliance Worldwide Corporation Ltd', 'Relx PLC', 'Remark Holdings Inc', 'Remy Cointreau SA', 'Renault SA', 'Renew Holdings PLC', 'Renewable Energy Group Inc', 'Renewi PLC', 'Rent-A-Center Inc', 'Rentokil Initial PLC', 'Repsol SA', 'Republic Services Inc', 'Resideo Technologies Inc', 'Resolute Forest Products Inc', 'Resolute Mining Ltd', 'Resorttrust Inc', 'Resources Connection Inc', 'Restaurant Brands International Inc', 'Restaurant Brands New Zealand Ltd', 'Restaurant Group PLC', 'Restore PLC', 'Retail Food Group Ltd', 'Reunert Ltd', 'Revlon Inc', 'Revolution Bars Group PLC', 'Revolve Group Inc', 'Rex Minerals Ltd', 'Rexel SA', 'Reynolds Consumer Products Inc', 'Rheinmetall AG', 'Ricardo PLC', 'Richards Packaging Income Fund', 'Richelieu Hardware Ltd', 'Ridley Corporation Ltd', 'Rieter Holding AG', 'Riley Exploration Permian Inc', 'Ring Energy Inc', 'Ringmetall SE', 'Rinnai Corp', 'Rio Tinto Ltd', 'Rio Tinto PLC', 'Ripley Corp SA', 'Rise Education Cayman Ltd', 'Ritchie Bros Auctioneers Inc', 'Rite Aid Corp', 'Rivian Automotive Inc', 'Riyue Heavy Industry Co Ltd', 'Roadrunner Transportation Systems Inc', 'Robert Half International Inc', 'Robert Walters PLC', 'Robertet SA', 'Robinsons Retail Holdings Inc', 'Rocket Internet SE', 'Rockwell Automation Inc', 'Rockwool A/S', 'Rocky Brands Inc', 'Rogers Sugar Inc', 'Rollins Inc', 'Rolls-Royce Holdings PLC', 'Romeo Power Inc', 'Rongsheng Petrochemical Co Ltd', 'Roots Corp', 'Ros Agro PLC', 'Rosetti Marino SpA', 'Ross Stores Inc', 'Rossi Residencial SA', 'Rotork PLC', 'Rottneros AB', 'Round One Corp', 'Royal Bafokeng Platinum Ltd', 'Royal Caribbean Cruises Ltd', 'Royal Gold Inc', 'Royal Mail PLC', 'Royal Unibrew A/S', 'Ruentex Industries Ltd', 'Rumo SA', 'Rush Enterprises Inc', 'Rush Street Interactive Inc', 'Russel Metals Inc', \"Ruth's Hospitality Group Inc\", 'Ryanair Holdings PLC', 'Ryder System Inc', 'Ryerson Holding Corp', 'Ryohin Keikaku Co Ltd', 'S & P Syndicate PCL', 'S-Oil Corp', 'S.F. Holding Co Ltd', 'S1 Corp', 'SA San Miguel AGICI y F', 'SABIC Agri-Nutrients Company SJSC', 'SAIC Motor Corp Ltd', 'SAS AB', 'SASA Polyester Sanayi AS', 'SATS Ltd', 'SBM Offshore NV', 'SBS Transit Ltd', 'SCG Packaging PCL', 'SCS Group PLC', 'SEACOR Marine Holdings Inc', 'SEB SA', 'SERNEKE Group AB (publ)', 'SFA Engineering Corp', 'SFL Corporation Ltd', 'SFS Group AG', 'SG Fleet Group Ltd', 'SG Holdings Co Ltd', 'SGL Carbon SE', 'SGS SA', 'SIA Engineering Company Ltd', 'SIASUN Robot & Automation Co Ltd', 'SIG Group AG', 'SIG PLC', 'SITC International Holdings Co Ltd', 'SJM Holdings Ltd', 'SK Chemicals Co Ltd', 'SK IE Technology Co Ltd', 'SK Inc', 'SK Innovation Co Ltd', 'SKC Co Ltd', 'SKF AB', 'SKNetworksCoLtd', 'SLC Agricola SA', 'SLM Solutions Group AG', 'SM Energy Co', 'SM Investments Corp', 'SMC Corp', 'SMCP SA', 'SNC Former PCL', 'SNC-Lavalin Group Inc', 'SOL SpA', 'SP Group A/S', 'SP Plus Corp', 'SPAR Group Ltd', 'SPX Corp', 'SRP Groupe SA', 'SSAB AB', 'SSP Group PLC', 'SSR Mining Inc', 'STO Express Co Ltd', 'STRABAG SE', 'STS Group AG', 'SThree PLC', 'Sa Sa International Holdings Ltd', 'Saab AB', 'Sabina Gold & Silver Corp', 'Sabina PCL', 'Sacyr SA', 'Saf-Holland Se', 'Safe Bulkers Inc', 'Safestyle UK PLC', 'Safran SA', 'Sahara International Petrochemical Company SJSC', 'Saia Inc', 'Saigon Beer Alcohol Beverage Corp', 'Sailun Group Co Ltd', 'Saipem SpA', 'SalMar ASA', 'Salcef Group SpA', 'SalfaCorp SA', 'Sally Beauty Holdings Inc', 'Salvatore Ferragamo SpA', 'Salzgitter AG', 'Samsonite International SA', 'Samsung C&T Corp', 'Samsung Engineering Co Ltd', 'Samsung Heavy Industries Co Ltd', 'Samvardhana Motherson International Ltd', 'San Gold Corp', 'San Miguel Corp', 'SandRidge Energy Inc', 'Sanderson Design Group PLC', 'Sanderson Farms Inc', 'Sandfire Resources Ltd', 'Sands China Ltd', 'Sandstorm Gold Ltd', 'Sandvik AB', 'Sanford Ltd', 'Sanistaal A/S', 'Sankyo Co Ltd', 'Sanlorenzo SpA', 'Sanquan Food Co Ltd', 'Sanrio Co Ltd', 'Sansteel Minguang Co Ltd Fujian', 'Santos Brasil Participacoes SA', 'Santos Ltd', 'Sanwa Holdings Corp', 'Sany Heavy Equipment International Holdings Company Ltd', 'Sany Heavy Industry Co Ltd', 'Sao Martinho SA', 'Sappi Ltd', 'Sapporo Holdings Ltd', 'Sapura Energy Bhd', 'Saputo Inc', 'Saras SpA', 'Sasol Ltd', 'Sats ASA', 'Saudi Airlines Catering Company SJSC', 'Saudi Arabian Mining Company SJSC', 'Saudi Arabian Oil Co', 'Saudi Basic Industries Corporation SJSC', 'Saudi Cement Company SJSC', 'Saudi Industrial Investment Group SJSC', 'Saudi Kayan Petrochemical Company SJSC', 'Savaria Corp', 'Savencia SA', 'Savola Group Co', 'Scales Corporation Ltd', 'Scandi Standard AB (publ)', 'Scandic Hotels Group AB', 'Scandinavian Biogas Fuels International AB', 'Scandinavian Tobacco Group A/S', 'Schaeffler AG', 'Schaltbau Holding AG', 'Schindler Holding AG', 'Schlumberger NV', 'Schneider Electric SE', 'Schneider National Inc', 'Schnitzer Steel Industries Inc', 'Schoeller Bleckmann Oilfield Equipment AG', 'Schouw & Co A/S', 'Schweiter Technologies AG', 'Schweitzer-Mauduit International Inc', 'Science Applications International Corp', 'Science Group PLC', 'Scorpio Tankers Inc', 'Scotts Miracle-Gro Co', 'Sdiptech AB (publ)', 'SeaWorld Entertainment Inc', 'Seaboard Corp', 'Seabridge Gold Inc', 'Seafresh Industry PCL', 'Sealed Air Corp', 'Seapeak LLC', 'Sears Canada Inc', 'Sears Holdings Corp', 'Seche Environnement SA', 'Secom Co Ltd', 'Secoo Holding Ltd', 'Secure Energy Services Inc', 'Securitas AB', 'Sega Sammy Holdings Inc', 'Seibu Holdings Inc', 'Seino Holdings Co Ltd', 'Sekisui Chemical Co Ltd', 'Sekisui House Ltd', 'Select Energy Services Inc', 'Select Harvests Ltd', 'Semapa Sociedade de Investimento e Gestao SGPS SA', 'Sembcorp Marine Ltd', 'Semcon AB', 'Semen Indonesia (Persero) Tbk PT', 'Semperit Holding AG', 'Sendas Distribuidora SA', 'Seneca Foods Corp', 'Senior PLC', 'Sensata Technologies Holding PLC', 'Sensient Technologies Corp', 'Seplat Energy PLC', 'Ser Educacional SA', 'Serabi Gold PLC', 'Serba Dinamik Holdings Bhd', 'Serco Group PLC', 'Serica Energy PLC', 'Service Corporation International', 'Service Stream Ltd', 'Seven & i Holdings Co Ltd', 'Seven Group Holdings Ltd', 'Severfield PLC', \"Severstal' PAO\", 'Sgis Songshan Co Ltd', 'Shaanxi Beiyuan Chemical Industry Group Co Ltd', 'Shaanxi Coal Industry Co Ltd', 'Shake Shack Inc', 'Shan XI Hua Yang Group New Energy Co Ltd', 'Shandong Chenming Paper Holdings Ltd', 'Shandong Gold Mining Co Ltd', 'Shandong Hi-speed Co Ltd', 'Shandong Hualu-Hengsheng Chemical Co Ltd', 'Shandong Linglong Tyre Co Ltd', 'Shandong Longertek Technology Co Ltd', 'Shandong Nanshan Aluminium Co Ltd', 'Shandong Sinocera Functional Material Co Ltd', 'Shandong Sun Paper Co Ltd', 'Shandong Xinchao Energy Corp Ltd', 'Shandong Yisheng Livestock & Poultry Breeding Co Ltd', 'Shanghai Bailian Group Co Ltd', 'Shanghai Bairun Investment Holding Group Co Ltd', 'Shanghai Construction Group Co Ltd', 'Shanghai Electric Group Co Ltd', 'Shanghai Environment Group Co Ltd', 'Shanghai Industrial Holdings Ltd', 'Shanghai International Airport Co Ltd', 'Shanghai International Port Group Co Ltd', 'Shanghai Jahwa United Co Ltd', 'Shanghai Jin Jiang International Hotels Co Ltd', 'Shanghai M&G Stationery Inc', 'Shanghai Mechanical & Electrical Industry Co Ltd', 'Shanghai Pudong Construction Co Ltd', 'Shanghai Putailai New Energy Technology Co Ltd', 'Shanghai Tunnel Engineering Co Ltd', 'Shanghai Waigaoqiao Free Trade Zone Group Co Ltd', 'Shanghai Yuyuan Tourist Mart Group Co Ltd', 'Shangri-La Asia Ltd', 'Shanta Gold Ltd', 'Shanxi Coal International Energy Group Co Ltd', 'Shanxi Coking Coal Energy Group Co Ltd', 'Shanxi LuAn Environmental Energy Dev Co Ltd', 'Shanxi Meijin Energy Co Ltd', 'Shanxi Taigang Stainless Steel Co Ltd', 'Shanxi Xinghuacun Fen Wine Factory Co Ltd', 'Shanying International Holdings Co Ltd', 'Sharp Corp', 'Shawcor Ltd', 'Shell PLC', 'ShenZhen YUTO Packaging Technology Co Ltd', 'Sheng Siong Group Ltd', 'Shenghe Resources Holding Co Ltd', 'Shenzhen Airport Co Ltd', 'Shenzhen Capchem Technology Co Ltd', 'Shenzhen Expressway Corp Ltd', 'Shenzhen Inovance Technology Co Ltd', 'Shenzhen International Holdings Ltd', 'Shenzhen Investment Holdings Bay Area Development Co Ltd', 'Shenzhen Jinjia Group Co Ltd', 'Shenzhen MTC Co Ltd', 'Shenzhen Overseas Chinese Town Co Ltd', 'Shenzhen Zhongjin Lingnan Nonfemet Co Ltd', 'Shenzhou International Group Holdings Ltd', 'Shepherd Neame Ltd', 'Sherritt International Corp', 'Sherwin-Williams Co', 'Shift Technologies Inc', 'Shimamura Co Ltd', 'Shimano Inc', 'Shimizu Corp', 'Shin Zu Shing Co Ltd', 'Shin-Etsu Chemical Co Ltd', 'Shine Justice Ltd', 'Shinsegae Inc', 'Shiseido Co Ltd', 'Shoe Carnival Inc', 'Shoe Zone PLC', 'Shop Apotheke Europe NV', 'Shoprite Holdings Ltd', 'Shougang Fushan Resources Group Ltd', 'Showa Denko KK', 'Shree Cement Ltd', 'Shutterstock Inc', 'Shw AG', 'Shyft Group Inc', 'Siam Cement PCL', 'Siam City Cement PCL', 'Siam Global House PCL', 'Siam Makro PCL', 'Siamgas and Petrochemicals PCL', 'Sibanye Stillwater Ltd', 'Sichuan Changhong Electric Co Ltd', 'Sichuan Hebang Biotechnology Co Ltd', 'Sichuan Road & Bridge Co Ltd', 'Sichuan Swellfun Co Ltd', 'Siemens AG', 'Siemens Energy AG', 'Siemens Gamesa Renewable Energy SA', 'Siemens Ltd', 'Sieyuan Electric Co Ltd', 'Sif Holding NV', 'Sigdo Koppers SA', 'Sigmaroc PLC', 'Signet Jewelers Ltd', 'Signify NV', 'Sika AG', 'Silgan Holdings Inc', 'Silver Lake Resources Ltd', 'SilverBow Resources Inc', 'Silvercorp Metals Inc', 'Silvercrest Metals Inc', 'Sime Darby Bhd', 'Sime Darby Plantation Bhd', 'Simona AG', 'Simpar SA', 'Simply Good Foods Co', 'Simpson Manufacturing Co Inc', 'Sims Ltd', 'Singapore Airlines Ltd', 'Singapore Post Ltd', 'Singapore Technologies Engineering Ltd', 'Singer Thailand PCL', 'Sino Thai Engineering and Construction PCL', 'Sinochem International Corp', 'Sinofert Holdings Ltd', 'Sinoma International Engineering Co Ltd', 'Sinoma Science & Technology Co Ltd', 'Sinopec Engineering Group Co Ltd', 'Sinopec Kantons Holdings Ltd', 'Sinopec Shanghai Petrochemical Co Ltd', 'Sinotrans Ltd', 'Sinotruk Hong Kong Ltd', 'SinterCast AB', 'Sisecam Resources LP', 'SiteOne Landscape Supply Inc', 'Sitio Royalties Corp', 'Siv Capital Ltd', 'Six Flags Entertainment Corp', 'Sixt SE', 'Skanska AB', 'Skechers USA Inc', 'Skeena Resources Ltd', 'Skellerup Holdings Ltd', 'SkiStar AB', 'Skshu Paint Co Ltd', 'SkyWest Inc', 'Skycity Entertainment Group Ltd', 'Skyline Champion Corp', 'Skyworth Group Ltd', 'Slater & Gordon Ltd', 'Sleep Country Canada Holdings Inc', 'Sleep Number Corp', 'Smart Metering Systems PLC', 'Smart Sand Inc', 'Smartgroup Corporation Ltd', 'Smith & Wesson Brands Inc', 'Smiths Group PLC', 'Smiths News PLC', 'Smoore International Holdings Ltd', 'Smurfit Kappa Group PLC', 'Snap-On Inc', 'Sociedad Comercial del Plata SA', 'Sociedad Matriz SAAM SA', 'Sociedad Minera Cerro Verde SAA', 'Sociedad Minera el Brocal SAA', 'Sociedad Quimica y Minera de Chile SA', 'Societe BIC SA', 'Sodexo SA', 'Sogeclair SA', 'Sohgo Security Services Co Ltd', 'Sojitz Corp', 'Sok Marketler Ticaret AS', 'SolGold PLC', 'Solar A/S', 'Solaris Oilfield Infrastructure Inc', 'Solvay SA', 'Somboon Advance Technology PCL', 'Somec SpA', 'Sonae SGPS SA', 'Songcheng Performance Development Co Ltd', 'Sonic Automotive Inc', 'Sonoco Products Co', 'Sonos Inc', 'Sony Group Corp', 'SoulBrain Co Ltd', 'Sound Energy PLC', 'South32 Ltd', 'SouthGobi Resources Ltd', 'Southern Copper Corp', 'Southwest Airlines Co', 'Southwestern Energy Co', 'Spartan Delta Corp', 'SpartanNash Co', 'Spectrum Brands Holdings Inc', 'Speedy Hire PLC', 'Spie SA', 'Spin Master Corp', 'Spirax-Sarco Engineering PLC', 'Spirit AeroSystems Holdings Inc', 'Spirit Airlines Inc', 'Sports Toto Bhd', 'Sportsmans Warehouse Holdings Inc', 'Sprague Resources LP', 'Spring Airlines Co Ltd', 'Springfield Properties PLC', 'Sprouts Farmers Market Inc', 'Spur Corporation Ltd', 'Sri Trang Agro Industry PCL', 'St Barbara Ltd', 'Stabilus SE', 'Stadler Rail AG', 'Staffline Group PLC', 'Stagecoach Group PLC', 'Stalprodukt SA', 'Standard Foods Corp', 'Standard Motor Products Inc', 'Standex International Corp', 'Stanley Black & Decker Inc', 'Stanley Electric Co Ltd', 'Stantec Inc', 'Star Entertainment Group Ltd', 'Star Petroleum Refining PCL', 'Starbucks Corp', 'Stark Corporation PCL', 'Starrag Group Holding AG', 'StealthGas Inc', 'Steel & Tube Holdings Ltd', 'Steel Authority of India Ltd', 'Steel Dynamics Inc', 'Steel Partners Holdings LP', 'Steelcase Inc', 'Stefanutti Stocks Holdings Ltd', 'Steico SE', 'Steinhoff International Holdings NV', 'Stelco Holdings Inc', 'Stella-Jones Inc', 'Stellantis NV', 'Stem Inc', 'Stepan Co', 'Steppe Cement Ltd', 'Steppe Gold Ltd', 'Stericycle Inc', 'Sterling Infrastructure Inc', 'Steven Madden Ltd', 'Stitch Fix Inc', 'Sto SE & Co KgaA', 'Stockmann Oyj Abp', 'Stolt-Nielsen Ltd', 'Stoneridge Inc', 'Stora Enso Oyj', 'Storskogen Group AB (publ)', 'Strategic Education Inc', 'Strattec Security Corp', 'Strax AB', 'Stride Inc', 'Strike Energy Ltd', 'Studio City International Holdings Ltd', 'Studsvik AB', 'Sturm Ruger & Company Inc', 'Subaru Corp', 'Subsea 7 SA', 'Suedzucker AG', 'Sulzer AG', 'Sumitomo Chemical Co Ltd', 'Sumitomo Corp', 'Sumitomo Electric Industries Ltd', 'Sumitomo Heavy Industries Ltd', 'Sumitomo Metal Mining Co Ltd', 'Sumitomo Osaka Cement Co Ltd', 'Sumitomo Rubber Industries Ltd', 'Summit Materials Inc', 'Sun Art Retail Group Ltd', 'Sun Country Airlines Holdings Inc', 'Sun International Ltd', 'SunCoke Energy Inc', 'Suncor Energy Inc', 'Sundrug Co Ltd', 'Sungrow Power Supply Co Ltd', 'Suning.Com Co Ltd', 'Sunlands Technology Group', 'Sunoco LP', 'Sunopta Inc', 'Sunrise Energy Metals Ltd', 'Sunrun Inc', 'Suntory Beverage & Food Ltd', 'Sunwoda Electronic Co Ltd', 'Suofeiya Home Collection Co Ltd', 'Suominen Oyj', 'Super Group Ltd', 'Super Retail Group Ltd', 'Superdry PLC', 'Superior Group of Companies Inc', 'Superior Industries International Inc', 'Sureserve Group PLC', 'Surge Energy Inc', 'Surgutneftegaz PAO', 'Surteco Group SE', 'Suzano SA', 'Suzhou Gold Mantis Construction Decoration Co Ltd', 'Suzhou Maxwell Technologies Co Ltd', 'Suzlon Energy Ltd', 'Suzuki Motor Corp', 'Svedbergs i Dalstorp AB', 'Svenska Cellulosa SCA AB', 'Swatch Group AG', 'Sweco AB (publ)', 'Swedish Match AB', 'Swedish Stirling AB', 'Swiss Steel Holding AG', 'Sylvamo Corp', 'Symrise AG', 'Synalloy Corp', 'Synergie SE', 'Synlait Milk Ltd', 'Syntec Construction PCL', 'Synthomer PLC', 'Syrah Resources Ltd', 'Sysco Corp', 'Systemair AB', 'TAL Education Group', 'TAV Havalimanlari Holding AS', 'TC Energy Corp', 'TCI Co Ltd', 'TCL Technology Group Corp', 'TCM Group A/S', 'TECO Electric Machinery Co Ltd', 'TFI International Inc', 'TGLT SA', 'TGS ASA', 'THG PLC', 'THK Co Ltd', 'TI Fluid Systems PLC', 'TIPCO Asphalt PCL', 'TJX Companies Inc', 'TKH Group NV', 'TMT Steel PCL', 'TOA Paint Thailand PCL', 'TOTO Ltd', 'TPCO Holding Corp', 'TPI Composites Inc', 'TRX Gold Corp', 'TSRC Corp', 'TUI AG', 'TWC Enterprises Ltd', 'Tabcorp Holdings Ltd', 'Taiheiyo Cement Corp', 'Tainan Spinning Co Ltd', 'Taisei Corp', 'Taiwan Cement Corp', 'Taiwan Fertilizer Co Ltd', 'Taiwan Glass Ind Corp', 'Taiwan High Speed Rail Corp', 'Taiwan Secom Co Ltd', 'Takara Holdings Inc', 'Takashimaya Co Ltd', 'Takkt AG', 'Talenom Oyj', 'Talgo SA', 'Talos Energy Inc', 'Tamarack Valley Energy Ltd', 'Tanami Gold NL', 'Tangshan Jidong Cement Co Ltd', 'Tangshan Port Group Co Ltd', 'Tangshan Sanyou Chemical Industries Co Ltd', 'Taokaenoi Food & Marketing PCL', 'Tapestry Inc', 'Tarena International Inc', 'Targa Resources Corp', 'Target Corp', 'Target Hospitality Corp', 'Tarkett SA', 'Taseko Mines Ltd', 'Tassal Group Ltd', 'Tat Gida Sanayi AS', 'Tata Chemicals Ltd', 'Tata Consumer Products Ltd', 'Tata Motors Ltd', 'Tata Steel Ltd', 'Tata Steel Thailand PCL', 'Tate & Lyle PLC', \"Tatneft' PAO\", 'Tattooed Chef Inc', 'Tatung Co', 'Taylor Morrison Home Corp', 'Taylor Wimpey PLC', 'Tbea Co Ltd', 'Tclarke PLC', 'Team Inc', 'Tech-bank Food Co Ltd', 'Technical Olympic SA', 'TechnipFMC PLC', 'Technogym SpA', 'Techtronic Industries Co Ltd', 'Teck Resources Ltd', 'Tecnicas Reunidas SA', 'Tecnoglass Inc', 'Ted Baker PLC', 'Teekay Corp', 'Teekay Tankers Ltd', 'Teijin Ltd', 'Tekfen Holding AS', 'Teleperformance SE', 'Tellurian Inc', 'Temple & Webster Group Ltd', 'Tempur Sealy International Inc', 'Ten Entertainment Group PLC', 'Ten Lifestyle Group PLC', 'Ten Sixty Four Ltd', 'Tenaris SA', 'Tennant Co', 'Tenneco Inc', 'Terex Corp', 'Terminix Global Holdings Inc', 'Ternium Argentina SA', 'Ternium SA', 'Tesco PLC', 'Tesla Inc', 'Tessenderlo Group NV', 'Tethys Oil AB', 'Tetra Tech Inc', 'Tetra Technologies Inc', 'Texas Pacific Land Corp', 'Texas Roadhouse Inc', 'Textainer Group Holdings Ltd', 'Textron Inc', 'Thai Airways International PCL', 'Thai Beverage PCL', 'Thai Oil PCL', 'Thai President Foods PCL', 'Thai Union Group PCL', 'Thai Vegetable Oil PCL', 'Thaifoods Group PCL', 'Thales SA', 'Thermax Limited', 'Thermon Group Holdings Inc', 'Thomson Reuters Corp', 'Thor Industries Inc', 'Thoresen Thai Agencies PCL', 'Thorn Group Ltd', 'Thule Group AB', 'Tiandi Science & Technology Co Ltd', 'Tianjin Port Co Ltd', 'Tianneng Power International Ltd', 'Tianqi Lithium Corp', 'Tianshan Aluminum Group Co Ltd', 'Tidewater Inc', 'Tidewater Midstream and Infrastructure Ltd', 'Tiger Brands Ltd', 'Tile Shop Holdings Inc', 'Tillys Inc', 'Timken Co', 'TimkenSteel Corp', 'Tinexta SpA', 'Tingyi (Cayman Islands) Holding Corp', 'Titan Cement International SA', 'Titan Company Ltd', 'Titan International Inc', 'Titan Machinery Inc', 'Titan Mining Corp', 'Tobu Railway Co Ltd', \"Tod's SpA\", 'Toda Corp', 'Tofas Turk Otomobil Fabrikasi AS', 'Toho Titanium Co Ltd', 'Tokai Carbon Co Ltd', 'Tokai Rika Co Ltd', 'Tokmanni Group Corp', 'Tokuyama Corp', 'Tokyo Steel Manufacturing Co Ltd', 'Tokyu Corp', 'Toll Brothers Inc', 'Toly Bread Co Ltd', 'Tomra Systems ASA', 'Tongaat Hulett Ltd', 'Tongcheng Travel Holdings Ltd', 'Tongkun Group Co Ltd', 'Tongling Nonferrous Metals Group Co Ltd', 'Tongwei Co Ltd', 'Tootsie Roll Industries Inc', 'TopBuild Corp', 'Topaz Energy Corp', 'Toppan Inc', 'Topps Tiles PLC', 'Topsports International Holdings Ltd', 'Toray Industries Inc', 'Torex Gold Resources Inc', 'Torm PLC', 'Tornos Holding AG', 'Toro Co', 'Toromont Industries Ltd', 'Torrid Holdings Inc', 'Toshiba Corp', 'Tosoh Corp', 'Total Energy Services Inc', 'TotalEnergies SE', 'Touchstone Exploration Inc', 'Tourism Holdings Ltd', 'Tourmaline Oil Corp', 'Town Sports International Holdings Inc', 'Toyo Seikan Group Holdings Ltd', 'Toyo Suisan Kaisha Ltd', 'Toyobo Co Ltd', 'Toyoda Gosei Co Ltd', 'Toyota Boshoku Corp', 'Toyota Industries Corp', 'Toyota Motor Corp', 'Toyota Tsusho Corp', 'TraWell Co SpA', 'Tractor Supply Co', 'Traeger Inc', 'Trainline PLC', 'Trane Technologies PLC', 'TransDigm Group Inc', 'TransGlobe Energy Corp', 'TransUnion', 'Transat AT Inc', 'Transcat Inc', 'Transcontinental Inc', 'Transfar Zhilian Co Ltd', \"Transneft' PAO\", 'Transocean Ltd', 'Transportadora de Gas del Norte SA', 'Transportadora de Gas del Sur SA', 'Transurban Group', 'Traton SE', 'Travel + Leisure Co', 'Travelcenters of America Inc', 'Travis Perkins PLC', 'Treasury Wine Estates Ltd', 'Treatt PLC', 'Trecora Resources', 'Tredegar Corp', 'TreeHouse Foods Inc', 'Trelleborg AB', 'Trencor Ltd', 'Trent Ltd', 'Trevali Mining Corp', 'Trex Company Inc', 'Tri Pointe Homes Inc (Delaware)', 'TriMas Corp', 'TriNet Group Inc', 'Tribal Group PLC', 'Trican Well Service Ltd', 'Trifast PLC', 'Trigano SA', 'Trinity Industries Inc', 'Trinseo PLC', 'Trip.com Group Ltd', 'Triple Flag Precious Metals Corp', 'Triton International Ltd', 'Triumph Group Inc', 'Troax Group AB (publ)', 'Troilus Gold Corp', 'Tronox Holdings PLC', 'Troy Resources Ltd', 'Trubnaya Metallurgicheskaya Kompaniya PAO', 'TrueBlue Inc', 'Truworths International Ltd', 'Tsingtao Brewery Co Ltd', 'Tsogo Sun Gaming Ltd', 'Tsogo Sun Hotels Ltd', 'Tsuruha Holdings Inc', 'Tubacex SA', 'Tuesday Morning Corp', 'Tullow Oil PLC', 'Tung Ho Steel Enterprise Corp', 'Tuniu Corp', 'Tupperware Brands Corp', 'Tupy SA', 'Turk Hava Yollari AO', 'Turk Traktor ve Ziraat Makineleri AS', 'Turkiye Petrol Rafinerileri AS', 'Turkiye Sise ve Cam Fabrikalari AS', 'Turning Point Brands Inc', 'Turquoise Hill Resources Ltd', 'Tus Environmental Science and Technology Development Co Ltd', 'Tutor Perini Corp', 'Twin Disc Inc', 'Tyman PLC', 'Tyson Foods Inc', 'U-Ming Marine Transport Corp', 'UBE Corp', 'UIE PLC', 'UMW Holdings Bhd', 'UPL Ltd', 'UPM-Kymmene Oyj', 'US Foods Holding Corp', 'US Silica Holdings Inc', 'US Well Services Inc', 'US Xpress Enterprises Inc', 'USA Compression Partners LP', 'USA Truck Inc', 'USANA Health Sciences Inc', 'USS Co Ltd', 'Uber Technologies Inc', 'Uex Corp', 'Ufp Industries Inc', 'Ulker Biskuvi Sanayi AS', 'Ulta Beauty Inc', 'Ultra Electronics Holdings PLC', 'UltraTech Cement Ltd', 'Ultralife Corp', 'Ultrapar Participacoes SA', 'Umicore SA', 'Unbound Group PLC', 'Under Armour Inc', 'Uni-President China Holdings Ltd', 'Uni-President Enterprises Corp', 'Uni-Select Inc', 'UniFirst Corp', 'Unicharm Corp', 'Unifi Inc', 'Unilever Indonesia Tbk PT', 'Unilever PLC', 'Union Andina de Cementos SAA', 'Union Pacific Corp', 'Union de Cervecerias Peruanas Backus y Johnston SAA', 'Unipar Indupa SAIC', 'Unit Corp', 'United Airlines Holdings Inc', 'United Breweries Ltd', 'United Malt Group Ltd', 'United Natural Foods Inc', 'United Parcel Service Inc', 'United Rentals Inc', 'United Spirits Ltd', 'United States Lime & Minerals Inc', 'United States Steel Corp', 'United Tractors Tbk PT', 'Univar Solutions Inc', 'Universal Corp', 'Universal Electronics Inc', 'Universal Logistics Holdings Inc', 'Universal Robina Corp', 'Universal Stainless & Alloy Products Inc', 'Universal Technical Institute Inc', 'Uponor Oyj', 'Upwork Inc', 'Ur-Energy Inc', 'Uralkaliy PAO', 'Uranium Energy Corp', 'Urban Outfitters Inc', 'Urbi Desarrollos Urbanos SAB de CV', 'Ushio Inc', 'Usinas Siderurgicas de Minas Gerais SA USIMINAS', 'Uxin Ltd', 'Uzin Utz AG', 'V-ZUG Holding AG', 'VAALCO Energy Inc', 'VAT Group AG', 'VBG Group AB (publ)', 'VF Corp', 'VOXX International Corp', 'VP PLC', 'VSE Corp', 'Vail Resorts Inc', 'Vale Indonesia Tbk PT', 'Vale SA', 'Valeo SE', 'Valero Energy Corp', 'Valhi Inc', 'Valid Solucoes SA', 'Vallourec SA', 'Valmet Oyj', 'Valmont Industries Inc', 'Valora Holding AG', 'Valvoline Inc', 'Van Elle Holdings PLC', 'Van de Velde NV', 'Vardhman Textiles Ltd', 'Various Eateries PLC', 'Varta AG', 'Vector Group Ltd', 'Vectrus Inc', 'Vedanta Ltd', 'Veidekke ASA', 'Venator Materials PLC', 'Vera Bradley Inc', 'Verallia SAS', 'Verbio Vereinigte Bioenergie AG', 'Verisk Analytics Inc', 'Veritiv Corp', 'Verkkokauppa.com Oyj', 'Vermilion Energy Inc', 'Vertex Energy Inc', 'Vertiv Holdings Co', 'Vertu Motors PLC', 'Veru Inc', 'Vestas Wind Systems A/S', 'Vestel Beyaz Esya Sanayi ve Ticaret AS', 'Vestel Elektronik Sanayi ve Ticaret AS', 'Vesuvius PLC', 'Vetropack Holding SA', 'Via SA', 'Viad Corp', 'Vibra Energia SA', 'Vicat SA', 'Vicor Corp', 'Victoria Gold Corp', 'Victoria PLC', 'Victrex PLC', 'Videndum PLC', 'Viet Nam Construction and Import Export Joint Stock Corp', 'Vietnam Airlines JSC', 'Vietnam Dairy Products JSC', 'Viking Line Abp', 'Village Farms International Inc', 'Village Super Market Inc', 'Villeroy & Boch AG', 'Vilmorin & Cie SA', 'Vince Holding Corp', 'Vinci SA', 'Vinda International Holdings Ltd', 'Viomi Technology Co Ltd', 'Vipshop Holdings Ltd', 'Virgin Galactic Holdings Inc', 'Viscofan SA', 'Vista Energy SAB de CV', 'Vista Outdoor Inc', 'Visteon Corp', 'Vistry Group PLC', 'Visual China Group Co Ltd', 'Vita Group Ltd', 'Vital Farms Inc', 'Vitasoy International Holdings Ltd', 'Vitru Ltd', 'Viva Energy Group Ltd', 'Vivint Smart Home Inc', 'Vivo Energy PLC', 'Volati AB', 'Volcan Compania Minera SAA', 'Volex PLC', 'Volkswagen AG', 'Voltas Ltd', 'Voltronic Power Technology Corp', 'Volution Group PLC', 'Volvo AB', 'Von Roll Holding AG', 'Vossloh AG', 'Vroom Inc', 'Vulcan Energy Resources Ltd', 'Vulcan Materials Co', 'Vuzix Corp', 'W&T Offshore Inc', 'WD-40 Co', 'WEG SA', 'WEYCO Group Inc', 'WH Group Ltd', 'WH Smith PLC', 'WSP Global Inc', 'WW Grainger Inc', 'WW International Inc', 'Wabash National Corp', 'Wacker Chemie AG', 'Wacker Neuson SE', 'Wacoal Holdings Corp', 'Wagners Holding Company Ltd', 'Waitr Holdings Inc', 'Wajax Corp', 'Wal Mart de Mexico SAB de CV', 'Walgreens Boots Alliance Inc', 'Wallbridge Mining Company Ltd', 'Wallenius Wilhelmsen ASA', 'Walmart Inc', 'Walsin Lihwa Corp', 'Wan Hai Lines Ltd', 'Wangfujing Group Co Ltd', 'Wanhua Chemical Group Co Ltd', 'Want Want China Holdings Ltd', 'Wanxiang Qianchao Co Ltd', 'Warehouse Group Ltd', 'Warrior Met Coal Inc', 'Wartsila Oyj Abp', 'WashTec AG', 'Washington H Soul Pattinson and Company Ltd', 'Waskita Karya (Persero) Tbk PT', 'Waste Connections Inc', 'Waste Management Inc', 'Watches of Switzerland Group PLC', 'Water Intelligence PLC', 'Watsco Inc', 'Watts Water Technologies Inc', 'Wayfair Inc', 'Weatherford International PLC', 'Weber Inc', 'Webjet Ltd', 'Webuild SpA', 'Weichai Power Co Ltd', 'Weifu High-Technology Group Co Ltd', 'Weihai Guangwei Composites Co Ltd', 'Weir Group PLC', 'Weis Markets Inc', 'Welbilt Inc', 'Welcia Holdings Co Ltd', 'Wellard Ltd', 'Wendys Co', 'Wens Foodstuff Group Co Ltd', 'Werner Enterprises Inc', 'Wesco International Inc', 'Wesdome Gold Mines Ltd', 'Wesfarmers Ltd', 'Wesizwe Platinum Ltd', 'West African Resources Ltd', 'West Fraser Timber Co Ltd', 'West Japan Railway Co', 'Western Areas Ltd', 'Western Copper and Gold Corp', 'Western Forest Products Inc', 'Western Midstream Partners LP', 'Westgold Resources Ltd', 'Westinghouse Air Brake Technologies Corp', 'Westlake Corp', 'Westport Fuel Systems Inc', 'Westports Holdings Bhd', 'Westrock Co', 'Westshore Terminals Investment Corp', 'Westwing Group SE', 'Wheaton Precious Metals Corp', 'Whirlpool Corp', 'Whitbread PLC', 'White Energy Company Ltd', 'Whitecap Resources Inc', 'Whitehaven Coal Ltd', 'Whiting Petroleum Corp', 'Whole Earth Brands Inc', 'Wickes Group PLC', 'Wienerberger AG', 'Wilcon Depot Inc', 'Wilh Wilhelmsen Holding ASA', 'Willdan Group Inc', 'Williams Companies Inc', 'Williams-Sonoma Inc', 'Willis Lease Finance Corp', 'Willscot Mobile Mini Holdings Corp', 'Wilmar International Ltd', 'Wilmington PLC', 'Wilson Bayly Holmes - Ovcon Ltd', 'Wincanton PLC', 'Wingstop Inc', 'Winmark Corp', 'Winnebago Industries Inc', 'Winpak Ltd', 'Wizz Air Holdings PLC', 'Wolong Electric Group Co Ltd', 'Wolters Kluwer NV', 'Wolverine World Wide Inc', 'Woodbois Ltd', 'Woodside Energy Group Ltd', 'Woodward Inc', 'Woolworths Group Ltd', 'Woolworths Holdings Ltd', 'Workhorse Group Inc', 'Works co uk PLC', 'World Fuel Services Corp', 'Worley Ltd', 'Worthington Industries Inc', 'Wuchan Zhongda Group Co Ltd', 'Wuliangye Yibin Co Ltd', 'Wuxi Lead Intelligent Equipment Co Ltd', 'Wuxi Shangji Automation Co Ltd', 'Wyndham Hotels & Resorts Inc', 'Wynn Macau Ltd', 'Wynn Resorts Ltd', 'Wynnstay Group PLC', 'X5 Retail Group NV', 'XANO Industri AB', 'XCMG Construction Machinery Co Ltd', 'XL Fleet Corp', 'XP Power Ltd', 'XPO Logistics Inc', 'XXL ASA', 'Xiamen C&D Inc', 'Xiamen Intretech Inc', 'Xiamen Tungsten Co Ltd', 'Xinfengming Group Co Ltd', 'Xinjiang Goldwind Science & Technology Co Ltd', 'Xinjiang Tianshan Cement Co Ltd', 'Xinjiang Zhongtai Chemical Co Ltd', 'Xinxing Ductile Iron Pipes Co Ltd', 'Xinyi Glass Holdings Ltd', 'Xinyu Iron & Steel Co Ltd', 'Xpediator PLC', 'Xpel Inc', 'Xpeng Inc', 'Xponential Fitness Inc', 'Xylem Inc', 'YDUQS Participacoes SA', 'YIT Oyj', 'YPF SA', 'YTO Express Group Co Ltd', 'YUNDA Holding Co Ltd', 'Yadea Group Holdings Ltd', 'Yakult Honsha Co Ltd', 'Yamada Holdings Co Ltd', 'Yamaha Corp', 'Yamaha Motor Co Ltd', 'Yamana Gold Inc', 'Yamato Holdings Co Ltd', 'Yamato Kogyo Co Ltd', 'Yamazaki Baking Co Ltd', 'Yanbu National Petrochemicals Company SJSC', 'Yang Ming Marine Transport Corp', 'Yangzijiang Shipbuilding Holdings Ltd', 'Yankuang Energy Group Co Ltd', 'Yantai Changyu Pioneer Wine Co Ltd', 'Yantai Eddie Precision Machinery Co Ltd', 'Yantai Jereh Oilfield Services Group Co Ltd', 'Yaoko Co Ltd', 'Yara International ASA', 'Yaskawa Electric Corp', 'Yatra Online Inc', 'Yatsen Holding Ltd', 'Yellow Corp', 'Yeti Holdings Inc', 'Yifeng Pharmacy Chain Co Ltd', 'Yihai International Holding Ltd', 'Yihai Kerry Arawana Holdings Co Ltd', 'Yintai Gold Co Ltd', 'Yixintang Pharmaceutical Group Co Ltd', 'Yokohama Rubber Co Ltd', 'Yonghui Superstores Co Ltd', 'Youdao Inc', \"Young & Co's Brewery PLC\", 'Youngevity International Inc', 'Youngone Corp', 'Yuan Longping High-tech Agriculture Co Ltd', 'Yuanli Chemical Group Co Ltd', 'Yue Yuen Industrial (Holdings) Ltd', 'Yuexiu Transport infrastructure Ltd', 'Yulon Motor Co Ltd', 'Yum China Holdings Inc', 'Yum! Brands Inc', 'Yunji Inc', 'Yunnan Aluminium Co Ltd', 'Yunnan Copper Co Ltd', 'Yunnan Energy New Material Co Ltd', 'Yunnan Tin Co Ltd', 'Yunnan Yuntianhua Co Ltd', 'Yutong Bus Co Ltd', 'ZOZO Inc', 'ZTO Express (Cayman) Inc', 'Zad Holding Company QPSC', 'Zalando SE', 'Zalaris ASA', 'Zehnder Group AG', 'Zeon Corp', 'Zhaojin Mining Industry Co Ltd', 'Zhefu Holding Group Co Ltd', 'Zhejiang Chint Electrics Co Ltd', 'Zhejiang Dingli Machinery Co Ltd', 'Zhejiang Expressway Co Ltd', 'Zhejiang Hailiang Co Ltd', 'Zhejiang HangKe Technology Incorporated Co', 'Zhejiang Huayou Cobalt Co Ltd', 'Zhejiang Jiahua Energy Chemical Industry Co Ltd', 'Zhejiang Juhua Co Ltd', 'Zhejiang Longsheng Group Co Ltd', 'Zhejiang Orient Financial Holdings Group Co Ltd', 'Zhejiang Runtu Co Ltd', 'Zhejiang Sanhua Intelligent Controls Co Ltd', 'Zhejiang Semir Garment Co Ltd', 'Zhejiang Supor Co Ltd', 'Zhejiang Wanfeng Auto Wheel Co Ltd', 'Zhejiang Wanliyang Co Ltd', 'Zhejiang Weixing New Building Materials Co Ltd', 'Zhejiang Xinhua Chemical Co Ltd', 'Zhejiang Yasha Decoration Co Ltd', 'Zhengzhou Coal Mining Machinery Group Co Ltd', 'Zhongjin Gold Corp Ltd', 'Zhongshan Broad-Ocean Motor Co Ltd', 'Zhongsheng Group Holdings Ltd', 'Zhuzhou CRRC Times Electric Co Ltd', 'Zhuzhou Kibing Group Co Ltd', 'Zibo Qixiang Tengda Chemical Co Ltd', 'Zignago Vetro SpA', 'Zijin Mining Group Co Ltd', 'Zion Oil and Gas Inc', 'Zoomlion Heavy Industry Science and Technology Co Ltd', 'Zooplus SE', 'Zotefoams PLC', 'Zumiez Inc', 'Zumtobel Group AG', 'Zur Rose Group AG', 'Zurn Water Solutions Corp', 'bet-at-home.com AG', 'boohoo group plc', \"d'Amico International Shipping SA\", 'discoverIE Group plc', 'eBay Inc', 'edding AG', 'elf Beauty Inc', 'iRobot Corp', 'iSelect Ltd', 'ioneer Ltd', 'nVent Electric PLC', 'technotrans SE', 'thyssenkrupp AG', 'va Q tec AG', 'voestalpine AG']\n"
          ]
        }
      ],
      "source": [
        "df_merged_sorted = pd.read_excel(\"Nans_removed_dataset.xlsx\", index_col =  [0, 1])\n",
        "companies_list = df_merged_sorted.index.get_level_values('Company Name').unique().tolist()\n",
        "print(companies_list)"
      ]
    },
    {
      "cell_type": "code",
      "execution_count": 5,
      "metadata": {
        "id": "YaJWCInV-8Yn"
      },
      "outputs": [],
      "source": [
        "# Check the number of missing values before filling\n",
        "df_merged_sorted.isna().sum()\n",
        "columns_list = list(df_merged_sorted.drop(columns=['Sum','Label','Identifier (RIC)']))\n",
        "df_list = []"
      ]
    },
    {
      "cell_type": "code",
      "execution_count": 6,
      "metadata": {
        "colab": {
          "base_uri": "https://localhost:8080/"
        },
        "id": "bemPHlS1-8Yn",
        "outputId": "c3a2907c-c04b-43d0-f87d-51ad89800be0"
      },
      "outputs": [
        {
          "output_type": "execute_result",
          "data": {
            "text/plain": [
              "GICS Sector Name                                         0\n",
              "Identifier (RIC)                                         0\n",
              "Health&SafetyPolicy                                      2\n",
              "PolicyEmployeeHealth&Safety                            307\n",
              "PolicySupplyChainHealth&Safety                        1495\n",
              "TrainingandDevelopmentPolicy                             2\n",
              "PolicySkillsTraining                                   470\n",
              "PolicyCareerDevelopment                                579\n",
              "PolicyDiversityandOpportunity                          636\n",
              "TargetsDiversityandOpportunity                        1760\n",
              "EmployeesHealth&SafetyTeam                            1142\n",
              "Health&SafetyTraining                                  636\n",
              "SupplyChainHealth&SafetyTraining                      1753\n",
              "SupplyChainHealth&SafetyImprovements                  1827\n",
              "EmployeesHealth&SafetyOHSAS18001                      1058\n",
              "FlexibleWorkingHours                                  1547\n",
              "DayCareServices                                       1703\n",
              "InternalPromotion                                     1297\n",
              "ManagementTraining                                     918\n",
              "SupplierESGtraining                                   1708\n",
              "EmployeeResourceGroups                                1881\n",
              "HumanRightsPolicy                                       21\n",
              "PolicyFreedomofAssociation                            1531\n",
              "PolicyChildLabor                                      1151\n",
              "PolicyForcedLabor                                     1126\n",
              "PolicyHumanRights                                     1214\n",
              "FundamentalHumanRightsILOUN                           1581\n",
              "HumanRightsContractor                                 1335\n",
              "EthicalTradingInitiativeETI                           1899\n",
              "HumanRightsBreachesContractor                         1716\n",
              "PolicyFairCompetition                                 1242\n",
              "PolicyBriberyandCorruption                             909\n",
              "PolicyBusinessEthics                                   990\n",
              "PolicyCommunityInvolvement                             402\n",
              "ImprovementToolsBusinessEthics                        1236\n",
              "WhistleblowerProtection                               7600\n",
              "OECDGuidelinesforMultinationalEnterprises             1805\n",
              "EmployeeEngagementVoluntaryWork                       1112\n",
              "ProductSalesatDiscounttoEmergingMarkets               1901\n",
              "CrisisManagementSystems                                893\n",
              "ChemicalorBiologicalWeapons                          10018\n",
              "MilitaryWeaponsorPersonnel                           10016\n",
              "OilandGasProcessing,TransportationandDistribution    10012\n",
              "OilandGas-firedPowerGeneration                       10018\n",
              "PolicyDataPrivacy                                      747\n",
              "PolicyCustomerHealth&Safety                           1467\n",
              "PolicyResponsibleMarketing                            1848\n",
              "PolicyFairTrade                                       1878\n",
              "ProductResponsibilityMonitoring                       1780\n",
              "QualityMgtSystems                                       49\n",
              "ProductAccessLowPrice                                 1888\n",
              "HealthyFoodorProducts                                 1699\n",
              "ObesityRisk                                           1879\n",
              "ProductRecall                                         1896\n",
              "PolicyCyberSecurity                                   4873\n",
              "AnimalWell-being                                      5412\n",
              "Sum                                                      0\n",
              "Label                                                    0\n",
              "dtype: int64"
            ]
          },
          "metadata": {},
          "execution_count": 6
        }
      ],
      "source": [
        "for company in companies_list:\n",
        "\n",
        "    subset_df = df_merged_sorted.loc[company].bfill(axis = \"rows\")\n",
        "    df_list.append(subset_df)\n",
        "\n",
        "vertical_concat = pd.concat(df_list, axis=0)\n",
        "vertical_concat.isna().sum() "
      ]
    },
    {
      "cell_type": "code",
      "source": [
        "vertical_concat.columns"
      ],
      "metadata": {
        "id": "Z8R9-lSaVOr0",
        "outputId": "2242a928-106f-4f8d-874b-e51267c252eb",
        "colab": {
          "base_uri": "https://localhost:8080/"
        }
      },
      "execution_count": 6,
      "outputs": [
        {
          "output_type": "execute_result",
          "data": {
            "text/plain": [
              "Index(['GICS Sector Name', 'Identifier (RIC)', 'Health&SafetyPolicy',\n",
              "       'PolicyEmployeeHealth&Safety', 'PolicySupplyChainHealth&Safety',\n",
              "       'TrainingandDevelopmentPolicy', 'PolicySkillsTraining',\n",
              "       'PolicyCareerDevelopment', 'PolicyDiversityandOpportunity',\n",
              "       'TargetsDiversityandOpportunity', 'EmployeesHealth&SafetyTeam',\n",
              "       'Health&SafetyTraining', 'SupplyChainHealth&SafetyTraining',\n",
              "       'SupplyChainHealth&SafetyImprovements',\n",
              "       'EmployeesHealth&SafetyOHSAS18001', 'FlexibleWorkingHours',\n",
              "       'DayCareServices', 'InternalPromotion', 'ManagementTraining',\n",
              "       'SupplierESGtraining', 'EmployeeResourceGroups', 'HumanRightsPolicy',\n",
              "       'PolicyFreedomofAssociation', 'PolicyChildLabor', 'PolicyForcedLabor',\n",
              "       'PolicyHumanRights', 'FundamentalHumanRightsILOUN',\n",
              "       'HumanRightsContractor', 'EthicalTradingInitiativeETI',\n",
              "       'HumanRightsBreachesContractor', 'PolicyFairCompetition',\n",
              "       'PolicyBriberyandCorruption', 'PolicyBusinessEthics',\n",
              "       'PolicyCommunityInvolvement', 'ImprovementToolsBusinessEthics',\n",
              "       'WhistleblowerProtection', 'OECDGuidelinesforMultinationalEnterprises',\n",
              "       'EmployeeEngagementVoluntaryWork',\n",
              "       'ProductSalesatDiscounttoEmergingMarkets', 'CrisisManagementSystems',\n",
              "       'ChemicalorBiologicalWeapons', 'MilitaryWeaponsorPersonnel',\n",
              "       'OilandGasProcessing,TransportationandDistribution',\n",
              "       'OilandGas-firedPowerGeneration', 'PolicyDataPrivacy',\n",
              "       'PolicyCustomerHealth&Safety', 'PolicyResponsibleMarketing',\n",
              "       'PolicyFairTrade', 'ProductResponsibilityMonitoring',\n",
              "       'QualityMgtSystems', 'ProductAccessLowPrice', 'HealthyFoodorProducts',\n",
              "       'ObesityRisk', 'ProductRecall', 'PolicyCyberSecurity',\n",
              "       'AnimalWell-being', 'Sum', 'Label'],\n",
              "      dtype='object')"
            ]
          },
          "metadata": {},
          "execution_count": 6
        }
      ]
    },
    {
      "cell_type": "code",
      "execution_count": 7,
      "metadata": {
        "id": "clMCiNUM-8Yn"
      },
      "outputs": [],
      "source": [
        "vertical_concat_features = vertical_concat.iloc[:,0:56]\n",
        "\n",
        "vertical_concat_features.drop(columns = [\"Identifier (RIC)\"],inplace = True)"
      ]
    },
    {
      "cell_type": "code",
      "source": [
        "vertical_concat_features.columns"
      ],
      "metadata": {
        "id": "g3m2kUNvVnUL",
        "outputId": "d49af186-bc35-4469-c415-83c1757ffbae",
        "colab": {
          "base_uri": "https://localhost:8080/"
        }
      },
      "execution_count": 8,
      "outputs": [
        {
          "output_type": "execute_result",
          "data": {
            "text/plain": [
              "Index(['GICS Sector Name', 'Health&SafetyPolicy',\n",
              "       'PolicyEmployeeHealth&Safety', 'PolicySupplyChainHealth&Safety',\n",
              "       'TrainingandDevelopmentPolicy', 'PolicySkillsTraining',\n",
              "       'PolicyCareerDevelopment', 'PolicyDiversityandOpportunity',\n",
              "       'TargetsDiversityandOpportunity', 'EmployeesHealth&SafetyTeam',\n",
              "       'Health&SafetyTraining', 'SupplyChainHealth&SafetyTraining',\n",
              "       'SupplyChainHealth&SafetyImprovements',\n",
              "       'EmployeesHealth&SafetyOHSAS18001', 'FlexibleWorkingHours',\n",
              "       'DayCareServices', 'InternalPromotion', 'ManagementTraining',\n",
              "       'SupplierESGtraining', 'EmployeeResourceGroups', 'HumanRightsPolicy',\n",
              "       'PolicyFreedomofAssociation', 'PolicyChildLabor', 'PolicyForcedLabor',\n",
              "       'PolicyHumanRights', 'FundamentalHumanRightsILOUN',\n",
              "       'HumanRightsContractor', 'EthicalTradingInitiativeETI',\n",
              "       'HumanRightsBreachesContractor', 'PolicyFairCompetition',\n",
              "       'PolicyBriberyandCorruption', 'PolicyBusinessEthics',\n",
              "       'PolicyCommunityInvolvement', 'ImprovementToolsBusinessEthics',\n",
              "       'WhistleblowerProtection', 'OECDGuidelinesforMultinationalEnterprises',\n",
              "       'EmployeeEngagementVoluntaryWork',\n",
              "       'ProductSalesatDiscounttoEmergingMarkets', 'CrisisManagementSystems',\n",
              "       'ChemicalorBiologicalWeapons', 'MilitaryWeaponsorPersonnel',\n",
              "       'OilandGasProcessing,TransportationandDistribution',\n",
              "       'OilandGas-firedPowerGeneration', 'PolicyDataPrivacy',\n",
              "       'PolicyCustomerHealth&Safety', 'PolicyResponsibleMarketing',\n",
              "       'PolicyFairTrade', 'ProductResponsibilityMonitoring',\n",
              "       'QualityMgtSystems', 'ProductAccessLowPrice', 'HealthyFoodorProducts',\n",
              "       'ObesityRisk', 'ProductRecall', 'PolicyCyberSecurity',\n",
              "       'AnimalWell-being'],\n",
              "      dtype='object')"
            ]
          },
          "metadata": {},
          "execution_count": 8
        }
      ]
    },
    {
      "cell_type": "code",
      "execution_count": null,
      "metadata": {
        "id": "KWpPat3o-8Yn"
      },
      "outputs": [],
      "source": [
        "# N_neighbors is a preprocessing hyperparameter\n",
        "impute_knn = KNNImputer(n_neighbors=9)\n",
        "knn_imputed_df = impute_knn.fit_transform(vertical_concat_features)"
      ]
    },
    {
      "cell_type": "code",
      "execution_count": 9,
      "metadata": {
        "id": "ZSnczpGR_kKB"
      },
      "outputs": [],
      "source": [
        "ohe = OneHotEncoder(sparse=False)\n",
        "ohe_transformed = ohe.fit_transform(vertical_concat_features)"
      ]
    },
    {
      "cell_type": "code",
      "execution_count": 10,
      "metadata": {
        "id": "yYknPAyR-8Yn"
      },
      "outputs": [],
      "source": [
        "#%% TRAINING\n",
        "# Drop the row that has NaN values (last row)\n",
        "X = np.array(vertical_concat_features)\n",
        "y = np.array(vertical_concat[\"Label\"])\n",
        "X_train, X_test, y_train, y_test = train_test_split(X, y, \n",
        "                                   test_size=0.2, random_state=42)\n"
      ]
    },
    {
      "cell_type": "code",
      "execution_count": 11,
      "metadata": {
        "id": "LX5qDtnN__B3"
      },
      "outputs": [],
      "source": [
        "X_ohe = np.array(ohe_transformed)\n",
        "y_ohe = np.array(vertical_concat[\"Label\"])\n",
        "X_train_ohe, X_test_ohe, y_train_ohe, y_test_ohe = train_test_split(X_ohe, y_ohe, \n",
        "                                   test_size=0.2,random_state=42, stratify=y_ohe)\n"
      ]
    },
    {
      "cell_type": "code",
      "execution_count": null,
      "metadata": {
        "id": "ZXX9OE8j-8Yo"
      },
      "outputs": [],
      "source": [
        "#%%\n",
        "results = list()\n",
        "strategies = [str(i) for i in [1,3,5,7,9,15,18,21]]\n",
        "\n",
        "for s in strategies:\n",
        "\t# create the modeling pipeline\n",
        "    pipeline = Pipeline(steps=[('i', KNNImputer(n_neighbors=int(s))), ('m', RandomForestClassifier())])\n",
        "    # define model evaluation\n",
        "    cv = RepeatedStratifiedKFold(n_splits=10, n_repeats=3, random_state=1)\n",
        "    # evaluate model\n",
        "    scores = cross_val_score(pipeline, X, y, scoring='precision', cv=cv, n_jobs=-1, error_score='raise')\n",
        "    results.append(scores)\n",
        "    print('Mean Precision: %.3f (%.3f)' % (mean(scores), std(scores)))\n",
        "\n",
        "pyplot.boxplot(results, labels=strategies, showmeans=True)\n",
        "pyplot.show()\n"
      ]
    },
    {
      "cell_type": "code",
      "execution_count": null,
      "metadata": {
        "id": "JiYrners-8Yo"
      },
      "outputs": [],
      "source": [
        "#%%\n",
        "from xgboost import XGBClassifier\n",
        "\n",
        "xgboost_model = XGBClassifier()\n",
        "xgboost_model.fit(X_train, y_train)\n",
        "\n",
        "y_pred = xgboost_model.predict(X_test)\n",
        "\n",
        "predictions = [round(value) for value in y_pred]\n",
        "\n",
        "precision = precision_score(y_test, predictions)\n"
      ]
    },
    {
      "cell_type": "code",
      "execution_count": null,
      "metadata": {
        "id": "2wYw9-TK-8Yp"
      },
      "outputs": [],
      "source": [
        "tree_clf = DecisionTreeClassifier()\n",
        "tree_clf.fit(X_train,y_train)\n",
        "predictions = tree_clf.predict(X_test)\n",
        "\n",
        "rnd_clf = RandomForestClassifier(n_estimators=500)\n",
        "rnd_clf.fit(X_train,y_train)\n",
        "rf_predictions = rnd_clf.predict(X_test)\n",
        "\n",
        "print(\"Random Forest Accuracy: \", accuracy_score(y_test, rf_predictions))\n",
        "print(\"Random Forest Precision: \", precision_score(y_test, rf_predictions))\n",
        "print(\"Random Forest Recall: \", recall_score(y_test, rf_predictions))\n",
        "confusion_matrix(y_test,rf_predictions)\n",
        "\n",
        "print(accuracy_score(y_test, predictions))\n",
        "print(precision_score(y_test, predictions))\n",
        "print(recall_score(y_test, predictions))\n",
        "confusion_matrix(y_test,predictions)"
      ]
    },
    {
      "cell_type": "code",
      "execution_count": null,
      "metadata": {
        "id": "TrIhPwn--8Yp"
      },
      "outputs": [],
      "source": [
        "from collections import Counter\n",
        "from imblearn.over_sampling import SMOTE\n",
        "\n",
        "sm = SMOTE(random_state = 42) \n",
        "X_res, y_res = sm.fit_resample(X_train, y_train)\n",
        "\n",
        "print('Original dataset shape %s'%Counter(y_train))\n",
        "print('Resampled dataset shape %s'%Counter(y_res))\n",
        "\n",
        "# Test the newly populated dataset \n",
        "rf_clf_resampled = RandomForestClassifier()\n",
        "rf_clf_resampled.fit(X_res,y_res)\n",
        "rf_predictions_after_resampled = rf_clf_resampled.predict(X_test)\n",
        "\n",
        "print(confusion_matrix(y_test, rf_predictions_after_resampled))\n",
        "print(accuracy_score(y_test, rf_predictions_after_resampled))\n",
        "print(precision_score(y_test, rf_predictions_after_resampled))\n",
        "print(recall_score(y_test, rf_predictions_after_resampled))\n"
      ]
    },
    {
      "cell_type": "code",
      "execution_count": 15,
      "metadata": {
        "colab": {
          "base_uri": "https://localhost:8080/"
        },
        "id": "9ydaH0RqCEh5",
        "outputId": "3bb2888f-033b-43a4-d0b6-22eb677873db"
      },
      "outputs": [
        {
          "output_type": "execute_result",
          "data": {
            "text/plain": [
              "(28648, 166)"
            ]
          },
          "metadata": {},
          "execution_count": 15
        }
      ],
      "source": [
        "X_ohe.shape"
      ]
    },
    {
      "cell_type": "code",
      "execution_count": 12,
      "metadata": {
        "colab": {
          "base_uri": "https://localhost:8080/"
        },
        "id": "rogmCTxeC511",
        "outputId": "27903e6d-08ac-494a-f27a-e5c7a3e9945d"
      },
      "outputs": [
        {
          "output_type": "stream",
          "name": "stdout",
          "text": [
            "[name: \"/device:CPU:0\"\n",
            "device_type: \"CPU\"\n",
            "memory_limit: 268435456\n",
            "locality {\n",
            "}\n",
            "incarnation: 13065003737839013090\n",
            "xla_global_id: -1\n",
            ", name: \"/device:GPU:0\"\n",
            "device_type: \"GPU\"\n",
            "memory_limit: 16139419648\n",
            "locality {\n",
            "  bus_id: 1\n",
            "  links {\n",
            "  }\n",
            "}\n",
            "incarnation: 854035294277164809\n",
            "physical_device_desc: \"device: 0, name: Tesla P100-PCIE-16GB, pci bus id: 0000:00:04.0, compute capability: 6.0\"\n",
            "xla_global_id: 416903419\n",
            "]\n"
          ]
        }
      ],
      "source": [
        "from tensorflow.python.client import device_lib\n",
        "print(device_lib.list_local_devices())"
      ]
    },
    {
      "cell_type": "code",
      "execution_count": 13,
      "metadata": {
        "colab": {
          "base_uri": "https://localhost:8080/"
        },
        "id": "F7O4jwgnDHON",
        "outputId": "21fee253-19a6-409b-9b9a-a885f9b45568"
      },
      "outputs": [
        {
          "output_type": "stream",
          "name": "stdout",
          "text": [
            "Device mapping:\n",
            "/job:localhost/replica:0/task:0/device:GPU:0 -> device: 0, name: Tesla P100-PCIE-16GB, pci bus id: 0000:00:04.0, compute capability: 6.0\n",
            "\n"
          ]
        }
      ],
      "source": [
        "import tensorflow as tf\n",
        "sess = tf.compat.v1.Session(config=tf.compat.v1.ConfigProto(log_device_placement=True))"
      ]
    },
    {
      "cell_type": "code",
      "execution_count": 14,
      "metadata": {
        "colab": {
          "base_uri": "https://localhost:8080/"
        },
        "id": "RUMRAm3KJRAh",
        "outputId": "22213d29-1847-4635-a559-34ff7311cd30"
      },
      "outputs": [
        {
          "output_type": "stream",
          "name": "stdout",
          "text": [
            "Num GPUs Available:  1\n"
          ]
        }
      ],
      "source": [
        "print(\"Num GPUs Available: \", len(tf.config.experimental.list_physical_devices('GPU')))"
      ]
    },
    {
      "cell_type": "code",
      "execution_count": null,
      "metadata": {
        "colab": {
          "base_uri": "https://localhost:8080/",
          "height": 36
        },
        "id": "Ub-b1H7GLey3",
        "outputId": "dde59419-fc42-4d40-c838-587bfca9583c"
      },
      "outputs": [
        {
          "data": {
            "application/vnd.google.colaboratory.intrinsic+json": {
              "type": "string"
            },
            "text/plain": [
              "'/device:GPU:0'"
            ]
          },
          "execution_count": 27,
          "metadata": {},
          "output_type": "execute_result"
        }
      ],
      "source": [
        "tf.test.gpu_device_name()"
      ]
    },
    {
      "cell_type": "code",
      "execution_count": 17,
      "metadata": {
        "id": "KAPOcwNZM8a_"
      },
      "outputs": [],
      "source": [
        "encoder = LabelEncoder()\n",
        "encoder.fit(y_ohe)\n",
        "encoded_Y = encoder.transform(y_ohe)"
      ]
    },
    {
      "cell_type": "code",
      "execution_count": 21,
      "metadata": {
        "colab": {
          "base_uri": "https://localhost:8080/"
        },
        "id": "BoksrR2R-8Yq",
        "outputId": "86d9d739-abf6-4f24-c5cd-123bfa8d7753"
      },
      "outputs": [
        {
          "output_type": "stream",
          "name": "stdout",
          "text": [
            "Epoch 1/100\n",
            "180/180 [==============================] - 4s 15ms/step - loss: 0.3423 - auc_4: 0.7310 - precision_4: 0.6241 - recall_4: 0.0581 - val_loss: 0.3227 - val_auc_4: 0.7743 - val_precision_4: 0.7164 - val_recall_4: 0.1304\n",
            "Epoch 2/100\n",
            "180/180 [==============================] - 2s 9ms/step - loss: 0.3249 - auc_4: 0.7672 - precision_4: 0.6892 - recall_4: 0.1107 - val_loss: 0.3180 - val_auc_4: 0.7802 - val_precision_4: 0.7516 - val_recall_4: 0.1603\n",
            "Epoch 3/100\n",
            "180/180 [==============================] - 1s 7ms/step - loss: 0.3220 - auc_4: 0.7726 - precision_4: 0.6661 - recall_4: 0.1260 - val_loss: 0.3169 - val_auc_4: 0.7808 - val_precision_4: 0.6368 - val_recall_4: 0.1929\n",
            "Epoch 4/100\n",
            "180/180 [==============================] - 1s 7ms/step - loss: 0.3185 - auc_4: 0.7794 - precision_4: 0.6636 - recall_4: 0.1447 - val_loss: 0.3149 - val_auc_4: 0.7868 - val_precision_4: 0.6979 - val_recall_4: 0.1821\n",
            "Epoch 5/100\n",
            "180/180 [==============================] - 1s 7ms/step - loss: 0.3170 - auc_4: 0.7828 - precision_4: 0.6557 - recall_4: 0.1494 - val_loss: 0.3167 - val_auc_4: 0.7809 - val_precision_4: 0.7914 - val_recall_4: 0.1495\n",
            "Epoch 6/100\n",
            "180/180 [==============================] - 1s 7ms/step - loss: 0.3138 - auc_4: 0.7893 - precision_4: 0.6846 - recall_4: 0.1555 - val_loss: 0.3119 - val_auc_4: 0.7890 - val_precision_4: 0.7120 - val_recall_4: 0.1848\n",
            "Epoch 7/100\n",
            "180/180 [==============================] - 1s 6ms/step - loss: 0.3098 - auc_4: 0.7978 - precision_4: 0.6862 - recall_4: 0.1626 - val_loss: 0.3126 - val_auc_4: 0.7899 - val_precision_4: 0.6553 - val_recall_4: 0.2092\n",
            "Epoch 8/100\n",
            "180/180 [==============================] - 1s 7ms/step - loss: 0.3072 - auc_4: 0.8010 - precision_4: 0.6816 - recall_4: 0.1701 - val_loss: 0.3126 - val_auc_4: 0.7903 - val_precision_4: 0.6904 - val_recall_4: 0.1848\n",
            "Epoch 9/100\n",
            "180/180 [==============================] - 1s 7ms/step - loss: 0.3030 - auc_4: 0.8085 - precision_4: 0.7152 - recall_4: 0.1800 - val_loss: 0.3126 - val_auc_4: 0.7928 - val_precision_4: 0.6283 - val_recall_4: 0.2296\n",
            "Epoch 10/100\n",
            "180/180 [==============================] - 1s 7ms/step - loss: 0.2996 - auc_4: 0.8160 - precision_4: 0.6924 - recall_4: 0.1919 - val_loss: 0.3133 - val_auc_4: 0.7960 - val_precision_4: 0.7143 - val_recall_4: 0.1698\n",
            "Epoch 11/100\n",
            "180/180 [==============================] - 1s 7ms/step - loss: 0.2974 - auc_4: 0.8180 - precision_4: 0.7084 - recall_4: 0.1997 - val_loss: 0.3121 - val_auc_4: 0.7883 - val_precision_4: 0.7228 - val_recall_4: 0.1807\n",
            "Epoch 12/100\n",
            "180/180 [==============================] - 1s 7ms/step - loss: 0.2942 - auc_4: 0.8237 - precision_4: 0.7378 - recall_4: 0.1997 - val_loss: 0.3126 - val_auc_4: 0.7952 - val_precision_4: 0.6149 - val_recall_4: 0.2690\n",
            "Epoch 13/100\n",
            "180/180 [==============================] - 1s 7ms/step - loss: 0.2891 - auc_4: 0.8316 - precision_4: 0.7204 - recall_4: 0.2170 - val_loss: 0.3106 - val_auc_4: 0.7945 - val_precision_4: 0.6371 - val_recall_4: 0.2242\n",
            "Epoch 14/100\n",
            "180/180 [==============================] - 1s 6ms/step - loss: 0.2860 - auc_4: 0.8363 - precision_4: 0.7397 - recall_4: 0.2306 - val_loss: 0.3438 - val_auc_4: 0.7972 - val_precision_4: 0.4619 - val_recall_4: 0.3872\n",
            "Epoch 15/100\n",
            "180/180 [==============================] - 1s 7ms/step - loss: 0.2866 - auc_4: 0.8346 - precision_4: 0.7144 - recall_4: 0.2455 - val_loss: 0.3142 - val_auc_4: 0.7941 - val_precision_4: 0.6101 - val_recall_4: 0.2636\n",
            "Epoch 16/100\n",
            "180/180 [==============================] - 1s 7ms/step - loss: 0.2832 - auc_4: 0.8394 - precision_4: 0.7199 - recall_4: 0.2479 - val_loss: 0.3104 - val_auc_4: 0.7971 - val_precision_4: 0.6221 - val_recall_4: 0.2595\n",
            "Epoch 17/100\n",
            "180/180 [==============================] - 2s 10ms/step - loss: 0.2772 - auc_4: 0.8484 - precision_4: 0.7417 - recall_4: 0.2516 - val_loss: 0.3139 - val_auc_4: 0.7939 - val_precision_4: 0.6812 - val_recall_4: 0.1916\n",
            "Epoch 18/100\n",
            "180/180 [==============================] - 1s 8ms/step - loss: 0.2751 - auc_4: 0.8506 - precision_4: 0.7535 - recall_4: 0.2710 - val_loss: 0.3115 - val_auc_4: 0.7970 - val_precision_4: 0.6771 - val_recall_4: 0.2052\n",
            "Epoch 19/100\n",
            "180/180 [==============================] - 1s 7ms/step - loss: 0.2711 - auc_4: 0.8556 - precision_4: 0.7538 - recall_4: 0.2703 - val_loss: 0.3180 - val_auc_4: 0.7942 - val_precision_4: 0.5680 - val_recall_4: 0.2894\n",
            "Epoch 20/100\n",
            "180/180 [==============================] - 1s 7ms/step - loss: 0.2737 - auc_4: 0.8520 - precision_4: 0.7448 - recall_4: 0.2903 - val_loss: 0.3149 - val_auc_4: 0.7908 - val_precision_4: 0.7235 - val_recall_4: 0.2133\n",
            "Epoch 21/100\n",
            "180/180 [==============================] - 1s 7ms/step - loss: 0.2656 - auc_4: 0.8641 - precision_4: 0.7722 - recall_4: 0.2958 - val_loss: 0.3111 - val_auc_4: 0.8007 - val_precision_4: 0.6872 - val_recall_4: 0.2269\n",
            "Epoch 22/100\n",
            "180/180 [==============================] - 1s 7ms/step - loss: 0.2625 - auc_4: 0.8671 - precision_4: 0.7762 - recall_4: 0.3015 - val_loss: 0.3128 - val_auc_4: 0.7973 - val_precision_4: 0.6652 - val_recall_4: 0.2106\n",
            "Epoch 23/100\n",
            "180/180 [==============================] - 1s 7ms/step - loss: 0.2598 - auc_4: 0.8707 - precision_4: 0.7710 - recall_4: 0.3178 - val_loss: 0.3117 - val_auc_4: 0.8002 - val_precision_4: 0.6400 - val_recall_4: 0.2609\n",
            "Epoch 24/100\n",
            "180/180 [==============================] - 1s 8ms/step - loss: 0.2583 - auc_4: 0.8714 - precision_4: 0.7886 - recall_4: 0.3229 - val_loss: 0.3200 - val_auc_4: 0.7990 - val_precision_4: 0.7027 - val_recall_4: 0.2120\n",
            "Epoch 25/100\n",
            "180/180 [==============================] - 1s 7ms/step - loss: 0.2551 - auc_4: 0.8764 - precision_4: 0.7727 - recall_4: 0.3243 - val_loss: 0.3176 - val_auc_4: 0.7951 - val_precision_4: 0.6842 - val_recall_4: 0.2296\n",
            "Epoch 26/100\n",
            "180/180 [==============================] - 1s 7ms/step - loss: 0.2527 - auc_4: 0.8787 - precision_4: 0.7809 - recall_4: 0.3304 - val_loss: 0.3145 - val_auc_4: 0.7949 - val_precision_4: 0.6103 - val_recall_4: 0.2894\n",
            "Epoch 27/100\n",
            "180/180 [==============================] - 1s 7ms/step - loss: 0.2500 - auc_4: 0.8821 - precision_4: 0.7793 - recall_4: 0.3501 - val_loss: 0.3333 - val_auc_4: 0.7984 - val_precision_4: 0.7018 - val_recall_4: 0.1630\n",
            "Epoch 28/100\n",
            "180/180 [==============================] - 1s 7ms/step - loss: 0.2473 - auc_4: 0.8853 - precision_4: 0.7854 - recall_4: 0.3542 - val_loss: 0.3179 - val_auc_4: 0.7966 - val_precision_4: 0.5897 - val_recall_4: 0.2812\n",
            "Epoch 29/100\n",
            "180/180 [==============================] - 1s 7ms/step - loss: 0.2437 - auc_4: 0.8895 - precision_4: 0.7998 - recall_4: 0.3596 - val_loss: 0.3167 - val_auc_4: 0.7999 - val_precision_4: 0.5710 - val_recall_4: 0.2894\n",
            "Epoch 30/100\n",
            "180/180 [==============================] - 1s 7ms/step - loss: 0.2429 - auc_4: 0.8897 - precision_4: 0.7822 - recall_4: 0.3633 - val_loss: 0.3180 - val_auc_4: 0.7962 - val_precision_4: 0.6397 - val_recall_4: 0.2582\n",
            "Epoch 31/100\n",
            "180/180 [==============================] - 1s 7ms/step - loss: 0.2418 - auc_4: 0.8907 - precision_4: 0.7771 - recall_4: 0.3728 - val_loss: 0.3221 - val_auc_4: 0.7962 - val_precision_4: 0.6763 - val_recall_4: 0.2215\n",
            "Epoch 32/100\n",
            "180/180 [==============================] - 1s 7ms/step - loss: 0.2381 - auc_4: 0.8949 - precision_4: 0.7875 - recall_4: 0.3813 - val_loss: 0.3348 - val_auc_4: 0.7961 - val_precision_4: 0.4939 - val_recall_4: 0.3845\n",
            "Epoch 33/100\n",
            "180/180 [==============================] - 1s 7ms/step - loss: 0.2359 - auc_4: 0.8976 - precision_4: 0.7773 - recall_4: 0.3898 - val_loss: 0.3183 - val_auc_4: 0.7978 - val_precision_4: 0.6129 - val_recall_4: 0.2840\n",
            "Epoch 34/100\n",
            "180/180 [==============================] - 1s 7ms/step - loss: 0.2357 - auc_4: 0.8978 - precision_4: 0.7831 - recall_4: 0.3959 - val_loss: 0.3177 - val_auc_4: 0.7954 - val_precision_4: 0.6197 - val_recall_4: 0.2568\n",
            "Epoch 35/100\n",
            "180/180 [==============================] - 1s 7ms/step - loss: 0.2323 - auc_4: 0.9007 - precision_4: 0.7968 - recall_4: 0.4075 - val_loss: 0.3224 - val_auc_4: 0.8027 - val_precision_4: 0.5308 - val_recall_4: 0.3274\n",
            "Epoch 36/100\n",
            "180/180 [==============================] - 1s 7ms/step - loss: 0.2303 - auc_4: 0.9032 - precision_4: 0.7981 - recall_4: 0.4054 - val_loss: 0.3222 - val_auc_4: 0.8003 - val_precision_4: 0.5778 - val_recall_4: 0.2826\n",
            "Epoch 37/100\n",
            "180/180 [==============================] - 1s 8ms/step - loss: 0.2296 - auc_4: 0.9031 - precision_4: 0.7867 - recall_4: 0.4183 - val_loss: 0.3269 - val_auc_4: 0.7970 - val_precision_4: 0.6475 - val_recall_4: 0.2296\n",
            "Epoch 38/100\n",
            "180/180 [==============================] - 1s 7ms/step - loss: 0.2280 - auc_4: 0.9049 - precision_4: 0.7974 - recall_4: 0.4143 - val_loss: 0.3287 - val_auc_4: 0.8005 - val_precision_4: 0.5127 - val_recall_4: 0.3560\n",
            "Epoch 39/100\n",
            "180/180 [==============================] - 1s 7ms/step - loss: 0.2262 - auc_4: 0.9062 - precision_4: 0.7953 - recall_4: 0.4221 - val_loss: 0.3267 - val_auc_4: 0.7955 - val_precision_4: 0.5900 - val_recall_4: 0.2894\n",
            "Epoch 40/100\n",
            "180/180 [==============================] - 1s 8ms/step - loss: 0.2225 - auc_4: 0.9097 - precision_4: 0.8103 - recall_4: 0.4367 - val_loss: 0.3290 - val_auc_4: 0.8006 - val_precision_4: 0.5354 - val_recall_4: 0.3288\n",
            "Epoch 41/100\n",
            "180/180 [==============================] - 1s 7ms/step - loss: 0.2213 - auc_4: 0.9117 - precision_4: 0.8073 - recall_4: 0.4367 - val_loss: 0.3275 - val_auc_4: 0.7990 - val_precision_4: 0.5777 - val_recall_4: 0.3030\n",
            "Epoch 42/100\n",
            "180/180 [==============================] - 1s 7ms/step - loss: 0.2191 - auc_4: 0.9131 - precision_4: 0.8052 - recall_4: 0.4435 - val_loss: 0.3290 - val_auc_4: 0.7927 - val_precision_4: 0.5564 - val_recall_4: 0.2948\n",
            "Epoch 43/100\n",
            "180/180 [==============================] - 1s 7ms/step - loss: 0.2168 - auc_4: 0.9157 - precision_4: 0.8071 - recall_4: 0.4533 - val_loss: 0.3430 - val_auc_4: 0.7959 - val_precision_4: 0.4700 - val_recall_4: 0.3832\n",
            "Epoch 44/100\n",
            "180/180 [==============================] - 2s 10ms/step - loss: 0.2176 - auc_4: 0.9150 - precision_4: 0.7909 - recall_4: 0.4469 - val_loss: 0.3310 - val_auc_4: 0.7946 - val_precision_4: 0.5341 - val_recall_4: 0.3302\n",
            "Epoch 45/100\n",
            "180/180 [==============================] - 2s 10ms/step - loss: 0.2147 - auc_4: 0.9172 - precision_4: 0.8135 - recall_4: 0.4577 - val_loss: 0.3402 - val_auc_4: 0.7972 - val_precision_4: 0.4895 - val_recall_4: 0.3791\n",
            "Epoch 46/100\n",
            "180/180 [==============================] - 1s 7ms/step - loss: 0.2151 - auc_4: 0.9171 - precision_4: 0.7910 - recall_4: 0.4638 - val_loss: 0.3326 - val_auc_4: 0.7992 - val_precision_4: 0.5316 - val_recall_4: 0.3315\n",
            "Epoch 47/100\n",
            "180/180 [==============================] - 1s 7ms/step - loss: 0.2114 - auc_4: 0.9205 - precision_4: 0.8164 - recall_4: 0.4666 - val_loss: 0.3361 - val_auc_4: 0.8011 - val_precision_4: 0.5453 - val_recall_4: 0.3356\n",
            "Epoch 48/100\n",
            "180/180 [==============================] - 1s 7ms/step - loss: 0.2091 - auc_4: 0.9230 - precision_4: 0.8074 - recall_4: 0.4767 - val_loss: 0.3393 - val_auc_4: 0.7921 - val_precision_4: 0.4970 - val_recall_4: 0.3424\n",
            "Epoch 49/100\n",
            "180/180 [==============================] - 1s 7ms/step - loss: 0.2106 - auc_4: 0.9210 - precision_4: 0.8067 - recall_4: 0.4761 - val_loss: 0.3314 - val_auc_4: 0.8015 - val_precision_4: 0.5701 - val_recall_4: 0.3261\n",
            "Epoch 50/100\n",
            "180/180 [==============================] - 1s 7ms/step - loss: 0.2125 - auc_4: 0.9201 - precision_4: 0.7930 - recall_4: 0.4825 - val_loss: 0.3352 - val_auc_4: 0.8008 - val_precision_4: 0.5172 - val_recall_4: 0.3668\n",
            "Epoch 51/100\n",
            "180/180 [==============================] - 2s 10ms/step - loss: 0.2037 - auc_4: 0.9275 - precision_4: 0.8108 - recall_4: 0.4859 - val_loss: 0.3371 - val_auc_4: 0.7962 - val_precision_4: 0.5168 - val_recall_4: 0.3546\n",
            "Epoch 52/100\n",
            "180/180 [==============================] - 1s 7ms/step - loss: 0.2034 - auc_4: 0.9276 - precision_4: 0.8196 - recall_4: 0.4846 - val_loss: 0.3397 - val_auc_4: 0.7960 - val_precision_4: 0.5744 - val_recall_4: 0.2989\n",
            "Epoch 53/100\n",
            "180/180 [==============================] - 1s 7ms/step - loss: 0.2014 - auc_4: 0.9292 - precision_4: 0.8101 - recall_4: 0.5012 - val_loss: 0.3463 - val_auc_4: 0.7886 - val_precision_4: 0.6549 - val_recall_4: 0.2527\n",
            "Epoch 54/100\n",
            "180/180 [==============================] - 1s 7ms/step - loss: 0.2004 - auc_4: 0.9306 - precision_4: 0.8134 - recall_4: 0.4930 - val_loss: 0.3387 - val_auc_4: 0.7966 - val_precision_4: 0.5419 - val_recall_4: 0.3342\n",
            "Epoch 55/100\n",
            "180/180 [==============================] - 1s 7ms/step - loss: 0.1979 - auc_4: 0.9326 - precision_4: 0.8224 - recall_4: 0.4968 - val_loss: 0.3418 - val_auc_4: 0.7917 - val_precision_4: 0.5407 - val_recall_4: 0.3247\n",
            "Epoch 56/100\n",
            "180/180 [==============================] - 1s 7ms/step - loss: 0.1966 - auc_4: 0.9336 - precision_4: 0.8206 - recall_4: 0.5080 - val_loss: 0.3461 - val_auc_4: 0.7883 - val_precision_4: 0.5219 - val_recall_4: 0.3071\n",
            "Epoch 57/100\n",
            "180/180 [==============================] - 1s 7ms/step - loss: 0.1984 - auc_4: 0.9313 - precision_4: 0.8152 - recall_4: 0.5151 - val_loss: 0.3554 - val_auc_4: 0.7885 - val_precision_4: 0.5977 - val_recall_4: 0.2120\n",
            "Epoch 58/100\n",
            "180/180 [==============================] - 1s 7ms/step - loss: 0.1941 - auc_4: 0.9363 - precision_4: 0.8217 - recall_4: 0.5148 - val_loss: 0.3444 - val_auc_4: 0.8037 - val_precision_4: 0.5111 - val_recall_4: 0.3750\n",
            "Epoch 59/100\n",
            "180/180 [==============================] - 1s 7ms/step - loss: 0.1949 - auc_4: 0.9345 - precision_4: 0.8206 - recall_4: 0.5236 - val_loss: 0.3595 - val_auc_4: 0.7955 - val_precision_4: 0.6333 - val_recall_4: 0.2323\n",
            "Epoch 60/100\n",
            "180/180 [==============================] - 1s 7ms/step - loss: 0.1948 - auc_4: 0.9349 - precision_4: 0.8140 - recall_4: 0.5158 - val_loss: 0.3496 - val_auc_4: 0.7923 - val_precision_4: 0.5121 - val_recall_4: 0.3438\n",
            "Epoch 61/100\n",
            "180/180 [==============================] - 1s 8ms/step - loss: 0.1914 - auc_4: 0.9377 - precision_4: 0.8211 - recall_4: 0.5253 - val_loss: 0.3571 - val_auc_4: 0.7902 - val_precision_4: 0.4582 - val_recall_4: 0.3872\n",
            "Epoch 62/100\n",
            "180/180 [==============================] - 1s 7ms/step - loss: 0.1898 - auc_4: 0.9383 - precision_4: 0.8293 - recall_4: 0.5297 - val_loss: 0.3711 - val_auc_4: 0.7952 - val_precision_4: 0.4239 - val_recall_4: 0.4429\n",
            "Epoch 63/100\n",
            "180/180 [==============================] - 1s 8ms/step - loss: 0.1909 - auc_4: 0.9379 - precision_4: 0.8139 - recall_4: 0.5362 - val_loss: 0.3497 - val_auc_4: 0.7892 - val_precision_4: 0.5453 - val_recall_4: 0.3356\n",
            "Epoch 64/100\n",
            "180/180 [==============================] - 1s 7ms/step - loss: 0.1914 - auc_4: 0.9369 - precision_4: 0.8177 - recall_4: 0.5284 - val_loss: 0.3546 - val_auc_4: 0.7921 - val_precision_4: 0.5862 - val_recall_4: 0.2772\n",
            "Epoch 65/100\n",
            "180/180 [==============================] - 1s 7ms/step - loss: 0.1874 - auc_4: 0.9402 - precision_4: 0.8275 - recall_4: 0.5423 - val_loss: 0.3531 - val_auc_4: 0.8000 - val_precision_4: 0.5166 - val_recall_4: 0.3601\n",
            "Epoch 66/100\n",
            "180/180 [==============================] - 1s 8ms/step - loss: 0.1864 - auc_4: 0.9416 - precision_4: 0.8154 - recall_4: 0.5443 - val_loss: 0.3527 - val_auc_4: 0.7929 - val_precision_4: 0.5190 - val_recall_4: 0.3342\n",
            "Epoch 67/100\n",
            "180/180 [==============================] - 1s 7ms/step - loss: 0.1832 - auc_4: 0.9430 - precision_4: 0.8431 - recall_4: 0.5494 - val_loss: 0.3564 - val_auc_4: 0.7928 - val_precision_4: 0.4786 - val_recall_4: 0.3791\n",
            "Epoch 68/100\n",
            "180/180 [==============================] - 1s 7ms/step - loss: 0.1902 - auc_4: 0.9383 - precision_4: 0.8104 - recall_4: 0.5457 - val_loss: 0.3528 - val_auc_4: 0.7950 - val_precision_4: 0.5120 - val_recall_4: 0.3478\n",
            "Epoch 69/100\n",
            "180/180 [==============================] - 1s 8ms/step - loss: 0.1814 - auc_4: 0.9451 - precision_4: 0.8222 - recall_4: 0.5559 - val_loss: 0.3707 - val_auc_4: 0.7997 - val_precision_4: 0.4460 - val_recall_4: 0.4375\n",
            "Epoch 70/100\n",
            "180/180 [==============================] - 2s 11ms/step - loss: 0.1837 - auc_4: 0.9428 - precision_4: 0.8181 - recall_4: 0.5620 - val_loss: 0.3664 - val_auc_4: 0.7912 - val_precision_4: 0.5646 - val_recall_4: 0.2908\n",
            "Epoch 71/100\n",
            "180/180 [==============================] - 1s 7ms/step - loss: 0.1801 - auc_4: 0.9464 - precision_4: 0.8271 - recall_4: 0.5555 - val_loss: 0.3592 - val_auc_4: 0.7963 - val_precision_4: 0.4838 - val_recall_4: 0.3845\n",
            "Epoch 72/100\n",
            "180/180 [==============================] - 1s 7ms/step - loss: 0.1770 - auc_4: 0.9483 - precision_4: 0.8440 - recall_4: 0.5711 - val_loss: 0.3650 - val_auc_4: 0.7956 - val_precision_4: 0.4653 - val_recall_4: 0.4008\n",
            "Epoch 73/100\n",
            "180/180 [==============================] - 1s 7ms/step - loss: 0.1780 - auc_4: 0.9470 - precision_4: 0.8327 - recall_4: 0.5647 - val_loss: 0.3608 - val_auc_4: 0.7963 - val_precision_4: 0.4883 - val_recall_4: 0.3981\n",
            "Epoch 74/100\n",
            "180/180 [==============================] - 1s 7ms/step - loss: 0.1754 - auc_4: 0.9487 - precision_4: 0.8446 - recall_4: 0.5739 - val_loss: 0.3839 - val_auc_4: 0.7809 - val_precision_4: 0.6090 - val_recall_4: 0.2391\n",
            "Epoch 75/100\n",
            "180/180 [==============================] - 1s 7ms/step - loss: 0.1764 - auc_4: 0.9483 - precision_4: 0.8388 - recall_4: 0.5688 - val_loss: 0.3703 - val_auc_4: 0.7956 - val_precision_4: 0.4579 - val_recall_4: 0.3995\n",
            "Epoch 76/100\n",
            "180/180 [==============================] - 1s 7ms/step - loss: 0.1776 - auc_4: 0.9479 - precision_4: 0.8230 - recall_4: 0.5684 - val_loss: 0.3605 - val_auc_4: 0.7957 - val_precision_4: 0.4938 - val_recall_4: 0.3804\n",
            "Epoch 77/100\n",
            "180/180 [==============================] - 1s 7ms/step - loss: 0.1737 - auc_4: 0.9507 - precision_4: 0.8373 - recall_4: 0.5749 - val_loss: 0.3763 - val_auc_4: 0.7968 - val_precision_4: 0.5623 - val_recall_4: 0.2880\n",
            "Epoch 78/100\n",
            "180/180 [==============================] - 1s 7ms/step - loss: 0.1715 - auc_4: 0.9520 - precision_4: 0.8357 - recall_4: 0.5803 - val_loss: 0.3742 - val_auc_4: 0.7948 - val_precision_4: 0.4838 - val_recall_4: 0.4049\n",
            "Epoch 79/100\n",
            "180/180 [==============================] - 1s 7ms/step - loss: 0.1740 - auc_4: 0.9502 - precision_4: 0.8181 - recall_4: 0.5908 - val_loss: 0.3768 - val_auc_4: 0.7890 - val_precision_4: 0.5781 - val_recall_4: 0.3016\n",
            "Epoch 80/100\n",
            "180/180 [==============================] - 1s 7ms/step - loss: 0.1704 - auc_4: 0.9526 - precision_4: 0.8435 - recall_4: 0.5803 - val_loss: 0.3739 - val_auc_4: 0.7984 - val_precision_4: 0.4780 - val_recall_4: 0.3832\n",
            "Epoch 81/100\n",
            "180/180 [==============================] - 1s 7ms/step - loss: 0.1710 - auc_4: 0.9521 - precision_4: 0.8381 - recall_4: 0.5925 - val_loss: 0.3729 - val_auc_4: 0.7903 - val_precision_4: 0.5399 - val_recall_4: 0.3220\n",
            "Epoch 82/100\n",
            "180/180 [==============================] - 1s 7ms/step - loss: 0.1669 - auc_4: 0.9550 - precision_4: 0.8434 - recall_4: 0.5942 - val_loss: 0.3745 - val_auc_4: 0.7931 - val_precision_4: 0.4948 - val_recall_4: 0.3872\n",
            "Epoch 83/100\n",
            "180/180 [==============================] - 1s 7ms/step - loss: 0.1684 - auc_4: 0.9534 - precision_4: 0.8406 - recall_4: 0.5980 - val_loss: 0.3748 - val_auc_4: 0.7918 - val_precision_4: 0.5122 - val_recall_4: 0.3410\n",
            "Epoch 84/100\n",
            "180/180 [==============================] - 1s 7ms/step - loss: 0.1676 - auc_4: 0.9543 - precision_4: 0.8421 - recall_4: 0.5956 - val_loss: 0.3767 - val_auc_4: 0.7859 - val_precision_4: 0.5364 - val_recall_4: 0.3003\n",
            "Epoch 85/100\n",
            "180/180 [==============================] - 1s 7ms/step - loss: 0.1657 - auc_4: 0.9556 - precision_4: 0.8377 - recall_4: 0.5942 - val_loss: 0.3768 - val_auc_4: 0.7977 - val_precision_4: 0.5038 - val_recall_4: 0.3587\n",
            "Epoch 86/100\n",
            "180/180 [==============================] - 1s 7ms/step - loss: 0.1637 - auc_4: 0.9563 - precision_4: 0.8474 - recall_4: 0.6051 - val_loss: 0.3735 - val_auc_4: 0.7845 - val_precision_4: 0.4866 - val_recall_4: 0.3696\n",
            "Epoch 87/100\n",
            "180/180 [==============================] - 1s 7ms/step - loss: 0.1661 - auc_4: 0.9545 - precision_4: 0.8403 - recall_4: 0.6092 - val_loss: 0.3860 - val_auc_4: 0.7937 - val_precision_4: 0.4761 - val_recall_4: 0.3927\n",
            "Epoch 88/100\n",
            "180/180 [==============================] - 1s 7ms/step - loss: 0.1631 - auc_4: 0.9573 - precision_4: 0.8432 - recall_4: 0.6170 - val_loss: 0.3904 - val_auc_4: 0.7940 - val_precision_4: 0.4553 - val_recall_4: 0.4361\n",
            "Epoch 89/100\n",
            "180/180 [==============================] - 1s 7ms/step - loss: 0.1614 - auc_4: 0.9578 - precision_4: 0.8505 - recall_4: 0.6200 - val_loss: 0.3803 - val_auc_4: 0.7928 - val_precision_4: 0.5047 - val_recall_4: 0.3655\n",
            "Epoch 90/100\n",
            "180/180 [==============================] - 1s 7ms/step - loss: 0.1620 - auc_4: 0.9571 - precision_4: 0.8493 - recall_4: 0.6217 - val_loss: 0.3929 - val_auc_4: 0.7824 - val_precision_4: 0.5267 - val_recall_4: 0.3084\n",
            "Epoch 91/100\n",
            "180/180 [==============================] - 1s 7ms/step - loss: 0.1613 - auc_4: 0.9578 - precision_4: 0.8487 - recall_4: 0.6095 - val_loss: 0.3844 - val_auc_4: 0.7855 - val_precision_4: 0.5469 - val_recall_4: 0.3329\n",
            "Epoch 92/100\n",
            "180/180 [==============================] - 1s 7ms/step - loss: 0.1605 - auc_4: 0.9586 - precision_4: 0.8405 - recall_4: 0.6139 - val_loss: 0.3999 - val_auc_4: 0.8002 - val_precision_4: 0.4703 - val_recall_4: 0.4198\n",
            "Epoch 93/100\n",
            "180/180 [==============================] - 1s 7ms/step - loss: 0.1604 - auc_4: 0.9586 - precision_4: 0.8438 - recall_4: 0.6255 - val_loss: 0.3883 - val_auc_4: 0.7824 - val_precision_4: 0.5425 - val_recall_4: 0.3207\n",
            "Epoch 94/100\n",
            "180/180 [==============================] - 1s 7ms/step - loss: 0.1598 - auc_4: 0.9589 - precision_4: 0.8370 - recall_4: 0.6139 - val_loss: 0.3888 - val_auc_4: 0.7826 - val_precision_4: 0.4907 - val_recall_4: 0.3587\n",
            "Epoch 95/100\n",
            "180/180 [==============================] - 1s 7ms/step - loss: 0.1594 - auc_4: 0.9590 - precision_4: 0.8464 - recall_4: 0.6326 - val_loss: 0.3897 - val_auc_4: 0.7792 - val_precision_4: 0.4838 - val_recall_4: 0.3641\n",
            "Epoch 96/100\n",
            "180/180 [==============================] - 1s 7ms/step - loss: 0.1571 - auc_4: 0.9606 - precision_4: 0.8399 - recall_4: 0.6272 - val_loss: 0.3886 - val_auc_4: 0.7874 - val_precision_4: 0.4741 - val_recall_4: 0.3736\n",
            "Epoch 97/100\n",
            "180/180 [==============================] - 1s 7ms/step - loss: 0.1544 - auc_4: 0.9626 - precision_4: 0.8519 - recall_4: 0.6309 - val_loss: 0.3980 - val_auc_4: 0.7841 - val_precision_4: 0.4551 - val_recall_4: 0.3791\n",
            "Epoch 98/100\n",
            "180/180 [==============================] - 1s 7ms/step - loss: 0.1562 - auc_4: 0.9614 - precision_4: 0.8465 - recall_4: 0.6309 - val_loss: 0.4005 - val_auc_4: 0.7757 - val_precision_4: 0.5213 - val_recall_4: 0.2989\n",
            "Epoch 99/100\n",
            "180/180 [==============================] - 1s 7ms/step - loss: 0.1545 - auc_4: 0.9619 - precision_4: 0.8468 - recall_4: 0.6343 - val_loss: 0.3981 - val_auc_4: 0.7901 - val_precision_4: 0.4354 - val_recall_4: 0.4212\n",
            "Epoch 100/100\n",
            "180/180 [==============================] - 1s 7ms/step - loss: 0.1526 - auc_4: 0.9629 - precision_4: 0.8580 - recall_4: 0.6465 - val_loss: 0.4021 - val_auc_4: 0.7880 - val_precision_4: 0.4980 - val_recall_4: 0.3438\n"
          ]
        }
      ],
      "source": [
        "from sklearn.preprocessing import LabelEncoder\n",
        "from keras import metrics\n",
        "\n",
        "with tf.device(\"/device:GPU:0\"):\n",
        "\n",
        "  # create model\n",
        "\tmodel = Sequential()\n",
        "\tmodel.add(Dense(166, input_dim=166, activation='relu'))\n",
        "\tmodel.add(Dense(1, activation='sigmoid'))\n",
        "\t# Compile model\n",
        "\tmodel.compile(loss='binary_crossentropy', optimizer='adam', metrics=[metrics.AUC(),\n",
        "\t\t\t\t\t\t\t\t\t\t\t\t\t\t\t\t\t\t\t\t\t\t\t\t\t\t\t\t\t\t\t\t\tmetrics.Precision(),\n",
        "\t\t\t\t\t\t\t\t\t\t\t\t\t\t\t\t\t\t\t\t\t\t\t\t\t\t\t\t\t\t\t\t\tmetrics.Recall()]) \n",
        " \n",
        "\n",
        "\thistory = model.fit(\n",
        "\t\tX_train_ohe,\n",
        "    y_train_ohe,\n",
        "    batch_size=128,\n",
        "    epochs=100,\n",
        "    # We pass some validation for\n",
        "    # monitoring validation loss and metrics\n",
        "    # at the end of each epoch\n",
        "    validation_data=(X_test_ohe, y_test_ohe),\n",
        ")\n",
        "\n"
      ]
    },
    {
      "cell_type": "code",
      "execution_count": null,
      "metadata": {
        "id": "q9WWbiCsQt-d"
      },
      "outputs": [],
      "source": [
        "\testimator = KerasClassifier(build_fn=create_baseline, epochs=100, batch_size=5, verbose=2)\n",
        "\tkfold = StratifiedKFold(n_splits=10, shuffle=True)\n",
        "\tresults = cross_val_score(estimator, X_ohe, encoded_Y, cv=kfold)"
      ]
    },
    {
      "cell_type": "code",
      "execution_count": null,
      "metadata": {
        "id": "NKAFFBTT-8Yq"
      },
      "outputs": [],
      "source": [
        ""
      ]
    }
  ],
  "metadata": {
    "accelerator": "GPU",
    "colab": {
      "name": "main_for_colab.ipynb",
      "provenance": [],
      "include_colab_link": true
    },
    "gpuClass": "standard",
    "kernelspec": {
      "display_name": "Python 3.7.11 ('UNIV6080')",
      "language": "python",
      "name": "python3"
    },
    "language_info": {
      "codemirror_mode": {
        "name": "ipython",
        "version": 3
      },
      "file_extension": ".py",
      "mimetype": "text/x-python",
      "name": "python",
      "nbconvert_exporter": "python",
      "pygments_lexer": "ipython3",
      "version": "3.7.11"
    },
    "orig_nbformat": 4,
    "vscode": {
      "interpreter": {
        "hash": "b2fd2b513d366d7945501ec4f3a6404a95e05f8f415fe994cecd93a2d3f5ae51"
      }
    }
  },
  "nbformat": 4,
  "nbformat_minor": 0
}