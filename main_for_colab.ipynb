{
 "cells": [
  {
   "cell_type": "code",
   "execution_count": null,
   "metadata": {},
   "outputs": [],
   "source": [
    "import pandas as pd\n",
    "import numpy as np\n",
    "from sklearn.tree import DecisionTreeClassifier\n",
    "from sklearn.model_selection import train_test_split\n",
    "from sklearn.metrics import accuracy_score\n",
    "from sklearn.metrics import precision_score\n",
    "from sklearn.metrics import f1_score\n",
    "from sklearn.metrics import precision_score, recall_score\n",
    "from sklearn.model_selection import cross_val_predict\n",
    "from sklearn.metrics import confusion_matrix\n",
    "from sklearn.ensemble import RandomForestClassifier\n",
    "from sklearn.linear_model import LogisticRegression\n",
    "from sklearn.svm import SVC \n",
    "from sklearn.ensemble import VotingClassifier\n",
    "from sklearn.model_selection import cross_val_score\n",
    "from sklearn.model_selection import RepeatedStratifiedKFold\n",
    "from sklearn.pipeline import Pipeline\n",
    "from sklearn.impute import KNNImputer\n",
    "from numpy import mean\n",
    "from numpy import std\n",
    "from matplotlib import pyplot\n",
    "import xgboost as xgb"
   ]
  },
  {
   "cell_type": "code",
   "execution_count": null,
   "metadata": {},
   "outputs": [],
   "source": [
    "df_merged_sorted = pd.read_excel(\"Nans_removed_dataset.xlsx\", index_col =  [0, 1])\n",
    "companies_list = df_merged_sorted.index.get_level_values('Company Name').unique().tolist()\n",
    "print(companies_list)"
   ]
  },
  {
   "cell_type": "code",
   "execution_count": null,
   "metadata": {},
   "outputs": [],
   "source": [
    "# Check the number of missing values before filling\n",
    "df_merged_sorted.isna().sum()\n",
    "columns_list = list(df_merged_sorted.columns)\n",
    "df_list = []"
   ]
  },
  {
   "cell_type": "code",
   "execution_count": null,
   "metadata": {},
   "outputs": [],
   "source": [
    "for company in companies_list:\n",
    "\n",
    "    subset_df = df_merged_sorted.loc[company].bfill(axis = \"rows\")\n",
    "    df_list.append(subset_df)\n",
    "\n",
    "vertical_concat = pd.concat(df_list, axis=0)\n",
    "vertical_concat.isna().sum() "
   ]
  },
  {
   "cell_type": "code",
   "execution_count": null,
   "metadata": {},
   "outputs": [],
   "source": [
    "vertical_concat.head()\n"
   ]
  },
  {
   "cell_type": "code",
   "execution_count": null,
   "metadata": {},
   "outputs": [],
   "source": [
    "vertical_concat_features = vertical_concat.iloc[:,2:56]\n",
    "# N_neighbors is a preprocessing hyperparameter\n",
    "impute_knn = KNNImputer(n_neighbors=5)\n",
    "knn_imputed_df = impute_knn.fit_transform(vertical_concat_features)"
   ]
  },
  {
   "cell_type": "code",
   "execution_count": null,
   "metadata": {},
   "outputs": [],
   "source": [
    "#%% TRAINING\n",
    "# Drop the row that has NaN values (last row)\n",
    "X = np.array(vertical_concat_features)\n",
    "y = np.array(vertical_concat[\"Label\"])\n",
    "X_train, X_test, y_train, y_test = train_test_split(X, y, \n",
    "                                   test_size=0.3, random_state=42)\n"
   ]
  },
  {
   "cell_type": "code",
   "execution_count": null,
   "metadata": {},
   "outputs": [],
   "source": [
    "#%%\n",
    "results = list()\n",
    "strategies = [str(i) for i in [1,3,5,7,9,15,18,21]]\n",
    "\n",
    "for s in strategies:\n",
    "\t# create the modeling pipeline\n",
    "    pipeline = Pipeline(steps=[('i', KNNImputer(n_neighbors=int(s))), ('m', RandomForestClassifier())])\n",
    "    # define model evaluation\n",
    "    cv = RepeatedStratifiedKFold(n_splits=10, n_repeats=3, random_state=1)\n",
    "    # evaluate model\n",
    "    scores = cross_val_score(pipeline, X, y, scoring='precision', cv=cv, n_jobs=-1, error_score='raise')\n",
    "    results.append(scores)\n",
    "    print('Mean Precision: %.3f (%.3f)' % (mean(scores), std(scores)))\n",
    "\n",
    "pyplot.boxplot(results, labels=strategies, showmeans=True)\n",
    "pyplot.show()\n"
   ]
  },
  {
   "cell_type": "code",
   "execution_count": null,
   "metadata": {},
   "outputs": [],
   "source": [
    "#%%\n",
    "from xgboost import XGBClassifier\n",
    "\n",
    "xgboost_model = XGBClassifier()\n",
    "xgboost_model.fit(X_train, y_train)\n",
    "\n",
    "y_pred = xgboost_model.predict(X_test)\n",
    "\n",
    "predictions = [round(value) for value in y_pred]\n",
    "\n",
    "precision = precision_score(y_test, predictions)\n"
   ]
  },
  {
   "cell_type": "code",
   "execution_count": null,
   "metadata": {},
   "outputs": [],
   "source": [
    "tree_clf = DecisionTreeClassifier()\n",
    "tree_clf.fit(X_train,y_train)\n",
    "predictions = tree_clf.predict(X_test)\n",
    "\n",
    "rnd_clf = RandomForestClassifier(n_estimators=500)\n",
    "rnd_clf.fit(X_train,y_train)\n",
    "rf_predictions = rnd_clf.predict(X_test)\n",
    "\n",
    "print(\"Random Forest Accuracy: \", accuracy_score(y_test, rf_predictions))\n",
    "print(\"Random Forest Precision: \", precision_score(y_test, rf_predictions))\n",
    "print(\"Random Forest Recall: \", recall_score(y_test, rf_predictions))\n",
    "confusion_matrix(y_test,rf_predictions)\n",
    "\n",
    "print(accuracy_score(y_test, predictions))\n",
    "print(precision_score(y_test, predictions))\n",
    "print(recall_score(y_test, predictions))\n",
    "confusion_matrix(y_test,predictions)"
   ]
  },
  {
   "cell_type": "code",
   "execution_count": null,
   "metadata": {},
   "outputs": [],
   "source": [
    "from collections import Counter\n",
    "from imblearn.over_sampling import SMOTE\n",
    "\n",
    "sm = SMOTE(random_state = 42) \n",
    "X_res, y_res = sm.fit_resample(X_train, y_train)\n",
    "\n",
    "print('Original dataset shape %s'%Counter(y_train))\n",
    "print('Resampled dataset shape %s'%Counter(y_res))\n",
    "\n",
    "# Test the newly populated dataset \n",
    "rf_clf_resampled = RandomForestClassifier()\n",
    "rf_clf_resampled.fit(X_res,y_res)\n",
    "rf_predictions_after_resampled = rf_clf_resampled.predict(X_test)\n",
    "\n",
    "print(confusion_matrix(y_test, rf_predictions_after_resampled))\n",
    "print(accuracy_score(y_test, rf_predictions_after_resampled))\n",
    "print(precision_score(y_test, rf_predictions_after_resampled))\n",
    "print(recall_score(y_test, rf_predictions_after_resampled))\n"
   ]
  }
 ],
 "metadata": {
  "kernelspec": {
   "display_name": "Python 3.7.3 64-bit",
   "language": "python",
   "name": "python3"
  },
  "language_info": {
   "codemirror_mode": {
    "name": "ipython",
    "version": 3
   },
   "file_extension": ".py",
   "mimetype": "text/x-python",
   "name": "python",
   "nbconvert_exporter": "python",
   "pygments_lexer": "ipython3",
   "version": "3.7.3"
  },
  "orig_nbformat": 4,
  "vscode": {
   "interpreter": {
    "hash": "aee8b7b246df8f9039afb4144a1f6fd8d2ca17a180786b69acc140d282b71a49"
   }
  }
 },
 "nbformat": 4,
 "nbformat_minor": 2
}
